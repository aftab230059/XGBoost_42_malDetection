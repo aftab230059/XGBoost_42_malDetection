{
 "cells": [
  {
   "cell_type": "code",
   "execution_count": 1,
   "id": "e4b87e2b",
   "metadata": {},
   "outputs": [
    {
     "name": "stderr",
     "output_type": "stream",
     "text": [
      "2025-08-26 17:53:35.429160: I tensorflow/core/util/port.cc:153] oneDNN custom operations are on. You may see slightly different numerical results due to floating-point round-off errors from different computation orders. To turn them off, set the environment variable `TF_ENABLE_ONEDNN_OPTS=0`.\n",
      "2025-08-26 17:53:35.576667: E external/local_xla/xla/stream_executor/cuda/cuda_fft.cc:467] Unable to register cuFFT factory: Attempting to register factory for plugin cuFFT when one has already been registered\n",
      "WARNING: All log messages before absl::InitializeLog() is called are written to STDERR\n",
      "E0000 00:00:1756223615.638102 1838335 cuda_dnn.cc:8579] Unable to register cuDNN factory: Attempting to register factory for plugin cuDNN when one has already been registered\n",
      "E0000 00:00:1756223615.657682 1838335 cuda_blas.cc:1407] Unable to register cuBLAS factory: Attempting to register factory for plugin cuBLAS when one has already been registered\n",
      "W0000 00:00:1756223615.779615 1838335 computation_placer.cc:177] computation placer already registered. Please check linkage and avoid linking the same target more than once.\n",
      "W0000 00:00:1756223615.779655 1838335 computation_placer.cc:177] computation placer already registered. Please check linkage and avoid linking the same target more than once.\n",
      "W0000 00:00:1756223615.779657 1838335 computation_placer.cc:177] computation placer already registered. Please check linkage and avoid linking the same target more than once.\n",
      "W0000 00:00:1756223615.779659 1838335 computation_placer.cc:177] computation placer already registered. Please check linkage and avoid linking the same target more than once.\n",
      "2025-08-26 17:53:35.793312: I tensorflow/core/platform/cpu_feature_guard.cc:210] This TensorFlow binary is optimized to use available CPU instructions in performance-critical operations.\n",
      "To enable the following instructions: AVX2 AVX512F AVX512_VNNI AVX512_BF16 FMA, in other operations, rebuild TensorFlow with the appropriate compiler flags.\n"
     ]
    },
    {
     "data": {
      "application/vnd.jupyter.widget-view+json": {
       "model_id": "c55fb248ba7d4f7cbce7b5f88ba4be45",
       "version_major": 2,
       "version_minor": 0
      },
      "text/plain": [
       "FileUpload(value=(), description='Upload')"
      ]
     },
     "metadata": {},
     "output_type": "display_data"
    }
   ],
   "source": [
    "import seaborn as sns\n",
    "import matplotlib.pyplot as plt\n",
    "import pandas as pd\n",
    "import numpy as np, gc\n",
    "import tensorflow as tf\n",
    "import gc\n",
    "\n",
    "\n",
    "from sklearn.ensemble import RandomForestClassifier\n",
    "from sklearn.metrics import classification_report, make_scorer, f1_score, confusion_matrix, accuracy_score, precision_score, recall_score\n",
    "from sklearn.model_selection import cross_val_score, StratifiedKFold, train_test_split\n",
    "from sklearn.ensemble import RandomForestClassifier\n",
    "from sklearn.neural_network import MLPClassifier\n",
    "from sklearn.tree import DecisionTreeClassifier\n",
    "from sklearn.preprocessing import MinMaxScaler\n",
    "from sklearn.pipeline import Pipeline\n",
    "from sklearn.preprocessing import StandardScaler\n",
    "from sklearn.utils.class_weight import compute_class_weight\n",
    "\n",
    "from tensorflow.keras.models import Sequential\n",
    "from tensorflow.keras.layers import Conv2D, Flatten, Dense, Dropout\n",
    "from tensorflow.keras.callbacks import EarlyStopping\n",
    "\n",
    "from imblearn.under_sampling import RandomUnderSampler\n",
    "from imblearn.over_sampling import RandomOverSampler\n",
    "from collections import Counter\n",
    "\n",
    "from xgboost import XGBClassifier\n",
    "from lightgbm import LGBMClassifier\n",
    "\n",
    "from IPython.display import display\n",
    "from ipywidgets import FileUpload\n",
    "\n",
    "from collections import Counter\n",
    "from sklearn.pipeline import Pipeline\n",
    "\n",
    "\n",
    "\n",
    "upload = FileUpload()\n",
    "display(upload)\n"
   ]
  },
  {
   "cell_type": "code",
   "execution_count": 2,
   "id": "7140377e",
   "metadata": {},
   "outputs": [
    {
     "data": {
      "text/plain": [
       "'\\n!mkdir -p ~/.kaggle\\n!cp kaggle.json ~/.kaggle/\\n!chmod 600 ~/.kaggle/kaggle.json\\n!kaggle --version\\n'"
      ]
     },
     "execution_count": 2,
     "metadata": {},
     "output_type": "execute_result"
    }
   ],
   "source": [
    "'''\n",
    "!mkdir -p ~/.kaggle\n",
    "!cp kaggle.json ~/.kaggle/\n",
    "!chmod 600 ~/.kaggle/kaggle.json\n",
    "!kaggle --version\n",
    "'''"
   ]
  },
  {
   "cell_type": "code",
   "execution_count": 3,
   "id": "2c44cbb6",
   "metadata": {},
   "outputs": [
    {
     "data": {
      "text/plain": [
       "'\\n!kaggle datasets files -d mohamedamineferrag/edgeiiotset-cyber-security-dataset-of-iot-iiot\\n'"
      ]
     },
     "execution_count": 3,
     "metadata": {},
     "output_type": "execute_result"
    }
   ],
   "source": [
    "'''\n",
    "!kaggle datasets files -d mohamedamineferrag/edgeiiotset-cyber-security-dataset-of-iot-iiot\n",
    "'''"
   ]
  },
  {
   "cell_type": "code",
   "execution_count": 4,
   "id": "3c4e292e",
   "metadata": {},
   "outputs": [
    {
     "data": {
      "text/plain": [
       "'\\n!kaggle datasets download -d mohamedamineferrag/edgeiiotset-cyber-security-dataset-of-iot-iiot --unzip\\n'"
      ]
     },
     "execution_count": 4,
     "metadata": {},
     "output_type": "execute_result"
    }
   ],
   "source": [
    "'''\n",
    "!kaggle datasets download -d mohamedamineferrag/edgeiiotset-cyber-security-dataset-of-iot-iiot --unzip\n",
    "'''"
   ]
  },
  {
   "cell_type": "code",
   "execution_count": 5,
   "id": "60c49bab",
   "metadata": {},
   "outputs": [
    {
     "data": {
      "text/plain": [
       "'\\n!kaggle datasets download -d mohamedamineferrag/edgeiiotset-cyber-security-dataset-of-iot-iiot -f \"Edge-IIoTset dataset/Selected dataset for ML and DL/DNN-EdgeIIoT-dataset.csv\"\\n\\n!unzip DNN-EdgeIIoT-dataset.csv.zip\\n'"
      ]
     },
     "execution_count": 5,
     "metadata": {},
     "output_type": "execute_result"
    }
   ],
   "source": [
    "'''\n",
    "!kaggle datasets download -d mohamedamineferrag/edgeiiotset-cyber-security-dataset-of-iot-iiot -f \"Edge-IIoTset dataset/Selected dataset for ML and DL/DNN-EdgeIIoT-dataset.csv\"\n",
    "\n",
    "!unzip DNN-EdgeIIoT-dataset.csv.zip\n",
    "'''"
   ]
  },
  {
   "cell_type": "code",
   "execution_count": 6,
   "id": "39e8af58",
   "metadata": {},
   "outputs": [
    {
     "name": "stderr",
     "output_type": "stream",
     "text": [
      "/tmp/ipykernel_1838335/2719784295.py:1: DtypeWarning: Columns (2,3,6,11,13,14,15,16,17,31,32,34,39,45,51,54,55) have mixed types. Specify dtype option on import or set low_memory=False.\n",
      "  df_edge = pd.read_csv(\"Edge-IIoTset dataset/Selected dataset for ML and DL/DNN-EdgeIIoT-dataset.csv\")\n"
     ]
    },
    {
     "data": {
      "text/html": [
       "<div>\n",
       "<style scoped>\n",
       "    .dataframe tbody tr th:only-of-type {\n",
       "        vertical-align: middle;\n",
       "    }\n",
       "\n",
       "    .dataframe tbody tr th {\n",
       "        vertical-align: top;\n",
       "    }\n",
       "\n",
       "    .dataframe thead th {\n",
       "        text-align: right;\n",
       "    }\n",
       "</style>\n",
       "<table border=\"1\" class=\"dataframe\">\n",
       "  <thead>\n",
       "    <tr style=\"text-align: right;\">\n",
       "      <th></th>\n",
       "      <th>frame.time</th>\n",
       "      <th>ip.src_host</th>\n",
       "      <th>ip.dst_host</th>\n",
       "      <th>arp.dst.proto_ipv4</th>\n",
       "      <th>arp.opcode</th>\n",
       "      <th>arp.hw.size</th>\n",
       "      <th>arp.src.proto_ipv4</th>\n",
       "      <th>icmp.checksum</th>\n",
       "      <th>icmp.seq_le</th>\n",
       "      <th>icmp.transmit_timestamp</th>\n",
       "      <th>...</th>\n",
       "      <th>mqtt.proto_len</th>\n",
       "      <th>mqtt.protoname</th>\n",
       "      <th>mqtt.topic</th>\n",
       "      <th>mqtt.topic_len</th>\n",
       "      <th>mqtt.ver</th>\n",
       "      <th>mbtcp.len</th>\n",
       "      <th>mbtcp.trans_id</th>\n",
       "      <th>mbtcp.unit_id</th>\n",
       "      <th>Attack_label</th>\n",
       "      <th>Attack_type</th>\n",
       "    </tr>\n",
       "  </thead>\n",
       "  <tbody>\n",
       "    <tr>\n",
       "      <th>0</th>\n",
       "      <td>2021 11:44:10.081753000</td>\n",
       "      <td>192.168.0.128</td>\n",
       "      <td>192.168.0.101</td>\n",
       "      <td>0</td>\n",
       "      <td>0.0</td>\n",
       "      <td>0.0</td>\n",
       "      <td>0</td>\n",
       "      <td>0.0</td>\n",
       "      <td>0.0</td>\n",
       "      <td>0.0</td>\n",
       "      <td>...</td>\n",
       "      <td>0.0</td>\n",
       "      <td>0</td>\n",
       "      <td>0</td>\n",
       "      <td>0.0</td>\n",
       "      <td>0.0</td>\n",
       "      <td>0.0</td>\n",
       "      <td>0.0</td>\n",
       "      <td>0.0</td>\n",
       "      <td>0</td>\n",
       "      <td>Normal</td>\n",
       "    </tr>\n",
       "    <tr>\n",
       "      <th>1</th>\n",
       "      <td>2021 11:44:10.162218000</td>\n",
       "      <td>192.168.0.101</td>\n",
       "      <td>192.168.0.128</td>\n",
       "      <td>0</td>\n",
       "      <td>0.0</td>\n",
       "      <td>0.0</td>\n",
       "      <td>0</td>\n",
       "      <td>0.0</td>\n",
       "      <td>0.0</td>\n",
       "      <td>0.0</td>\n",
       "      <td>...</td>\n",
       "      <td>4.0</td>\n",
       "      <td>MQTT</td>\n",
       "      <td>0</td>\n",
       "      <td>0.0</td>\n",
       "      <td>4.0</td>\n",
       "      <td>0.0</td>\n",
       "      <td>0.0</td>\n",
       "      <td>0.0</td>\n",
       "      <td>0</td>\n",
       "      <td>Normal</td>\n",
       "    </tr>\n",
       "    <tr>\n",
       "      <th>2</th>\n",
       "      <td>2021 11:44:10.162271000</td>\n",
       "      <td>192.168.0.128</td>\n",
       "      <td>192.168.0.101</td>\n",
       "      <td>0</td>\n",
       "      <td>0.0</td>\n",
       "      <td>0.0</td>\n",
       "      <td>0</td>\n",
       "      <td>0.0</td>\n",
       "      <td>0.0</td>\n",
       "      <td>0.0</td>\n",
       "      <td>...</td>\n",
       "      <td>0.0</td>\n",
       "      <td>0</td>\n",
       "      <td>0</td>\n",
       "      <td>0.0</td>\n",
       "      <td>0.0</td>\n",
       "      <td>0.0</td>\n",
       "      <td>0.0</td>\n",
       "      <td>0.0</td>\n",
       "      <td>0</td>\n",
       "      <td>Normal</td>\n",
       "    </tr>\n",
       "    <tr>\n",
       "      <th>3</th>\n",
       "      <td>2021 11:44:10.162641000</td>\n",
       "      <td>192.168.0.128</td>\n",
       "      <td>192.168.0.101</td>\n",
       "      <td>0</td>\n",
       "      <td>0.0</td>\n",
       "      <td>0.0</td>\n",
       "      <td>0</td>\n",
       "      <td>0.0</td>\n",
       "      <td>0.0</td>\n",
       "      <td>0.0</td>\n",
       "      <td>...</td>\n",
       "      <td>0.0</td>\n",
       "      <td>0</td>\n",
       "      <td>0</td>\n",
       "      <td>0.0</td>\n",
       "      <td>0.0</td>\n",
       "      <td>0.0</td>\n",
       "      <td>0.0</td>\n",
       "      <td>0.0</td>\n",
       "      <td>0</td>\n",
       "      <td>Normal</td>\n",
       "    </tr>\n",
       "    <tr>\n",
       "      <th>4</th>\n",
       "      <td>2021 11:44:10.166132000</td>\n",
       "      <td>192.168.0.101</td>\n",
       "      <td>192.168.0.128</td>\n",
       "      <td>0</td>\n",
       "      <td>0.0</td>\n",
       "      <td>0.0</td>\n",
       "      <td>0</td>\n",
       "      <td>0.0</td>\n",
       "      <td>0.0</td>\n",
       "      <td>0.0</td>\n",
       "      <td>...</td>\n",
       "      <td>0.0</td>\n",
       "      <td>0</td>\n",
       "      <td>Temperature_and_Humidity</td>\n",
       "      <td>24.0</td>\n",
       "      <td>0.0</td>\n",
       "      <td>0.0</td>\n",
       "      <td>0.0</td>\n",
       "      <td>0.0</td>\n",
       "      <td>0</td>\n",
       "      <td>Normal</td>\n",
       "    </tr>\n",
       "  </tbody>\n",
       "</table>\n",
       "<p>5 rows × 63 columns</p>\n",
       "</div>"
      ],
      "text/plain": [
       "                  frame.time    ip.src_host    ip.dst_host arp.dst.proto_ipv4  \\\n",
       "0   2021 11:44:10.081753000   192.168.0.128  192.168.0.101                  0   \n",
       "1   2021 11:44:10.162218000   192.168.0.101  192.168.0.128                  0   \n",
       "2   2021 11:44:10.162271000   192.168.0.128  192.168.0.101                  0   \n",
       "3   2021 11:44:10.162641000   192.168.0.128  192.168.0.101                  0   \n",
       "4   2021 11:44:10.166132000   192.168.0.101  192.168.0.128                  0   \n",
       "\n",
       "   arp.opcode  arp.hw.size arp.src.proto_ipv4  icmp.checksum  icmp.seq_le  \\\n",
       "0         0.0          0.0                  0            0.0          0.0   \n",
       "1         0.0          0.0                  0            0.0          0.0   \n",
       "2         0.0          0.0                  0            0.0          0.0   \n",
       "3         0.0          0.0                  0            0.0          0.0   \n",
       "4         0.0          0.0                  0            0.0          0.0   \n",
       "\n",
       "   icmp.transmit_timestamp  ...  mqtt.proto_len mqtt.protoname  \\\n",
       "0                      0.0  ...             0.0              0   \n",
       "1                      0.0  ...             4.0           MQTT   \n",
       "2                      0.0  ...             0.0              0   \n",
       "3                      0.0  ...             0.0              0   \n",
       "4                      0.0  ...             0.0              0   \n",
       "\n",
       "                 mqtt.topic mqtt.topic_len mqtt.ver mbtcp.len mbtcp.trans_id  \\\n",
       "0                         0            0.0      0.0       0.0            0.0   \n",
       "1                         0            0.0      4.0       0.0            0.0   \n",
       "2                         0            0.0      0.0       0.0            0.0   \n",
       "3                         0            0.0      0.0       0.0            0.0   \n",
       "4  Temperature_and_Humidity           24.0      0.0       0.0            0.0   \n",
       "\n",
       "  mbtcp.unit_id  Attack_label  Attack_type  \n",
       "0           0.0             0       Normal  \n",
       "1           0.0             0       Normal  \n",
       "2           0.0             0       Normal  \n",
       "3           0.0             0       Normal  \n",
       "4           0.0             0       Normal  \n",
       "\n",
       "[5 rows x 63 columns]"
      ]
     },
     "execution_count": 6,
     "metadata": {},
     "output_type": "execute_result"
    }
   ],
   "source": [
    "df_edge = pd.read_csv(\"Edge-IIoTset dataset/Selected dataset for ML and DL/DNN-EdgeIIoT-dataset.csv\")\n",
    "df_edge.head()"
   ]
  },
  {
   "cell_type": "code",
   "execution_count": 7,
   "id": "36516469",
   "metadata": {},
   "outputs": [
    {
     "name": "stdout",
     "output_type": "stream",
     "text": [
      "1: frame.time\n",
      "2: ip.src_host\n",
      "3: ip.dst_host\n",
      "4: arp.dst.proto_ipv4\n",
      "5: arp.opcode\n",
      "6: arp.hw.size\n",
      "7: arp.src.proto_ipv4\n",
      "8: icmp.checksum\n",
      "9: icmp.seq_le\n",
      "10: icmp.transmit_timestamp\n",
      "11: icmp.unused\n",
      "12: http.file_data\n",
      "13: http.content_length\n",
      "14: http.request.uri.query\n",
      "15: http.request.method\n",
      "16: http.referer\n",
      "17: http.request.full_uri\n",
      "18: http.request.version\n",
      "19: http.response\n",
      "20: http.tls_port\n",
      "21: tcp.ack\n",
      "22: tcp.ack_raw\n",
      "23: tcp.checksum\n",
      "24: tcp.connection.fin\n",
      "25: tcp.connection.rst\n",
      "26: tcp.connection.syn\n",
      "27: tcp.connection.synack\n",
      "28: tcp.dstport\n",
      "29: tcp.flags\n",
      "30: tcp.flags.ack\n",
      "31: tcp.len\n",
      "32: tcp.options\n",
      "33: tcp.payload\n",
      "34: tcp.seq\n",
      "35: tcp.srcport\n",
      "36: udp.port\n",
      "37: udp.stream\n",
      "38: udp.time_delta\n",
      "39: dns.qry.name\n",
      "40: dns.qry.name.len\n",
      "41: dns.qry.qu\n",
      "42: dns.qry.type\n",
      "43: dns.retransmission\n",
      "44: dns.retransmit_request\n",
      "45: dns.retransmit_request_in\n",
      "46: mqtt.conack.flags\n",
      "47: mqtt.conflag.cleansess\n",
      "48: mqtt.conflags\n",
      "49: mqtt.hdrflags\n",
      "50: mqtt.len\n",
      "51: mqtt.msg_decoded_as\n",
      "52: mqtt.msg\n",
      "53: mqtt.msgtype\n",
      "54: mqtt.proto_len\n",
      "55: mqtt.protoname\n",
      "56: mqtt.topic\n",
      "57: mqtt.topic_len\n",
      "58: mqtt.ver\n",
      "59: mbtcp.len\n",
      "60: mbtcp.trans_id\n",
      "61: mbtcp.unit_id\n",
      "62: Attack_label\n",
      "63: Attack_type\n"
     ]
    }
   ],
   "source": [
    "df_edge.shape\n",
    "for i, col in enumerate(df_edge.columns, start=1):\n",
    "    print(f\"{i}: {col}\")\n",
    "\n"
   ]
  },
  {
   "cell_type": "code",
   "execution_count": 8,
   "id": "e89eb549",
   "metadata": {},
   "outputs": [],
   "source": [
    "# Drop non-numeric or non-useful columns\n",
    "df_edge_clean = df_edge.drop(columns=[\n",
    "    'frame.time', 'ip.src_host', 'ip.dst_host',\n",
    "    'mqtt.protoname', 'mqtt.topic'\n",
    "], errors='ignore')\n"
   ]
  },
  {
   "cell_type": "code",
   "execution_count": 9,
   "id": "2927ed09",
   "metadata": {},
   "outputs": [
    {
     "data": {
      "image/png": "[encoded data removed]",
      "text/plain": [
       "<Figure size 1200x600 with 1 Axes>"
      ]
     },
     "metadata": {},
     "output_type": "display_data"
    }
   ],
   "source": [
    "# Filter out Normal class\n",
    "df_attacks_only = df_edge[df_edge['Attack_type'] != 'Normal']\n",
    "\n",
    "# Count and plot different attack types\n",
    "plt.figure(figsize=(12, 6))\n",
    "sns.countplot(\n",
    "    y='Attack_type',\n",
    "    data=df_attacks_only,\n",
    "    order=df_attacks_only['Attack_type'].value_counts().index\n",
    ")\n",
    "plt.title(\"Distribution of Different Attack Types (Without Normal)\")\n",
    "plt.xlabel(\"Count\")\n",
    "plt.ylabel(\"Attack Type\")\n",
    "plt.tight_layout()\n",
    "plt.show()\n"
   ]
  },
  {
   "cell_type": "markdown",
   "id": "553eae24",
   "metadata": {},
   "source": [
    "## 1. Encode target labels"
   ]
  },
  {
   "cell_type": "code",
   "execution_count": 10,
   "id": "1666bd2c",
   "metadata": {},
   "outputs": [],
   "source": [
    "from sklearn.preprocessing import LabelEncoder\n",
    "\n",
    "le = LabelEncoder()\n",
    "y = le.fit_transform(df_edge_clean['Attack_type'])\n"
   ]
  },
  {
   "cell_type": "code",
   "execution_count": 11,
   "id": "b787f128",
   "metadata": {},
   "outputs": [
    {
     "name": "stdout",
     "output_type": "stream",
     "text": [
      "Using 43 numeric features.\n"
     ]
    }
   ],
   "source": [
    "\n",
    "# Build X from numeric columns only; keep Attack_type for y\n",
    "df_work = df_edge_clean.copy()\n",
    "\n",
    "# y = multiclass labels\n",
    "y_str = df_work['Attack_type'].astype(str).values\n",
    "from sklearn.preprocessing import LabelEncoder\n",
    "le = LabelEncoder()\n",
    "y = le.fit_transform(y_str)\n",
    "class_names = le.classes_\n",
    "num_classes = len(class_names)\n",
    "\n",
    "# X = numeric features only (exclude the target)\n",
    "numeric_cols = df_work.drop(columns=['Attack_type']).select_dtypes(include=[np.number]).columns\n",
    "X = df_work[numeric_cols].fillna(0.0)\n",
    "\n",
    "print(f\"Using {len(numeric_cols)} numeric features.\")\n",
    "# sanity check: no object dtype left\n",
    "assert X.select_dtypes(exclude=[np.number]).shape[1] == 0\n"
   ]
  },
  {
   "cell_type": "code",
   "execution_count": 12,
   "id": "02926303",
   "metadata": {},
   "outputs": [
    {
     "name": "stdout",
     "output_type": "stream",
     "text": [
      "0 = Backdoor\n",
      "1 = DDoS_HTTP\n",
      "2 = DDoS_ICMP\n",
      "3 = DDoS_TCP\n",
      "4 = DDoS_UDP\n",
      "5 = Fingerprinting\n",
      "6 = MITM\n",
      "7 = Normal\n",
      "8 = Password\n",
      "9 = Port_Scanning\n",
      "10 = Ransomware\n",
      "11 = SQL_injection\n",
      "12 = Uploading\n",
      "13 = Vulnerability_scanner\n",
      "14 = XSS\n"
     ]
    }
   ],
   "source": [
    "for idx, name in enumerate(class_names):\n",
    "    print(f\"{idx} = {name}\")\n"
   ]
  },
  {
   "cell_type": "markdown",
   "id": "5763da81",
   "metadata": {},
   "source": [
    "## 2. Train-test split"
   ]
  },
  {
   "cell_type": "code",
   "execution_count": 8,
   "id": "693c281a",
   "metadata": {},
   "outputs": [],
   "source": [
    "from sklearn.model_selection import train_test_split\n",
    "X_train, X_test, y_train, y_test = train_test_split(\n",
    "    X, y, test_size=0.2, stratify=y, random_state=42\n",
    ")\n"
   ]
  },
  {
   "cell_type": "code",
   "execution_count": 12,
   "id": "b717cbe8",
   "metadata": {},
   "outputs": [
    {
     "name": "stdout",
     "output_type": "stream",
     "text": [
      "1: arp.opcode\n",
      "2: arp.hw.size\n",
      "3: icmp.checksum\n",
      "4: icmp.seq_le\n",
      "5: icmp.transmit_timestamp\n",
      "6: icmp.unused\n",
      "7: http.content_length\n",
      "8: http.response\n",
      "9: http.tls_port\n",
      "10: tcp.ack\n",
      "11: tcp.ack_raw\n",
      "12: tcp.checksum\n",
      "13: tcp.connection.fin\n",
      "14: tcp.connection.rst\n",
      "15: tcp.connection.syn\n",
      "16: tcp.connection.synack\n",
      "17: tcp.dstport\n",
      "18: tcp.flags\n",
      "19: tcp.flags.ack\n",
      "20: tcp.len\n",
      "21: tcp.seq\n",
      "22: udp.port\n",
      "23: udp.stream\n",
      "24: udp.time_delta\n",
      "25: dns.qry.name\n",
      "26: dns.qry.qu\n",
      "27: dns.qry.type\n",
      "28: dns.retransmission\n",
      "29: dns.retransmit_request\n",
      "30: dns.retransmit_request_in\n",
      "31: mqtt.conflag.cleansess\n",
      "32: mqtt.conflags\n",
      "33: mqtt.hdrflags\n",
      "34: mqtt.len\n",
      "35: mqtt.msg_decoded_as\n",
      "36: mqtt.msgtype\n",
      "37: mqtt.proto_len\n",
      "38: mqtt.topic_len\n",
      "39: mqtt.ver\n",
      "40: mbtcp.len\n",
      "41: mbtcp.trans_id\n",
      "42: mbtcp.unit_id\n",
      "43: Attack_label\n"
     ]
    }
   ],
   "source": [
    "X_train.shape\n",
    "for i, col in enumerate(X_train.columns, start=1):\n",
    "    print(f\"{i}: {col}\")\n"
   ]
  },
  {
   "cell_type": "markdown",
   "id": "1d9efa57",
   "metadata": {},
   "source": [
    "## Train"
   ]
  },
  {
   "cell_type": "markdown",
   "id": "11b4682c",
   "metadata": {},
   "source": [
    "#### Import & Define Reusable Evaluation Function"
   ]
  },
  {
   "cell_type": "code",
   "execution_count": 9,
   "id": "da8a8772",
   "metadata": {},
   "outputs": [],
   "source": [
    "from sklearn.metrics import classification_report, confusion_matrix, accuracy_score, precision_score, recall_score, f1_score\n",
    "import matplotlib.pyplot as plt\n",
    "import seaborn as sns\n",
    "\n",
    "def evaluate_model(name, y_true, y_pred, labels=None):\n",
    "    print(f\"{name} — Classification Report:\\n\")\n",
    "    print(classification_report(y_true, y_pred, target_names=labels))\n",
    "\n",
    "    # Confusion matrix\n",
    "    cm = confusion_matrix(y_true, y_pred)\n",
    "    plt.figure(figsize=(10, 8))\n",
    "    sns.heatmap(cm, annot=False, fmt='d', cmap='Blues',\n",
    "                xticklabels=labels, yticklabels=labels)\n",
    "    plt.title(f\"{name} — Confusion Matrix\")\n",
    "    plt.xlabel(\"Predicted\")\n",
    "    plt.ylabel(\"Actual\")\n",
    "    plt.xticks(rotation=90)\n",
    "    plt.yticks(rotation=0)\n",
    "    plt.show()\n",
    "\n",
    "    return {\n",
    "        'Model': name,\n",
    "        'Accuracy': accuracy_score(y_true, y_pred),\n",
    "        'Precision': precision_score(y_true, y_pred, average='weighted', zero_division=0),\n",
    "        'Recall': recall_score(y_true, y_pred, average='weighted', zero_division=0),\n",
    "        'F1 (weighted)': f1_score(y_true, y_pred, average='weighted', zero_division=0),\n",
    "        'F1 (macro)': f1_score(y_true, y_pred, average='macro', zero_division=0),\n",
    "    }\n"
   ]
  },
  {
   "cell_type": "markdown",
   "id": "d79a42be",
   "metadata": {},
   "source": [
    "### Train 6 Models  Baseline "
   ]
  },
  {
   "cell_type": "code",
   "execution_count": 10,
   "id": "42c3fa8a",
   "metadata": {},
   "outputs": [
    {
     "name": "stdout",
     "output_type": "stream",
     "text": [
      "GPU available: False | GPUs: []\n"
     ]
    },
    {
     "name": "stderr",
     "output_type": "stream",
     "text": [
      "2025-08-24 21:50:50.467656: E external/local_xla/xla/stream_executor/cuda/cuda_platform.cc:51] failed call to cuInit: INTERNAL: CUDA error: Failed call to cuInit: CUDA_ERROR_NO_DEVICE: no CUDA-capable device is detected\n",
      "2025-08-24 21:50:50.468385: I external/local_xla/xla/stream_executor/cuda/cuda_diagnostics.cc:178] verbose logging is disabled. Rerun with verbose logging (usually --v=1 or --vmodule=cuda_diagnostics=1) to get more diagnostic output from this module\n",
      "2025-08-24 21:50:50.468636: I external/local_xla/xla/stream_executor/cuda/cuda_diagnostics.cc:183] retrieving CUDA diagnostic information for host: aftab-Legion-Slim-5-16AHP9\n",
      "2025-08-24 21:50:50.468639: I external/local_xla/xla/stream_executor/cuda/cuda_diagnostics.cc:190] hostname: aftab-Legion-Slim-5-16AHP9\n",
      "2025-08-24 21:50:50.469056: I external/local_xla/xla/stream_executor/cuda/cuda_diagnostics.cc:197] libcuda reported version is: 575.64.3\n",
      "2025-08-24 21:50:50.469079: I external/local_xla/xla/stream_executor/cuda/cuda_diagnostics.cc:201] kernel reported version is: 575.64.3\n",
      "2025-08-24 21:50:50.469081: I external/local_xla/xla/stream_executor/cuda/cuda_diagnostics.cc:291] kernel version seems to match DSO: 575.64.3\n"
     ]
    }
   ],
   "source": [
    "# ==== Multiclass baseline (BEFORE any balancing) ====\n",
    "import numpy as np, pandas as pd, gc\n",
    "from sklearn.model_selection import train_test_split\n",
    "from sklearn.preprocessing import LabelEncoder, StandardScaler\n",
    "from sklearn.pipeline import Pipeline\n",
    "from sklearn.metrics import classification_report, confusion_matrix, accuracy_score, precision_score, recall_score, f1_score\n",
    "import tensorflow as tf\n",
    "\n",
    "# If these already exist above, this block will just reuse them.\n",
    "def ensure_labels_and_split(df, X=None, y=None, class_names=None, test_size=0.2, seed=42):\n",
    "    if X is None or y is None or class_names is None:\n",
    "        # X: keep the numeric features you used earlier (already cleaned)\n",
    "        # If you already have X, y, class_names defined, skip this.\n",
    "        # Here I assume df_edge_clean exists and has Attack_type.\n",
    "        X = df_edge_clean.drop(columns=['Attack_type'])\n",
    "        y_str = df_edge_clean['Attack_type'].astype(str).values\n",
    "        le = LabelEncoder()\n",
    "        y = le.fit_transform(y_str)\n",
    "        class_names = le.classes_\n",
    "    X_train, X_test, y_train, y_test = train_test_split(\n",
    "        X, y, stratify=y, test_size=test_size, random_state=seed\n",
    "    )\n",
    "    return X, y, class_names, X_train, X_test, y_train, y_test\n",
    "\n",
    "# evaluate_model must already be defined in your notebook (you showed it earlier).\n",
    "# If not, reuse your earlier evaluate_model with target_names=labels.\n",
    "\n",
    "# Ensure labels/splits exist\n",
    "X, y, class_names, X_train, X_test, y_train, y_test = ensure_labels_and_split(\n",
    "    df_edge_clean, X if 'X' in globals() else None,\n",
    "    y if 'y' in globals() else None,\n",
    "    class_names if 'class_names' in globals() else None\n",
    ")\n",
    "\n",
    "# Float32 views to reduce RAM\n",
    "X_train32 = np.asarray(X_train, dtype=np.float32)\n",
    "X_test32  = np.asarray(X_test,  dtype=np.float32)\n",
    "X_train32 = np.nan_to_num(X_train32, nan=0.0, posinf=0.0, neginf=0.0)\n",
    "X_test32  = np.nan_to_num(X_test32,  nan=0.0, posinf=0.0, neginf=0.0)\n",
    "\n",
    "num_classes = len(class_names)\n",
    "\n",
    "# GPU check (for XGB and CNN)\n",
    "# GPU flag + safe memory-growth (won’t crash if already initialized)\n",
    "import tensorflow as tf\n",
    "\n",
    "gpus = tf.config.list_physical_devices('GPU')\n",
    "use_gpu = len(gpus) > 0\n",
    "if use_gpu:\n",
    "    try:\n",
    "        for gpu in gpus:\n",
    "            # only try to set if not already enabled\n",
    "            if not tf.config.experimental.get_memory_growth(gpu):\n",
    "                tf.config.experimental.set_memory_growth(gpu, True)\n",
    "    except RuntimeError:\n",
    "        # Runtime already initialized; it's fine, continue\n",
    "        pass\n",
    "\n",
    "print(\"GPU available:\", use_gpu, \"| GPUs:\", gpus)\n",
    "\n",
    "\n",
    "results_mc_base = []   # <-- baseline results list\n"
   ]
  },
  {
   "cell_type": "code",
   "execution_count": 15,
   "id": "703dd75e",
   "metadata": {},
   "outputs": [],
   "source": [
    "import joblib"
   ]
  },
  {
   "cell_type": "code",
   "execution_count": 18,
   "id": "a87534ac",
   "metadata": {},
   "outputs": [
    {
     "data": {
      "text/plain": [
       "'\\n# 1) Random Forest (CPU)\\nrf_base = RandomForestClassifier(n_estimators=100, n_jobs=-1, random_state=42)\\nrf_base.fit(X_train32, y_train)\\ny_rf_b = rf_base.predict(X_test32)\\nresults_mc_base.append(evaluate_model(\"Random Forest (baseline)\", y_test, y_rf_b, labels=class_names))\\ngc.collect()\\n\\n#joblib.dump(rf_base, \"rf_base.pkl\")\\n'"
      ]
     },
     "execution_count": 18,
     "metadata": {},
     "output_type": "execute_result"
    }
   ],
   "source": [
    "'''\n",
    "# 1) Random Forest (CPU)\n",
    "rf_base = RandomForestClassifier(n_estimators=100, n_jobs=-1, random_state=42)\n",
    "rf_base.fit(X_train32, y_train)\n",
    "y_rf_b = rf_base.predict(X_test32)\n",
    "results_mc_base.append(evaluate_model(\"Random Forest (baseline)\", y_test, y_rf_b, labels=class_names))\n",
    "gc.collect()\n",
    "\n",
    "#joblib.dump(rf_base, \"rf_base.pkl\")\n",
    "'''"
   ]
  },
  {
   "cell_type": "code",
   "execution_count": 19,
   "id": "5076cf9c",
   "metadata": {},
   "outputs": [
    {
     "data": {
      "text/plain": [
       "'\\n# 2) XGBoost (GPU if available)\\nxgb_base = XGBClassifier(\\n    objective=\\'multi:softprob\\',\\n    num_class=num_classes,\\n    eval_metric=\\'mlogloss\\',\\n    device=\\'cuda\\' if use_gpu else \\'cpu\\',\\n    n_jobs=-1,\\n    random_state=42\\n)\\nxgb_base.fit(X_train32, y_train)\\ny_xgb_b = xgb_base.predict(X_test32)\\nresults_mc_base.append(evaluate_model(\"XGBoost (baseline\" + (\" GPU)\" if use_gpu else \" CPU)\"),\\n                                      y_test, y_xgb_b, labels=class_names))\\ngc.collect()\\n'"
      ]
     },
     "execution_count": 19,
     "metadata": {},
     "output_type": "execute_result"
    }
   ],
   "source": [
    "'''\n",
    "# 2) XGBoost (GPU if available)\n",
    "xgb_base = XGBClassifier(\n",
    "    objective='multi:softprob',\n",
    "    num_class=num_classes,\n",
    "    eval_metric='mlogloss',\n",
    "    device='cuda' if use_gpu else 'cpu',\n",
    "    n_jobs=-1,\n",
    "    random_state=42\n",
    ")\n",
    "xgb_base.fit(X_train32, y_train)\n",
    "y_xgb_b = xgb_base.predict(X_test32)\n",
    "results_mc_base.append(evaluate_model(\"XGBoost (baseline\" + (\" GPU)\" if use_gpu else \" CPU)\"),\n",
    "                                      y_test, y_xgb_b, labels=class_names))\n",
    "gc.collect()\n",
    "'''\n"
   ]
  },
  {
   "cell_type": "code",
   "execution_count": 20,
   "id": "c3fc05d4",
   "metadata": {},
   "outputs": [
    {
     "data": {
      "text/plain": [
       "'\\n# 3) LightGBM (GPU if available; safe/stable params)\\ntry:\\n    lgb_base = LGBMClassifier(\\n        objective=\\'multiclass\\', num_class=num_classes,\\n        learning_rate=0.1, n_estimators=200,\\n        num_leaves=63, min_data_in_leaf=20,\\n        subsample=0.8, colsample_bytree=0.8,\\n        # stability\\n        force_col_wise=True, feature_pre_filter=False, max_bin=255,\\n        device=\\'gpu\\' if use_gpu else \\'cpu\\',\\n        random_state=42\\n    )\\n    lgb_base.fit(X_train32, y_train)\\n    tag_lgb = \" (GPU)\" if use_gpu else \" (CPU)\"\\nexcept Exception as e:\\n    print(\"LGBM GPU failed, fallback to CPU →\", e)\\n    lgb_base = LGBMClassifier(\\n        objective=\\'multiclass\\', num_class=num_classes,\\n        learning_rate=0.1, n_estimators=200,\\n        num_leaves=63, min_data_in_leaf=20,\\n        subsample=0.8, colsample_bytree=0.8,\\n        force_col_wise=True, feature_pre_filter=False, max_bin=255,\\n        device=\\'cpu\\', random_state=42\\n    )\\n    lgb_base.fit(X_train32, y_train)\\n    tag_lgb = \" (CPU fallback)\"\\ny_lgb_b = lgb_base.predict(X_test32)\\nresults_mc_base.append(evaluate_model(\"LightGBM (baseline)\" + tag_lgb, y_test, y_lgb_b, labels=class_names))\\ngc.collect()\\n\\n'"
      ]
     },
     "execution_count": 20,
     "metadata": {},
     "output_type": "execute_result"
    }
   ],
   "source": [
    "'''\n",
    "# 3) LightGBM (GPU if available; safe/stable params)\n",
    "try:\n",
    "    lgb_base = LGBMClassifier(\n",
    "        objective='multiclass', num_class=num_classes,\n",
    "        learning_rate=0.1, n_estimators=200,\n",
    "        num_leaves=63, min_data_in_leaf=20,\n",
    "        subsample=0.8, colsample_bytree=0.8,\n",
    "        # stability\n",
    "        force_col_wise=True, feature_pre_filter=False, max_bin=255,\n",
    "        device='gpu' if use_gpu else 'cpu',\n",
    "        random_state=42\n",
    "    )\n",
    "    lgb_base.fit(X_train32, y_train)\n",
    "    tag_lgb = \" (GPU)\" if use_gpu else \" (CPU)\"\n",
    "except Exception as e:\n",
    "    print(\"LGBM GPU failed, fallback to CPU →\", e)\n",
    "    lgb_base = LGBMClassifier(\n",
    "        objective='multiclass', num_class=num_classes,\n",
    "        learning_rate=0.1, n_estimators=200,\n",
    "        num_leaves=63, min_data_in_leaf=20,\n",
    "        subsample=0.8, colsample_bytree=0.8,\n",
    "        force_col_wise=True, feature_pre_filter=False, max_bin=255,\n",
    "        device='cpu', random_state=42\n",
    "    )\n",
    "    lgb_base.fit(X_train32, y_train)\n",
    "    tag_lgb = \" (CPU fallback)\"\n",
    "y_lgb_b = lgb_base.predict(X_test32)\n",
    "results_mc_base.append(evaluate_model(\"LightGBM (baseline)\" + tag_lgb, y_test, y_lgb_b, labels=class_names))\n",
    "gc.collect()\n",
    "\n",
    "'''"
   ]
  },
  {
   "cell_type": "code",
   "execution_count": 21,
   "id": "2e1fa8e2",
   "metadata": {},
   "outputs": [
    {
     "data": {
      "text/plain": [
       "'\\n# 4) MLP (CPU, scaled)\\nfrom sklearn.pipeline import Pipeline\\nfrom sklearn.preprocessing import StandardScaler\\nmlp_base = Pipeline([\\n    (\"scaler\", StandardScaler(with_mean=False)),\\n    (\"mlp\", MLPClassifier(hidden_layer_sizes=(128,),\\n                          max_iter=400, early_stopping=True, random_state=42))\\n])\\nmlp_base.fit(X_train32, y_train)\\ny_mlp_b = mlp_base.predict(X_test32)\\nresults_mc_base.append(evaluate_model(\"MLP (baseline, scaled)\", y_test, y_mlp_b, labels=class_names))\\ngc.collect()\\n\\n'"
      ]
     },
     "execution_count": 21,
     "metadata": {},
     "output_type": "execute_result"
    }
   ],
   "source": [
    "'''\n",
    "# 4) MLP (CPU, scaled)\n",
    "from sklearn.pipeline import Pipeline\n",
    "from sklearn.preprocessing import StandardScaler\n",
    "mlp_base = Pipeline([\n",
    "    (\"scaler\", StandardScaler(with_mean=False)),\n",
    "    (\"mlp\", MLPClassifier(hidden_layer_sizes=(128,),\n",
    "                          max_iter=400, early_stopping=True, random_state=42))\n",
    "])\n",
    "mlp_base.fit(X_train32, y_train)\n",
    "y_mlp_b = mlp_base.predict(X_test32)\n",
    "results_mc_base.append(evaluate_model(\"MLP (baseline, scaled)\", y_test, y_mlp_b, labels=class_names))\n",
    "gc.collect()\n",
    "\n",
    "'''"
   ]
  },
  {
   "cell_type": "code",
   "execution_count": 22,
   "id": "3c6b7ac2",
   "metadata": {},
   "outputs": [
    {
     "data": {
      "text/plain": [
       "'\\n# 5) Decision Tree (CPU)\\ndt_base = DecisionTreeClassifier(max_depth=12, random_state=42)\\ndt_base.fit(X_train32, y_train)\\ny_dt_b = dt_base.predict(X_test32)\\nresults_mc_base.append(evaluate_model(\"Decision Tree (baseline)\", y_test, y_dt_b, labels=class_names))\\ngc.collect()\\n'"
      ]
     },
     "execution_count": 22,
     "metadata": {},
     "output_type": "execute_result"
    }
   ],
   "source": [
    "'''\n",
    "# 5) Decision Tree (CPU)\n",
    "dt_base = DecisionTreeClassifier(max_depth=12, random_state=42)\n",
    "dt_base.fit(X_train32, y_train)\n",
    "y_dt_b = dt_base.predict(X_test32)\n",
    "results_mc_base.append(evaluate_model(\"Decision Tree (baseline)\", y_test, y_dt_b, labels=class_names))\n",
    "gc.collect()\n",
    "'''"
   ]
  },
  {
   "cell_type": "code",
   "execution_count": null,
   "id": "1cf05db1",
   "metadata": {},
   "outputs": [],
   "source": []
  },
  {
   "cell_type": "code",
   "execution_count": null,
   "id": "80f9f532",
   "metadata": {},
   "outputs": [],
   "source": []
  },
  {
   "cell_type": "code",
   "execution_count": 23,
   "id": "ae7d14e8",
   "metadata": {},
   "outputs": [
    {
     "data": {
      "text/plain": [
       "'\\nfrom sklearn.preprocessing import MinMaxScaler\\nfrom tensorflow.keras.models import Sequential\\nfrom tensorflow.keras.layers import Conv2D, Flatten, Dense, Dropout\\nfrom tensorflow.keras.callbacks import EarlyStopping\\n\\nfeatures_cnn = [\\'tcp.len\\',\\'tcp.seq\\',\\'tcp.ack\\',\\'mbtcp.len\\']\\nmissing = [c for c in features_cnn if c not in X_train.columns]\\nif missing:\\n    print(\"Skipping CNN — missing features:\", missing)\\nelse:\\n    scaler_cnn = MinMaxScaler()\\n    Xtr4 = scaler_cnn.fit_transform(X_train[features_cnn].astype(\\'float32\\'))\\n    Xte4 = scaler_cnn.transform(X_test[features_cnn].astype(\\'float32\\'))\\n    Xtr4_cnn = Xtr4.reshape(-1, 2, 2, 1)\\n    Xte4_cnn = Xte4.reshape(-1, 2, 2, 1)\\n\\n    cnn_base = Sequential([\\n        Conv2D(16, (2,2), activation=\\'relu\\', input_shape=(2,2,1)),\\n        Flatten(),\\n        Dense(32, activation=\\'relu\\'),\\n        Dropout(0.2),\\n        Dense(num_classes, activation=\\'softmax\\')\\n    ])\\n    cnn_base.compile(optimizer=\\'adam\\', loss=\\'sparse_categorical_crossentropy\\', metrics=[\\'accuracy\\'])\\n\\n    dev = \\'/GPU:0\\' if use_gpu else \\'/CPU:0\\'\\n    es = EarlyStopping(monitor=\\'val_loss\\', patience=2, restore_best_weights=True, verbose=0)\\n    with tf.device(dev):\\n        cnn_base.fit(Xtr4_cnn, y_train, epochs=10, batch_size=512,\\n                     validation_split=0.2, callbacks=[es], verbose=1 if use_gpu else 0)\\n        probs_b = cnn_base.predict(Xte4_cnn, verbose=0)\\n\\n    y_cnn_b = probs_b.argmax(axis=1)\\n    results_mc_base.append(\\n        evaluate_model(\"Lightweight CNN (baseline\" + (\" GPU)\" if use_gpu else \" CPU)\"),\\n                       y_test, y_cnn_b, labels=class_names)\\n    )\\n'"
      ]
     },
     "execution_count": 23,
     "metadata": {},
     "output_type": "execute_result"
    }
   ],
   "source": [
    "'''\n",
    "from sklearn.preprocessing import MinMaxScaler\n",
    "from tensorflow.keras.models import Sequential\n",
    "from tensorflow.keras.layers import Conv2D, Flatten, Dense, Dropout\n",
    "from tensorflow.keras.callbacks import EarlyStopping\n",
    "\n",
    "features_cnn = ['tcp.len','tcp.seq','tcp.ack','mbtcp.len']\n",
    "missing = [c for c in features_cnn if c not in X_train.columns]\n",
    "if missing:\n",
    "    print(\"Skipping CNN — missing features:\", missing)\n",
    "else:\n",
    "    scaler_cnn = MinMaxScaler()\n",
    "    Xtr4 = scaler_cnn.fit_transform(X_train[features_cnn].astype('float32'))\n",
    "    Xte4 = scaler_cnn.transform(X_test[features_cnn].astype('float32'))\n",
    "    Xtr4_cnn = Xtr4.reshape(-1, 2, 2, 1)\n",
    "    Xte4_cnn = Xte4.reshape(-1, 2, 2, 1)\n",
    "\n",
    "    cnn_base = Sequential([\n",
    "        Conv2D(16, (2,2), activation='relu', input_shape=(2,2,1)),\n",
    "        Flatten(),\n",
    "        Dense(32, activation='relu'),\n",
    "        Dropout(0.2),\n",
    "        Dense(num_classes, activation='softmax')\n",
    "    ])\n",
    "    cnn_base.compile(optimizer='adam', loss='sparse_categorical_crossentropy', metrics=['accuracy'])\n",
    "\n",
    "    dev = '/GPU:0' if use_gpu else '/CPU:0'\n",
    "    es = EarlyStopping(monitor='val_loss', patience=2, restore_best_weights=True, verbose=0)\n",
    "    with tf.device(dev):\n",
    "        cnn_base.fit(Xtr4_cnn, y_train, epochs=10, batch_size=512,\n",
    "                     validation_split=0.2, callbacks=[es], verbose=1 if use_gpu else 0)\n",
    "        probs_b = cnn_base.predict(Xte4_cnn, verbose=0)\n",
    "\n",
    "    y_cnn_b = probs_b.argmax(axis=1)\n",
    "    results_mc_base.append(\n",
    "        evaluate_model(\"Lightweight CNN (baseline\" + (\" GPU)\" if use_gpu else \" CPU)\"),\n",
    "                       y_test, y_cnn_b, labels=class_names)\n",
    "    )\n",
    "'''"
   ]
  },
  {
   "cell_type": "code",
   "execution_count": 24,
   "id": "6c669f25",
   "metadata": {},
   "outputs": [
    {
     "data": {
      "text/plain": [
       "'\\ndf_base = pd.DataFrame(results_mc_base).drop_duplicates(subset=[\"Model\"]).reset_index(drop=True)\\ndf_base = df_base.sort_values(\"F1 (macro)\", ascending=False)\\nnum_cols = df_base.select_dtypes(include=\\'number\\').columns\\ndisplay(df_base.style.format({c: \"{:.4f}\" for c in num_cols}))\\n'"
      ]
     },
     "execution_count": 24,
     "metadata": {},
     "output_type": "execute_result"
    }
   ],
   "source": [
    "'''\n",
    "df_base = pd.DataFrame(results_mc_base).drop_duplicates(subset=[\"Model\"]).reset_index(drop=True)\n",
    "df_base = df_base.sort_values(\"F1 (macro)\", ascending=False)\n",
    "num_cols = df_base.select_dtypes(include='number').columns\n",
    "display(df_base.style.format({c: \"{:.4f}\" for c in num_cols}))\n",
    "'''"
   ]
  },
  {
   "cell_type": "code",
   "execution_count": null,
   "id": "b0814f54",
   "metadata": {},
   "outputs": [],
   "source": []
  },
  {
   "cell_type": "code",
   "execution_count": null,
   "id": "810d4a5e",
   "metadata": {},
   "outputs": [],
   "source": []
  },
  {
   "cell_type": "markdown",
   "id": "fdae793f",
   "metadata": {},
   "source": [
    "## Balancing and Training 42 feature"
   ]
  },
  {
   "cell_type": "code",
   "execution_count": 16,
   "id": "ccac0187",
   "metadata": {},
   "outputs": [],
   "source": [
    "import joblib"
   ]
  },
  {
   "cell_type": "code",
   "execution_count": null,
   "id": "2d73962b",
   "metadata": {},
   "outputs": [],
   "source": [
    "\n",
    "# 🔹 float32, clean NaN/Inf once\n",
    "X_train32 = np.asarray(X_train, dtype=np.float32)\n",
    "X_test32  = np.asarray(X_test,  dtype=np.float32)\n",
    "X_train32 = np.nan_to_num(X_train32, nan=0.0, posinf=0.0, neginf=0.0)\n",
    "X_test32  = np.nan_to_num(X_test32,  nan=0.0, posinf=0.0, neginf=0.0)\n"
   ]
  },
  {
   "cell_type": "code",
   "execution_count": 31,
   "id": "d9c22eab",
   "metadata": {},
   "outputs": [],
   "source": [
    "\n",
    "# class weights + per-sample weights\n",
    "classes = np.unique(y_train)\n",
    "cw_vals = compute_class_weight(class_weight=\"balanced\", classes=classes, y=y_train)\n",
    "class_weight_dict = {c: w for c, w in zip(classes, cw_vals)}\n",
    "sample_weight = np.array([class_weight_dict[c] for c in y_train])\n",
    "\n",
    "results_tab = []\n",
    "n_jobs = -1\n",
    "use_gpu = True  # or your detected flag\n"
   ]
  },
  {
   "cell_type": "code",
   "execution_count": null,
   "id": "07966739",
   "metadata": {},
   "outputs": [],
   "source": []
  },
  {
   "cell_type": "code",
   "execution_count": null,
   "id": "f4860069",
   "metadata": {},
   "outputs": [],
   "source": [
    "'''\n",
    "# RF\n",
    "rf_cw_42f = RandomForestClassifier(\n",
    "    n_estimators=100,          # was 200 → start lighter\n",
    "    max_depth=12,              # limit depth (huge memory saver)\n",
    "    max_leaf_nodes=512,        # extra safety\n",
    "    min_samples_leaf=5,        # prevents deep, spindly trees\n",
    "    bootstrap=False,           # less memory than bootstrapped bags\n",
    "    n_jobs=4,                  # avoid spawning 16 threads that fight for RAM\n",
    "    random_state=42,\n",
    "    class_weight=class_weight_dict\n",
    ")\n",
    "\n",
    "rf_cw_42f.fit(X_train32, y_train)\n",
    "y_rf = rf_cw_42f.predict(X_test32)\n",
    "results_tab.append(evaluate_model(\"Random Forest (class-weighted)\", y_test, y_rf, labels=class_names))\n",
    "gc.collect()\n",
    "\n",
    "joblib.dump(rf_cw_42f, \"rf_cw_42f.pkl\")\n",
    "'''"
   ]
  },
  {
   "cell_type": "code",
   "execution_count": null,
   "id": "3c985087",
   "metadata": {},
   "outputs": [],
   "source": [
    "'''\n",
    "# XGB\n",
    "xgb_cw_42f = XGBClassifier(\n",
    "    objective='multi:softprob',\n",
    "    num_class=len(class_names),\n",
    "    eval_metric='mlogloss',\n",
    "    device='cuda' if use_gpu else 'cpu',\n",
    "    n_jobs=n_jobs,\n",
    "    random_state=42\n",
    ")\n",
    "xgb_cw_42f.fit(X_train32, y_train, sample_weight=sample_weight)\n",
    "y_xgb = xgb_cw_42f.predict(X_test32)\n",
    "results_tab.append(evaluate_model(\"XGBoost (class-weighted\" + (\" GPU)\" if use_gpu else \" CPU)\"),\n",
    "                                  y_test, y_xgb, labels=class_names))\n",
    "gc.collect()\n",
    "\n",
    "joblib.dump(xgb_cw_42f, \"xgb_cw_42f.pkl\")\n",
    "'''"
   ]
  },
  {
   "cell_type": "code",
   "execution_count": null,
   "id": "7594ae0c",
   "metadata": {},
   "outputs": [],
   "source": [
    "'''\n",
    "# LGBM (class_weight; no sample_weight)\n",
    "lgbm_cw_42f = LGBMClassifier(\n",
    "    objective='multiclass', num_class=len(classes),\n",
    "    force_col_wise=True, feature_pre_filter=False, max_bin=255,\n",
    "    n_estimators=300, learning_rate=0.1, num_leaves=63,\n",
    "    min_data_in_leaf=10, min_sum_hessian_in_leaf=1e-3,\n",
    "    subsample=0.8, colsample_bytree=0.8,\n",
    "    class_weight=class_weight_dict,\n",
    "    device='gpu' if use_gpu else 'cpu',\n",
    "    random_state=42\n",
    ")\n",
    "try:\n",
    "    lgbm_cw_42f.fit(X_train32, y_train)\n",
    "    tag = \" (GPU)\"\n",
    "except Exception as e:\n",
    "    print(\"GPU LGBM failed, falling back to CPU. Reason:\", e)\n",
    "    lgbm_cw_42f.set_params(device='cpu')\n",
    "    lgbm_cw_42f.fit(X_train32, y_train)\n",
    "    tag = \" (CPU fallback)\"\n",
    "y_lgb = lgbm_cw_42f.predict(X_test32)\n",
    "results_tab.append(evaluate_model(\"LightGBM\" + tag + \" (class-weighted)\", y_test, y_lgb, labels=class_names))\n",
    "gc.collect()\n",
    "\n",
    "joblib.dump(lgbm_cw_42f, \"lgbm_cw_42f.pkl\")\n",
    "'''"
   ]
  },
  {
   "cell_type": "code",
   "execution_count": null,
   "id": "7cad0326",
   "metadata": {
    "scrolled": true
   },
   "outputs": [],
   "source": [
    "'''\n",
    "# Train MLP\n",
    "\n",
    "# Start from float32 train for lower RAM\n",
    "X0, y0 = X_train32, y_train\n",
    "cnt0 = Counter(y0)\n",
    "maj = max(cnt0, key=cnt0.get)\n",
    "\n",
    "# 1) Under-sample majority to a cap (keeps things stable)\n",
    "MAJ_CAP = 200_000\n",
    "rus = RandomUnderSampler(random_state=42, sampling_strategy={maj: MAJ_CAP})\n",
    "X_u, y_u = rus.fit_resample(X0, y0)\n",
    "cnt_u = Counter(y_u)\n",
    "\n",
    "# 2) Over-sample only classes BELOW the target\n",
    "TARGET = 50_000\n",
    "target_per_class = min(TARGET, cnt_u[maj])  # never exceed majority cap\n",
    "sampling_strategy = {\n",
    "    c: target_per_class\n",
    "    for c, n in cnt_u.items()\n",
    "    if n < target_per_class          # <-- only increase smaller classes\n",
    "}\n",
    "ros = RandomOverSampler(random_state=42, sampling_strategy=sampling_strategy)\n",
    "X_mlp_tr, y_mlp_tr = ros.fit_resample(X_u, y_u)\n",
    "\n",
    "print(\"After RUS+ROS:\", Counter(y_mlp_tr))\n",
    "gc.collect()\n",
    "\n",
    "# Train MLP on the rebalanced subset\n",
    "mlp_cw_42f = Pipeline([\n",
    "    (\"scaler\", StandardScaler(with_mean=False)),\n",
    "    (\"mlp\", MLPClassifier(hidden_layer_sizes=(128,),\n",
    "                          max_iter=400, early_stopping=True, random_state=42))\n",
    "])\n",
    "mlp_cw_42f.fit(X_mlp_tr, y_mlp_tr)\n",
    "y_mlp = mlp_cw_42f.predict(X_test32)\n",
    "results_tab.append(evaluate_model(\"MLP (scaled, RUS+ROS)\", y_test, y_mlp, labels=class_names))\n",
    "\n",
    "joblib.dump(mlp_cw_42f, \"mlp_cw_42f.pkl\")\n",
    "'''"
   ]
  },
  {
   "cell_type": "code",
   "execution_count": null,
   "id": "49de721d",
   "metadata": {},
   "outputs": [],
   "source": [
    "'''\n",
    "# Decision Tree\n",
    "dt_cw_42f = DecisionTreeClassifier(max_depth=12, random_state=42, class_weight=class_weight_dict)\n",
    "dt_cw_42f.fit(X_train32, y_train)\n",
    "y_dt = dt_cw_42f.predict(X_test32)\n",
    "results_tab.append(evaluate_model(\"Decision Tree (class-weighted)\", y_test, y_dt, labels=class_names))\n",
    "gc.collect()\n",
    "\n",
    "joblib.dump(dt_cw_42f, \"dt_cw_42f.pkl\")\n",
    "'''"
   ]
  },
  {
   "cell_type": "markdown",
   "id": "724abfc1",
   "metadata": {},
   "source": [
    "### Avg Feature Normalized"
   ]
  },
  {
   "cell_type": "code",
   "execution_count": null,
   "id": "0db39b35",
   "metadata": {},
   "outputs": [],
   "source": [
    "'''\n",
    "rf_norm = rf_cw_42f.feature_importances_ / rf_cw_42f.feature_importances_.sum()\n",
    "xgb_norm = xgb_cw_42f.feature_importances_ / xgb_cw_42f.feature_importances_.sum()\n",
    "dt_norm = dt_cw_42f.feature_importances_ / dt_cw_42f.feature_importances_.sum()\n",
    "\n",
    "features = X.columns\n",
    "\n",
    "# Create DataFrame\n",
    "importance_df = pd.DataFrame({\n",
    "    'Feature': features,\n",
    "    'Random Forest': rf_norm,\n",
    "    'XGBoost': xgb_norm,\n",
    "    'DicisionTree': dt_norm\n",
    "})\n",
    "\n",
    "# Top 20 based on mean importance\n",
    "importance_df['avg'] = importance_df[['Random Forest', 'XGBoost', 'DicisionTree']].mean(axis=1)\n",
    "top20 = importance_df.sort_values('avg', ascending=False).head(10)\n",
    "\n",
    "\n",
    "\n",
    "importance_melted = top20.melt(id_vars='Feature', \n",
    "                                var_name='Model', \n",
    "                                value_name='Importance')\n",
    "\n",
    "plt.figure(figsize=(12, 8))\n",
    "sns.barplot(data=importance_melted, \n",
    "            x='Importance', y='Feature', hue='Model')\n",
    "plt.title(\"Top 20 Feature Importances Across Models\")\n",
    "plt.xlabel(\"Normalized Importance Score\")\n",
    "plt.ylabel(\"Feature\")\n",
    "plt.legend(title=\"Model\")\n",
    "plt.tight_layout()\n",
    "plt.show()\n",
    "'''"
   ]
  },
  {
   "cell_type": "code",
   "execution_count": null,
   "id": "2a3be9bb",
   "metadata": {},
   "outputs": [],
   "source": []
  },
  {
   "cell_type": "code",
   "execution_count": null,
   "id": "15172ada",
   "metadata": {},
   "outputs": [],
   "source": [
    "'''\n",
    "# 6) Lightweight CNN (GPU if available) on 4 features (2×2)\n",
    "features_cnn = ['Attack_label', 'tcp.ack', 'udp.stream', 'icmp.seq_le']\n",
    "missing = [c for c in features_cnn if c not in X_train.columns]\n",
    "if missing:\n",
    "    print(\"Skipping CNN — missing features:\", missing)\n",
    "else:\n",
    "    scaler_cnn = MinMaxScaler()\n",
    "    Xtr4 = scaler_cnn.fit_transform(X_train[features_cnn].astype('float32'))\n",
    "    Xte4 = scaler_cnn.transform(X_test[features_cnn].astype('float32'))\n",
    "    Xtr4_cnn = Xtr4.reshape(-1, 2, 2, 1)\n",
    "    Xte4_cnn = Xte4.reshape(-1, 2, 2, 1)\n",
    "\n",
    "    cnn = Sequential([\n",
    "        Conv2D(16, (2,2), activation='relu', input_shape=(2,2,1)),\n",
    "        Flatten(),\n",
    "        Dense(32, activation='relu'),\n",
    "        Dropout(0.2),\n",
    "        Dense(num_classes, activation='softmax')  # multiclass\n",
    "    ])\n",
    "    cnn.compile(optimizer='adam', loss='sparse_categorical_crossentropy', metrics=['accuracy'])\n",
    "    es = EarlyStopping(monitor='val_loss', patience=2, restore_best_weights=True, verbose=0)\n",
    "\n",
    "    dev = '/GPU:0' if use_gpu else '/CPU:0'\n",
    "    with tf.device(dev):\n",
    "        cnn.fit(Xtr4_cnn, y_train, epochs=10, batch_size=512, validation_split=0.2, callbacks=[es], verbose=1 if use_gpu else 0)\n",
    "        probs = cnn.predict(Xte4_cnn, verbose=0)\n",
    "    y_cnn = probs.argmax(axis=1)\n",
    "    results_tab.append(evaluate_model(\"Lightweight CNN\"+(\" (GPU)\" if use_gpu else \" (CPU)\"), y_test, y_cnn, class_names))\n",
    "\n",
    "    \n",
    "joblib.dump(cnn, \"cnn.pkl\")\n",
    "'''"
   ]
  },
  {
   "cell_type": "markdown",
   "id": "f7a2001e",
   "metadata": {},
   "source": [
    "##  <font color=\"red\">Label Leakage Found !! </font>\n"
   ]
  },
  {
   "cell_type": "code",
   "execution_count": null,
   "id": "99fa5fc7",
   "metadata": {},
   "outputs": [],
   "source": [
    "'''\n",
    "# Summary\n",
    "import pandas as pd\n",
    "df_tab = pd.DataFrame(results_tab).sort_values(\"F1 (macro)\", ascending=False)\n",
    "display(df_tab.style.format({c: \"{:.4f}\" for c in df_tab.select_dtypes('number').columns}))\n",
    "'''"
   ]
  },
  {
   "cell_type": "code",
   "execution_count": null,
   "id": "4ed0dbf9",
   "metadata": {},
   "outputs": [],
   "source": []
  },
  {
   "cell_type": "markdown",
   "id": "077227e9",
   "metadata": {},
   "source": [
    "##  <font color=\"ogange\">Fixing Label Leakage and Retraining </font>"
   ]
  },
  {
   "cell_type": "code",
   "execution_count": 17,
   "id": "ce490d68",
   "metadata": {},
   "outputs": [],
   "source": [
    "drop_cols = [\n",
    "    \"frame.time\", \"ip.src_host\", \"ip.dst_host\", \n",
    "    \"http.file_data\", \"http.request.uri.query\", \"http.request.method\",\n",
    "    \"http.referer\", \"http.request.full_uri\", \"http.request.version\",\n",
    "    \"dns.qry.name\", \"mqtt.protoname\", \"mqtt.topic\"\n",
    "]\n",
    "\n",
    "df_edge_clean = df_edge.drop(columns=drop_cols, errors=\"ignore\")\n"
   ]
  },
  {
   "cell_type": "code",
   "execution_count": 18,
   "id": "2e0c6d77",
   "metadata": {},
   "outputs": [],
   "source": [
    "from sklearn.preprocessing import LabelEncoder\n",
    "y_str = df_edge_clean[\"Attack_type\"].astype(str).values\n",
    "# Avoid shadowing old vars\n",
    "le = LabelEncoder()\n",
    "y_clean = le.fit_transform(df_edge_clean[\"Attack_type\"].astype(str))\n",
    "class_names = le.classes_\n",
    "\n",
    "X_clean = (\n",
    "    df_edge_clean\n",
    "    .drop(columns=[\"Attack_type\", \"Attack_label\"], errors=\"ignore\")\n",
    "    .select_dtypes(include=[np.number])\n",
    "    .fillna(0.0)\n",
    ")\n",
    "\n"
   ]
  },
  {
   "cell_type": "code",
   "execution_count": 19,
   "id": "8b40d02b",
   "metadata": {},
   "outputs": [
    {
     "name": "stdout",
     "output_type": "stream",
     "text": [
      "X shape: (2219201, 41)\n",
      "y shape: (2219201,)\n",
      "Number of classes: 15\n",
      "Classes: ['Backdoor' 'DDoS_HTTP' 'DDoS_ICMP' 'DDoS_TCP' 'DDoS_UDP' 'Fingerprinting'\n",
      " 'MITM' 'Normal' 'Password' 'Port_Scanning' 'Ransomware' 'SQL_injection'\n",
      " 'Uploading' 'Vulnerability_scanner' 'XSS']\n"
     ]
    }
   ],
   "source": [
    "print(\"X shape:\", X_clean.shape)\n",
    "print(\"y shape:\", y_str.shape)\n",
    "print(\"Number of classes:\", num_classes)\n",
    "print(\"Classes:\", class_names)\n"
   ]
  },
  {
   "cell_type": "code",
   "execution_count": 20,
   "id": "58770fb3",
   "metadata": {},
   "outputs": [
    {
     "name": "stdout",
     "output_type": "stream",
     "text": [
      "1: arp.opcode\n",
      "2: arp.hw.size\n",
      "3: icmp.checksum\n",
      "4: icmp.seq_le\n",
      "5: icmp.transmit_timestamp\n",
      "6: icmp.unused\n",
      "7: http.content_length\n",
      "8: http.response\n",
      "9: http.tls_port\n",
      "10: tcp.ack\n",
      "11: tcp.ack_raw\n",
      "12: tcp.checksum\n",
      "13: tcp.connection.fin\n",
      "14: tcp.connection.rst\n",
      "15: tcp.connection.syn\n",
      "16: tcp.connection.synack\n",
      "17: tcp.dstport\n",
      "18: tcp.flags\n",
      "19: tcp.flags.ack\n",
      "20: tcp.len\n",
      "21: tcp.seq\n",
      "22: udp.port\n",
      "23: udp.stream\n",
      "24: udp.time_delta\n",
      "25: dns.qry.qu\n",
      "26: dns.qry.type\n",
      "27: dns.retransmission\n",
      "28: dns.retransmit_request\n",
      "29: dns.retransmit_request_in\n",
      "30: mqtt.conflag.cleansess\n",
      "31: mqtt.conflags\n",
      "32: mqtt.hdrflags\n",
      "33: mqtt.len\n",
      "34: mqtt.msg_decoded_as\n",
      "35: mqtt.msgtype\n",
      "36: mqtt.proto_len\n",
      "37: mqtt.topic_len\n",
      "38: mqtt.ver\n",
      "39: mbtcp.len\n",
      "40: mbtcp.trans_id\n",
      "41: mbtcp.unit_id\n"
     ]
    }
   ],
   "source": [
    "for i, col in enumerate(X_clean.columns, start=1):\n",
    "    print(f\"{i}: {col}\")"
   ]
  },
  {
   "cell_type": "code",
   "execution_count": 32,
   "id": "5b8f27f2",
   "metadata": {},
   "outputs": [],
   "source": [
    "X_train_clean, X_test_clean, y_train_clean, y_test_clean = train_test_split(\n",
    "    X_clean, y_clean, test_size=0.2, stratify=y_clean, random_state=42\n",
    ")\n"
   ]
  },
  {
   "cell_type": "code",
   "execution_count": 33,
   "id": "6072f8ec",
   "metadata": {},
   "outputs": [],
   "source": [
    "# --- Prep: float32 views of the CLEAN splits ---\n",
    "import numpy as np\n",
    "X_train_clean32 = np.nan_to_num(np.asarray(X_train_clean, dtype=np.float32), nan=0.0, posinf=0.0, neginf=0.0)\n",
    "X_test_clean32  = np.nan_to_num(np.asarray(X_test_clean,  dtype=np.float32), nan=0.0, posinf=0.0, neginf=0.0)\n"
   ]
  },
  {
   "cell_type": "code",
   "execution_count": null,
   "id": "f06594be",
   "metadata": {},
   "outputs": [],
   "source": [
    "'''\n",
    "# --- Random Forest (leak-proof, memory-aware) ---\n",
    "import joblib, gc\n",
    "from sklearn.ensemble import RandomForestClassifier\n",
    "rf_cw_42f_LLf = RandomForestClassifier(\n",
    "    n_estimators=100,\n",
    "    max_depth=12,\n",
    "    max_leaf_nodes=512,\n",
    "    min_samples_leaf=5,\n",
    "    bootstrap=False,\n",
    "    n_jobs=4,\n",
    "    random_state=42,\n",
    "    class_weight=class_weight_dict\n",
    ")\n",
    "\n",
    "# Fit on CLEAN data\n",
    "rf_cw_42f_LLf.fit(X_train_clean32, y_train_clean)\n",
    "\n",
    "# Predict on CLEAN test\n",
    "y_rf_clean = rf_cw_42f_LLf.predict(X_test_clean32)\n",
    "\n",
    "# Evaluate\n",
    "results_tab.append(\n",
    "    evaluate_model(\"Random Forest (class-weighted, clean)\", y_test_clean, y_rf_clean, labels=class_names)\n",
    ")\n",
    "\n",
    "# Save the correct model object\n",
    "joblib.dump(rf_cw_42f_LLf, \"rf_cw_42f_LLf.pkl\")\n",
    "gc.collect()\n",
    "'''"
   ]
  },
  {
   "cell_type": "code",
   "execution_count": null,
   "id": "c9ddca73",
   "metadata": {},
   "outputs": [],
   "source": [
    "'''\n",
    "# --- LightGBM (GPU, guarded, full train) ---\n",
    "import numpy as np, gc, joblib\n",
    "from lightgbm import LGBMClassifier\n",
    "from sklearn.feature_selection import VarianceThreshold\n",
    "\n",
    "# 1) Variance filter (remove constant features)\n",
    "vt = VarianceThreshold(threshold=0.0)\n",
    "X_train_v = vt.fit_transform(X_train_clean32)\n",
    "X_test_v  = vt.transform(X_test_clean32)\n",
    "\n",
    "# 2) Conservative GPU params\n",
    "lgbm_cw_42f_LLf = LGBMClassifier(\n",
    "    objective='multiclass',\n",
    "    num_class=len(class_names),\n",
    "    boosting_type='gbdt',\n",
    "    device_type='gpu',          # GPU\n",
    "    n_jobs=2,\n",
    "    # keep memory & splits stable\n",
    "    max_bin=63,\n",
    "    n_estimators=300,\n",
    "    learning_rate=0.1,\n",
    "    num_leaves=31,\n",
    "    max_depth=12,\n",
    "    min_data_in_leaf=2000,\n",
    "    min_sum_hessian_in_leaf=1.0,\n",
    "    min_gain_to_split=1e-3,\n",
    "    subsample=0.8,\n",
    "    colsample_bytree=0.8,\n",
    "    reg_alpha=1.0,\n",
    "    reg_lambda=2.0,\n",
    "    feature_pre_filter=False,\n",
    "    class_weight=class_weight_dict,\n",
    "    random_state=42\n",
    ")\n",
    "\n",
    "try:\n",
    "    lgbm_cw_42f_LLf.fit(X_train_v, y_train_clean)\n",
    "    tag = \" (GPU)\"\n",
    "except Exception as e:\n",
    "    print(\"GPU failed → CPU fallback:\", e)\n",
    "    lgbm_gpu_guarded.set_params(\n",
    "        device_type='cpu',\n",
    "        force_col_wise=True,\n",
    "        max_bin=127,\n",
    "        min_data_in_leaf=1000\n",
    "    )\n",
    "    lgbm_cw_42f_LLf.fit(X_train_v, y_train_clean)\n",
    "    tag = \" (CPU fallback)\"\n",
    "\n",
    "y_pred = lgbm_cw_42f_LLf.predict(X_test_v)\n",
    "results_tab.append(\n",
    "    evaluate_model(\"LightGBM\" + tag + \" (class-weighted, clean)\", y_test_clean, y_pred, labels=class_names)\n",
    ")\n",
    "joblib.dump(lgbm_cw_42f_LLf, \"lgbm_cw_42f_LLf.pkl\")\n",
    "gc.collect()\n",
    "'''"
   ]
  },
  {
   "cell_type": "code",
   "execution_count": null,
   "id": "6cad49f5",
   "metadata": {},
   "outputs": [],
   "source": []
  },
  {
   "cell_type": "code",
   "execution_count": null,
   "id": "83bd1508",
   "metadata": {},
   "outputs": [],
   "source": [
    "'''\n",
    "# --- Start from CLEAN float32 splits ---\n",
    "X0, y0 = X_train_clean32, y_train_clean\n",
    "cnt0 = Counter(y0)\n",
    "maj = max(cnt0, key=cnt0.get)\n",
    "\n",
    "# 1) Under-sample majority to a cap (keeps things stable)\n",
    "MAJ_CAP = 200_000\n",
    "rus = RandomUnderSampler(random_state=42, sampling_strategy={maj: MAJ_CAP})\n",
    "X_u, y_u = rus.fit_resample(X0, y0)\n",
    "cnt_u = Counter(y_u)\n",
    "\n",
    "# 2) Over-sample only classes BELOW the target\n",
    "TARGET = 50_000\n",
    "target_per_class = min(TARGET, cnt_u[maj])  # never exceed majority cap\n",
    "sampling_strategy = {\n",
    "    c: target_per_class\n",
    "    for c, n in cnt_u.items()\n",
    "    if n < target_per_class\n",
    "}\n",
    "ros = RandomOverSampler(random_state=42, sampling_strategy=sampling_strategy)\n",
    "X_mlp_tr, y_mlp_tr = ros.fit_resample(X_u, y_u)\n",
    "\n",
    "print(\"After RUS+ROS:\", Counter(y_mlp_tr))\n",
    "gc.collect()\n",
    "\n",
    "# 3) Train MLP on the rebalanced subset\n",
    "mlp_cw_42f_LLf = Pipeline([\n",
    "    (\"scaler\", StandardScaler(with_mean=False)),\n",
    "    (\"mlp\", MLPClassifier(hidden_layer_sizes=(128,),\n",
    "                          max_iter=400, early_stopping=True, random_state=42))\n",
    "])\n",
    "mlp_cw_42f_LLf.fit(X_mlp_tr, y_mlp_tr)\n",
    "\n",
    "# 4) Evaluate on CLEAN test\n",
    "y_mlp = mlp_cw_42f_LLf.predict(X_test_clean32)\n",
    "results_tab.append(\n",
    "    evaluate_model(\"MLP (scaled, RUS+ROS, clean)\", y_test_clean, y_mlp, labels=class_names)\n",
    ")\n",
    "\n",
    "\n",
    "joblib.dump(mlp_cw_42f_LLf, \"mlp_cw_42f_LLf.pkl\")\n",
    "'''"
   ]
  },
  {
   "cell_type": "code",
   "execution_count": 35,
   "id": "ef45dc40",
   "metadata": {},
   "outputs": [
    {
     "ename": "XGBoostError",
     "evalue": "[21:48:17] /workspace/src/common/common.cu:16: /workspace/src/common/cuda_dr_utils.cc: 24: cudaErrorNoDevice: no CUDA-capable device is detected\nStack trace:\n  [bt] (0) /home/aftab/Thesis/thesis-env/lib/python3.12/site-packages/xgboost/lib/libxgboost.so(+0x2a6acc) [0x7520944a6acc]\n  [bt] (1) /home/aftab/Thesis/thesis-env/lib/python3.12/site-packages/xgboost/lib/libxgboost.so(+0xa59cee) [0x752094c59cee]\n  [bt] (2) /home/aftab/Thesis/thesis-env/lib/python3.12/site-packages/xgboost/lib/libxgboost.so(+0x382c8b) [0x752094582c8b]\n  [bt] (3) /home/aftab/Thesis/thesis-env/lib/python3.12/site-packages/xgboost/lib/libxgboost.so(+0x383cfc) [0x752094583cfc]\n  [bt] (4) /lib/x86_64-linux-gnu/libc.so.6(+0xa1ed3) [0x75217dca1ed3]\n  [bt] (5) /home/aftab/Thesis/thesis-env/lib/python3.12/site-packages/xgboost/lib/libxgboost.so(+0x382bb8) [0x752094582bb8]\n  [bt] (6) /home/aftab/Thesis/thesis-env/lib/python3.12/site-packages/xgboost/lib/libxgboost.so(+0xa5b0c5) [0x752094c5b0c5]\n  [bt] (7) /home/aftab/Thesis/thesis-env/lib/python3.12/site-packages/xgboost/lib/libxgboost.so(+0xa5a047) [0x752094c5a047]\n  [bt] (8) /home/aftab/Thesis/thesis-env/lib/python3.12/site-packages/xgboost/lib/libxgboost.so(+0xd91ec6) [0x752094f91ec6]\n\n",
     "output_type": "error",
     "traceback": [
      "\u001b[31m---------------------------------------------------------------------------\u001b[39m",
      "\u001b[31mXGBoostError\u001b[39m                              Traceback (most recent call last)",
      "\u001b[36mCell\u001b[39m\u001b[36m \u001b[39m\u001b[32mIn[35]\u001b[39m\u001b[32m, line 32\u001b[39m\n\u001b[32m     22\u001b[39m xgb_cw_42f_LLf = XGBClassifier(\n\u001b[32m     23\u001b[39m     objective=\u001b[33m'\u001b[39m\u001b[33mmulti:softprob\u001b[39m\u001b[33m'\u001b[39m,\n\u001b[32m     24\u001b[39m     num_class=\u001b[38;5;28mlen\u001b[39m(class_names),\n\u001b[32m   (...)\u001b[39m\u001b[32m     28\u001b[39m     random_state=\u001b[32m42\u001b[39m\n\u001b[32m     29\u001b[39m )\n\u001b[32m     31\u001b[39m \u001b[38;5;66;03m# Train (on CLEAN splits)\u001b[39;00m\n\u001b[32m---> \u001b[39m\u001b[32m32\u001b[39m \u001b[43mxgb_cw_42f_LLf\u001b[49m\u001b[43m.\u001b[49m\u001b[43mfit\u001b[49m\u001b[43m(\u001b[49m\n\u001b[32m     33\u001b[39m \u001b[43m    \u001b[49m\u001b[43mX_train_clean32\u001b[49m\u001b[43m,\u001b[49m\u001b[43m \u001b[49m\u001b[43my_train_clean\u001b[49m\u001b[43m,\u001b[49m\n\u001b[32m     34\u001b[39m \u001b[43m    \u001b[49m\u001b[43msample_weight\u001b[49m\u001b[43m=\u001b[49m\u001b[43msample_weight_clean\u001b[49m\u001b[43m,\u001b[49m\n\u001b[32m     35\u001b[39m \u001b[43m    \u001b[49m\u001b[43meval_set\u001b[49m\u001b[43m=\u001b[49m\u001b[43m[\u001b[49m\u001b[43m(\u001b[49m\u001b[43mX_test_clean32\u001b[49m\u001b[43m,\u001b[49m\u001b[43m \u001b[49m\u001b[43my_test_clean\u001b[49m\u001b[43m)\u001b[49m\u001b[43m]\u001b[49m\u001b[43m,\u001b[49m\n\u001b[32m     36\u001b[39m \u001b[43m    \u001b[49m\u001b[43mverbose\u001b[49m\u001b[43m=\u001b[49m\u001b[38;5;28;43;01mFalse\u001b[39;49;00m\n\u001b[32m     37\u001b[39m \u001b[43m)\u001b[49m\n\u001b[32m     39\u001b[39m \u001b[38;5;66;03m# Predict + evaluate (CLEAN test)\u001b[39;00m\n\u001b[32m     40\u001b[39m y_xgb_clean = xgb_cw_42f_LLf.predict(X_test_clean32)\n",
      "\u001b[36mFile \u001b[39m\u001b[32m~/Thesis/thesis-env/lib/python3.12/site-packages/xgboost/core.py:729\u001b[39m, in \u001b[36mrequire_keyword_args.<locals>.throw_if.<locals>.inner_f\u001b[39m\u001b[34m(*args, **kwargs)\u001b[39m\n\u001b[32m    727\u001b[39m \u001b[38;5;28;01mfor\u001b[39;00m k, arg \u001b[38;5;129;01min\u001b[39;00m \u001b[38;5;28mzip\u001b[39m(sig.parameters, args):\n\u001b[32m    728\u001b[39m     kwargs[k] = arg\n\u001b[32m--> \u001b[39m\u001b[32m729\u001b[39m \u001b[38;5;28;01mreturn\u001b[39;00m \u001b[43mfunc\u001b[49m\u001b[43m(\u001b[49m\u001b[43m*\u001b[49m\u001b[43m*\u001b[49m\u001b[43mkwargs\u001b[49m\u001b[43m)\u001b[49m\n",
      "\u001b[36mFile \u001b[39m\u001b[32m~/Thesis/thesis-env/lib/python3.12/site-packages/xgboost/sklearn.py:1682\u001b[39m, in \u001b[36mXGBClassifier.fit\u001b[39m\u001b[34m(self, X, y, sample_weight, base_margin, eval_set, verbose, xgb_model, sample_weight_eval_set, base_margin_eval_set, feature_weights)\u001b[39m\n\u001b[32m   1660\u001b[39m model, metric, params, feature_weights = \u001b[38;5;28mself\u001b[39m._configure_fit(\n\u001b[32m   1661\u001b[39m     xgb_model, params, feature_weights\n\u001b[32m   1662\u001b[39m )\n\u001b[32m   1663\u001b[39m train_dmatrix, evals = _wrap_evaluation_matrices(\n\u001b[32m   1664\u001b[39m     missing=\u001b[38;5;28mself\u001b[39m.missing,\n\u001b[32m   1665\u001b[39m     X=X,\n\u001b[32m   (...)\u001b[39m\u001b[32m   1679\u001b[39m     feature_types=\u001b[38;5;28mself\u001b[39m.feature_types,\n\u001b[32m   1680\u001b[39m )\n\u001b[32m-> \u001b[39m\u001b[32m1682\u001b[39m \u001b[38;5;28mself\u001b[39m._Booster = \u001b[43mtrain\u001b[49m\u001b[43m(\u001b[49m\n\u001b[32m   1683\u001b[39m \u001b[43m    \u001b[49m\u001b[43mparams\u001b[49m\u001b[43m,\u001b[49m\n\u001b[32m   1684\u001b[39m \u001b[43m    \u001b[49m\u001b[43mtrain_dmatrix\u001b[49m\u001b[43m,\u001b[49m\n\u001b[32m   1685\u001b[39m \u001b[43m    \u001b[49m\u001b[38;5;28;43mself\u001b[39;49m\u001b[43m.\u001b[49m\u001b[43mget_num_boosting_rounds\u001b[49m\u001b[43m(\u001b[49m\u001b[43m)\u001b[49m\u001b[43m,\u001b[49m\n\u001b[32m   1686\u001b[39m \u001b[43m    \u001b[49m\u001b[43mevals\u001b[49m\u001b[43m=\u001b[49m\u001b[43mevals\u001b[49m\u001b[43m,\u001b[49m\n\u001b[32m   1687\u001b[39m \u001b[43m    \u001b[49m\u001b[43mearly_stopping_rounds\u001b[49m\u001b[43m=\u001b[49m\u001b[38;5;28;43mself\u001b[39;49m\u001b[43m.\u001b[49m\u001b[43mearly_stopping_rounds\u001b[49m\u001b[43m,\u001b[49m\n\u001b[32m   1688\u001b[39m \u001b[43m    \u001b[49m\u001b[43mevals_result\u001b[49m\u001b[43m=\u001b[49m\u001b[43mevals_result\u001b[49m\u001b[43m,\u001b[49m\n\u001b[32m   1689\u001b[39m \u001b[43m    \u001b[49m\u001b[43mobj\u001b[49m\u001b[43m=\u001b[49m\u001b[43mobj\u001b[49m\u001b[43m,\u001b[49m\n\u001b[32m   1690\u001b[39m \u001b[43m    \u001b[49m\u001b[43mcustom_metric\u001b[49m\u001b[43m=\u001b[49m\u001b[43mmetric\u001b[49m\u001b[43m,\u001b[49m\n\u001b[32m   1691\u001b[39m \u001b[43m    \u001b[49m\u001b[43mverbose_eval\u001b[49m\u001b[43m=\u001b[49m\u001b[43mverbose\u001b[49m\u001b[43m,\u001b[49m\n\u001b[32m   1692\u001b[39m \u001b[43m    \u001b[49m\u001b[43mxgb_model\u001b[49m\u001b[43m=\u001b[49m\u001b[43mmodel\u001b[49m\u001b[43m,\u001b[49m\n\u001b[32m   1693\u001b[39m \u001b[43m    \u001b[49m\u001b[43mcallbacks\u001b[49m\u001b[43m=\u001b[49m\u001b[38;5;28;43mself\u001b[39;49m\u001b[43m.\u001b[49m\u001b[43mcallbacks\u001b[49m\u001b[43m,\u001b[49m\n\u001b[32m   1694\u001b[39m \u001b[43m\u001b[49m\u001b[43m)\u001b[49m\n\u001b[32m   1696\u001b[39m \u001b[38;5;28;01mif\u001b[39;00m \u001b[38;5;129;01mnot\u001b[39;00m \u001b[38;5;28mcallable\u001b[39m(\u001b[38;5;28mself\u001b[39m.objective):\n\u001b[32m   1697\u001b[39m     \u001b[38;5;28mself\u001b[39m.objective = params[\u001b[33m\"\u001b[39m\u001b[33mobjective\u001b[39m\u001b[33m\"\u001b[39m]\n",
      "\u001b[36mFile \u001b[39m\u001b[32m~/Thesis/thesis-env/lib/python3.12/site-packages/xgboost/core.py:729\u001b[39m, in \u001b[36mrequire_keyword_args.<locals>.throw_if.<locals>.inner_f\u001b[39m\u001b[34m(*args, **kwargs)\u001b[39m\n\u001b[32m    727\u001b[39m \u001b[38;5;28;01mfor\u001b[39;00m k, arg \u001b[38;5;129;01min\u001b[39;00m \u001b[38;5;28mzip\u001b[39m(sig.parameters, args):\n\u001b[32m    728\u001b[39m     kwargs[k] = arg\n\u001b[32m--> \u001b[39m\u001b[32m729\u001b[39m \u001b[38;5;28;01mreturn\u001b[39;00m \u001b[43mfunc\u001b[49m\u001b[43m(\u001b[49m\u001b[43m*\u001b[49m\u001b[43m*\u001b[49m\u001b[43mkwargs\u001b[49m\u001b[43m)\u001b[49m\n",
      "\u001b[36mFile \u001b[39m\u001b[32m~/Thesis/thesis-env/lib/python3.12/site-packages/xgboost/training.py:183\u001b[39m, in \u001b[36mtrain\u001b[39m\u001b[34m(params, dtrain, num_boost_round, evals, obj, maximize, early_stopping_rounds, evals_result, verbose_eval, xgb_model, callbacks, custom_metric)\u001b[39m\n\u001b[32m    181\u001b[39m \u001b[38;5;28;01mif\u001b[39;00m cb_container.before_iteration(bst, i, dtrain, evals):\n\u001b[32m    182\u001b[39m     \u001b[38;5;28;01mbreak\u001b[39;00m\n\u001b[32m--> \u001b[39m\u001b[32m183\u001b[39m \u001b[43mbst\u001b[49m\u001b[43m.\u001b[49m\u001b[43mupdate\u001b[49m\u001b[43m(\u001b[49m\u001b[43mdtrain\u001b[49m\u001b[43m,\u001b[49m\u001b[43m \u001b[49m\u001b[43miteration\u001b[49m\u001b[43m=\u001b[49m\u001b[43mi\u001b[49m\u001b[43m,\u001b[49m\u001b[43m \u001b[49m\u001b[43mfobj\u001b[49m\u001b[43m=\u001b[49m\u001b[43mobj\u001b[49m\u001b[43m)\u001b[49m\n\u001b[32m    184\u001b[39m \u001b[38;5;28;01mif\u001b[39;00m cb_container.after_iteration(bst, i, dtrain, evals):\n\u001b[32m    185\u001b[39m     \u001b[38;5;28;01mbreak\u001b[39;00m\n",
      "\u001b[36mFile \u001b[39m\u001b[32m~/Thesis/thesis-env/lib/python3.12/site-packages/xgboost/core.py:2246\u001b[39m, in \u001b[36mBooster.update\u001b[39m\u001b[34m(self, dtrain, iteration, fobj)\u001b[39m\n\u001b[32m   2243\u001b[39m \u001b[38;5;28mself\u001b[39m._assign_dmatrix_features(dtrain)\n\u001b[32m   2245\u001b[39m \u001b[38;5;28;01mif\u001b[39;00m fobj \u001b[38;5;129;01mis\u001b[39;00m \u001b[38;5;28;01mNone\u001b[39;00m:\n\u001b[32m-> \u001b[39m\u001b[32m2246\u001b[39m     \u001b[43m_check_call\u001b[49m\u001b[43m(\u001b[49m\n\u001b[32m   2247\u001b[39m \u001b[43m        \u001b[49m\u001b[43m_LIB\u001b[49m\u001b[43m.\u001b[49m\u001b[43mXGBoosterUpdateOneIter\u001b[49m\u001b[43m(\u001b[49m\n\u001b[32m   2248\u001b[39m \u001b[43m            \u001b[49m\u001b[38;5;28;43mself\u001b[39;49m\u001b[43m.\u001b[49m\u001b[43mhandle\u001b[49m\u001b[43m,\u001b[49m\u001b[43m \u001b[49m\u001b[43mctypes\u001b[49m\u001b[43m.\u001b[49m\u001b[43mc_int\u001b[49m\u001b[43m(\u001b[49m\u001b[43miteration\u001b[49m\u001b[43m)\u001b[49m\u001b[43m,\u001b[49m\u001b[43m \u001b[49m\u001b[43mdtrain\u001b[49m\u001b[43m.\u001b[49m\u001b[43mhandle\u001b[49m\n\u001b[32m   2249\u001b[39m \u001b[43m        \u001b[49m\u001b[43m)\u001b[49m\n\u001b[32m   2250\u001b[39m \u001b[43m    \u001b[49m\u001b[43m)\u001b[49m\n\u001b[32m   2251\u001b[39m \u001b[38;5;28;01melse\u001b[39;00m:\n\u001b[32m   2252\u001b[39m     pred = \u001b[38;5;28mself\u001b[39m.predict(dtrain, output_margin=\u001b[38;5;28;01mTrue\u001b[39;00m, training=\u001b[38;5;28;01mTrue\u001b[39;00m)\n",
      "\u001b[36mFile \u001b[39m\u001b[32m~/Thesis/thesis-env/lib/python3.12/site-packages/xgboost/core.py:310\u001b[39m, in \u001b[36m_check_call\u001b[39m\u001b[34m(ret)\u001b[39m\n\u001b[32m    299\u001b[39m \u001b[38;5;250m\u001b[39m\u001b[33;03m\"\"\"Check the return value of C API call\u001b[39;00m\n\u001b[32m    300\u001b[39m \n\u001b[32m    301\u001b[39m \u001b[33;03mThis function will raise exception when error occurs.\u001b[39;00m\n\u001b[32m   (...)\u001b[39m\u001b[32m    307\u001b[39m \u001b[33;03m    return value from API calls\u001b[39;00m\n\u001b[32m    308\u001b[39m \u001b[33;03m\"\"\"\u001b[39;00m\n\u001b[32m    309\u001b[39m \u001b[38;5;28;01mif\u001b[39;00m ret != \u001b[32m0\u001b[39m:\n\u001b[32m--> \u001b[39m\u001b[32m310\u001b[39m     \u001b[38;5;28;01mraise\u001b[39;00m XGBoostError(py_str(_LIB.XGBGetLastError()))\n",
      "\u001b[31mXGBoostError\u001b[39m: [21:48:17] /workspace/src/common/common.cu:16: /workspace/src/common/cuda_dr_utils.cc: 24: cudaErrorNoDevice: no CUDA-capable device is detected\nStack trace:\n  [bt] (0) /home/aftab/Thesis/thesis-env/lib/python3.12/site-packages/xgboost/lib/libxgboost.so(+0x2a6acc) [0x7520944a6acc]\n  [bt] (1) /home/aftab/Thesis/thesis-env/lib/python3.12/site-packages/xgboost/lib/libxgboost.so(+0xa59cee) [0x752094c59cee]\n  [bt] (2) /home/aftab/Thesis/thesis-env/lib/python3.12/site-packages/xgboost/lib/libxgboost.so(+0x382c8b) [0x752094582c8b]\n  [bt] (3) /home/aftab/Thesis/thesis-env/lib/python3.12/site-packages/xgboost/lib/libxgboost.so(+0x383cfc) [0x752094583cfc]\n  [bt] (4) /lib/x86_64-linux-gnu/libc.so.6(+0xa1ed3) [0x75217dca1ed3]\n  [bt] (5) /home/aftab/Thesis/thesis-env/lib/python3.12/site-packages/xgboost/lib/libxgboost.so(+0x382bb8) [0x752094582bb8]\n  [bt] (6) /home/aftab/Thesis/thesis-env/lib/python3.12/site-packages/xgboost/lib/libxgboost.so(+0xa5b0c5) [0x752094c5b0c5]\n  [bt] (7) /home/aftab/Thesis/thesis-env/lib/python3.12/site-packages/xgboost/lib/libxgboost.so(+0xa5a047) [0x752094c5a047]\n  [bt] (8) /home/aftab/Thesis/thesis-env/lib/python3.12/site-packages/xgboost/lib/libxgboost.so(+0xd91ec6) [0x752094f91ec6]\n\n"
     ]
    }
   ],
   "source": [
    "\n",
    "# === Class weights + XGBoost training (CLEAN splits) ===\n",
    "\n",
    "# Recompute balanced class weights from y_train_clean (avoid stale globals)\n",
    "classes_unique = np.unique(y_train_clean)\n",
    "cw = compute_class_weight(class_weight='balanced', classes=classes_unique, y=y_train_clean)\n",
    "class_weight_dict = {int(c): float(w) for c, w in zip(classes_unique, cw)}\n",
    "\n",
    "# Per-sample weights for XGBoost (labels assumed 0..K-1 from LabelEncoder)\n",
    "class_weights_array = np.zeros(classes_unique.max() + 1, dtype=np.float32)\n",
    "class_weights_array[classes_unique] = cw.astype(np.float32)\n",
    "sample_weight_clean = class_weights_array[y_train_clean]\n",
    "\n",
    "# Detect GPU (simple toggle; set to False if you want CPU)\n",
    "try:\n",
    "    import tensorflow as tf\n",
    "    use_gpu = len(tf.config.list_physical_devices('GPU')) > 0\n",
    "except Exception:\n",
    "    use_gpu = False\n",
    "\n",
    "# Build XGBoost model (GPU uses gpu_hist; CPU uses hist)\n",
    "tree_method = 'gpu_hist' if use_gpu else 'hist'\n",
    "xgb_cw_42f_LLf = XGBClassifier(\n",
    "    objective='multi:softprob',\n",
    "    num_class=len(class_names),\n",
    "    eval_metric='mlogloss',\n",
    "    tree_method=tree_method,\n",
    "    n_jobs=n_jobs,\n",
    "    random_state=42\n",
    ")\n",
    "\n",
    "# Train (on CLEAN splits)\n",
    "xgb_cw_42f_LLf.fit(\n",
    "    X_train_clean32, y_train_clean,\n",
    "    sample_weight=sample_weight_clean,\n",
    "    eval_set=[(X_test_clean32, y_test_clean)],\n",
    "    verbose=False\n",
    ")\n",
    "\n",
    "# Predict + evaluate (CLEAN test)\n",
    "y_xgb_clean = xgb_cw_42f_LLf.predict(X_test_clean32)\n",
    "results_tab.append(\n",
    "    evaluate_model(\n",
    "        \"XGBoost (class-weighted\" + (\" GPU)\" if use_gpu else \" CPU)\"),\n",
    "        y_test_clean, y_xgb_clean, labels=class_names\n",
    "    )\n",
    ")\n",
    "\n",
    "# Save the trained XGB model (correct object)\n",
    "joblib.dump(xgb_cw_42f_LLf, \"xgb_cw_42f_LLf.pkl\")\n",
    "clf.save_model(\"xgb_cw_42f_LLf.json\")  \n",
    "gc.collect()\n"
   ]
  },
  {
   "cell_type": "code",
   "execution_count": null,
   "id": "ca006bdc",
   "metadata": {},
   "outputs": [],
   "source": [
    "'''\n",
    "#Decision Tree\n",
    "# Recompute class weights from y_train_clean to avoid stale globals\n",
    "classes_unique = np.unique(y_train_clean)\n",
    "cw = compute_class_weight(class_weight='balanced', classes=classes_unique, y=y_train_clean)\n",
    "class_weight_dict = {int(c): float(w) for c, w in zip(classes_unique, cw)}\n",
    "\n",
    "# Build model (consistent name)\n",
    "dt_cw_42f_LLf = DecisionTreeClassifier(\n",
    "    max_depth=12,\n",
    "    random_state=42,\n",
    "    class_weight=class_weight_dict\n",
    ")\n",
    "\n",
    "# Fit on CLEAN data\n",
    "dt_cw_42f_LLf.fit(X_train_clean32, y_train_clean)\n",
    "\n",
    "# Predict + evaluate on CLEAN test\n",
    "y_dt_clean = dt_cw_42f_LLf.predict(X_test_clean32)\n",
    "results_tab.append(evaluate_model(\"Decision Tree (class-weighted, clean)\", y_test_clean, y_dt_clean, labels=class_names))\n",
    "\n",
    "# Save correct model\n",
    "joblib.dump(dt_cw_42f_LLf, \"dt_cw_42f_LLf.pkl\")\n",
    "gc.collect()\n",
    "\n",
    "#print(\"Done. Saved -> dt_cw_42f_LLf.pkl\")\n",
    "'''"
   ]
  },
  {
   "cell_type": "code",
   "execution_count": 24,
   "id": "5cc29e6a",
   "metadata": {},
   "outputs": [
    {
     "ename": "NameError",
     "evalue": "name 'rf_cw_42f_LLf' is not defined",
     "output_type": "error",
     "traceback": [
      "\u001b[31m---------------------------------------------------------------------------\u001b[39m",
      "\u001b[31mNameError\u001b[39m                                 Traceback (most recent call last)",
      "\u001b[36mCell\u001b[39m\u001b[36m \u001b[39m\u001b[32mIn[24]\u001b[39m\u001b[32m, line 16\u001b[39m\n\u001b[32m     13\u001b[39m     \u001b[38;5;28;01mreturn\u001b[39;00m arr / s \u001b[38;5;28;01mif\u001b[39;00m s > \u001b[32m0\u001b[39m \u001b[38;5;28;01melse\u001b[39;00m arr\n\u001b[32m     15\u001b[39m \u001b[38;5;66;03m# Pull importances (they must match len(features))\u001b[39;00m\n\u001b[32m---> \u001b[39m\u001b[32m16\u001b[39m rf_imp = \u001b[38;5;28mgetattr\u001b[39m(\u001b[43mrf_cw_42f_LLf\u001b[49m, \u001b[33m\"\u001b[39m\u001b[33mfeature_importances_\u001b[39m\u001b[33m\"\u001b[39m, \u001b[38;5;28;01mNone\u001b[39;00m)\n\u001b[32m     17\u001b[39m xgb_imp = \u001b[38;5;28mgetattr\u001b[39m(xgb_cw_42f_LLf, \u001b[33m\"\u001b[39m\u001b[33mfeature_importances_\u001b[39m\u001b[33m\"\u001b[39m, \u001b[38;5;28;01mNone\u001b[39;00m)\n\u001b[32m     18\u001b[39m dt_imp  = \u001b[38;5;28mgetattr\u001b[39m(dt_cw_42f_LLf,  \u001b[33m\"\u001b[39m\u001b[33mfeature_importances_\u001b[39m\u001b[33m\"\u001b[39m, \u001b[38;5;28;01mNone\u001b[39;00m)\n",
      "\u001b[31mNameError\u001b[39m: name 'rf_cw_42f_LLf' is not defined"
     ]
    }
   ],
   "source": [
    "\n",
    "# --- Feature Importance (leak-proof, aligned to clean features) ---\n",
    "import numpy as np\n",
    "import pandas as pd\n",
    "import matplotlib.pyplot as plt\n",
    "import seaborn as sns\n",
    "\n",
    "# Use the SAME feature names the models were trained on\n",
    "features = list(X_train_clean.columns)  # or X_clean.columns (same order as fit)\n",
    "\n",
    "def _norm_imp(arr):\n",
    "    arr = np.asarray(arr, dtype=float)\n",
    "    s = arr.sum()\n",
    "    return arr / s if s > 0 else arr\n",
    "\n",
    "# Pull importances (they must match len(features))\n",
    "rf_imp = getattr(rf_cw_42f_LLf, \"feature_importances_\", None)\n",
    "xgb_imp = getattr(xgb_cw_42f_LLf, \"feature_importances_\", None)\n",
    "dt_imp  = getattr(dt_cw_42f_LLf,  \"feature_importances_\", None)\n",
    "\n",
    "for name, imp in [(\"RF\", rf_imp), (\"XGB\", xgb_imp), (\"DT\", dt_imp)]:\n",
    "    if imp is None:\n",
    "        raise ValueError(f\"{name} model has no feature_importances_.\")\n",
    "    if len(imp) != len(features):\n",
    "        raise ValueError(\n",
    "            f\"{name} importance length ({len(imp)}) != number of features ({len(features)}). \"\n",
    "            \"Make sure you're using X_clean / X_train_clean columns.\"\n",
    "        )\n",
    "\n",
    "rf_norm  = _norm_imp(rf_imp)\n",
    "xgb_norm = _norm_imp(xgb_imp)\n",
    "dt_norm  = _norm_imp(dt_imp)\n",
    "\n",
    "# Create DataFrame\n",
    "importance_df = pd.DataFrame({\n",
    "    \"Feature\": features,\n",
    "    \"Random Forest\": rf_norm,\n",
    "    \"XGBoost\": xgb_norm,\n",
    "    \"Decision Tree\": dt_norm\n",
    "})\n",
    "\n",
    "# Top 20 (your comment said 20; earlier code used head(10))\n",
    "importance_df[\"avg\"] = importance_df[[\"Random Forest\", \"XGBoost\", \"Decision Tree\"]].mean(axis=1)\n",
    "top20 = importance_df.sort_values(\"avg\", ascending=False).head(20)\n",
    "\n",
    "# Melt and plot\n",
    "importance_melted = top20.melt(id_vars=\"Feature\", var_name=\"Model\", value_name=\"Importance\")\n",
    "\n",
    "plt.figure(figsize=(12, 8))\n",
    "sns.barplot(data=importance_melted, x=\"Importance\", y=\"Feature\", hue=\"Model\")\n",
    "plt.title(\"Top 20 Feature Importances Across Models (Leak-proof)\")\n",
    "plt.xlabel(\"Normalized Importance\")\n",
    "plt.ylabel(\"Feature\")\n",
    "plt.legend(title=\"Model\")\n",
    "plt.tight_layout()\n",
    "plt.show()\n"
   ]
  },
  {
   "cell_type": "code",
   "execution_count": 25,
   "id": "56b759eb",
   "metadata": {},
   "outputs": [
    {
     "name": "stdout",
     "output_type": "stream",
     "text": [
      "Top 20 features by average importance:\n"
     ]
    },
    {
     "ename": "NameError",
     "evalue": "name 'top20' is not defined",
     "output_type": "error",
     "traceback": [
      "\u001b[31m---------------------------------------------------------------------------\u001b[39m",
      "\u001b[31mNameError\u001b[39m                                 Traceback (most recent call last)",
      "\u001b[36mCell\u001b[39m\u001b[36m \u001b[39m\u001b[32mIn[25]\u001b[39m\u001b[32m, line 2\u001b[39m\n\u001b[32m      1\u001b[39m \u001b[38;5;28mprint\u001b[39m(\u001b[33m\"\u001b[39m\u001b[33mTop 20 features by average importance:\u001b[39m\u001b[33m\"\u001b[39m)\n\u001b[32m----> \u001b[39m\u001b[32m2\u001b[39m \u001b[38;5;28;01mfor\u001b[39;00m i, f \u001b[38;5;129;01min\u001b[39;00m \u001b[38;5;28menumerate\u001b[39m(\u001b[43mtop20\u001b[49m[\u001b[33m\"\u001b[39m\u001b[33mFeature\u001b[39m\u001b[33m\"\u001b[39m].tolist(), start=\u001b[32m1\u001b[39m):\n\u001b[32m      3\u001b[39m     \u001b[38;5;28mprint\u001b[39m(\u001b[33mf\u001b[39m\u001b[33m\"\u001b[39m\u001b[38;5;132;01m{\u001b[39;00mi\u001b[38;5;132;01m:\u001b[39;00m\u001b[33m2d\u001b[39m\u001b[38;5;132;01m}\u001b[39;00m\u001b[33m. \u001b[39m\u001b[38;5;132;01m{\u001b[39;00mf\u001b[38;5;132;01m}\u001b[39;00m\u001b[33m\"\u001b[39m)\n",
      "\u001b[31mNameError\u001b[39m: name 'top20' is not defined"
     ]
    }
   ],
   "source": [
    "print(\"Top 20 features by average importance:\")\n",
    "for i, f in enumerate(top20[\"Feature\"].tolist(), start=1):\n",
    "    print(f\"{i:2d}. {f}\")\n"
   ]
  },
  {
   "cell_type": "code",
   "execution_count": null,
   "id": "cd408fc4",
   "metadata": {},
   "outputs": [],
   "source": [
    "'''\n",
    "# 6) Lightweight CNN (GPU if available) on 4 features (2×2)\n",
    "features_cnn = ['udp.stream','tcp.dstport','tcp.ack','mqtt.hdrflags']  # keep consistent with your binary notebook\n",
    "missing = [c for c in features_cnn if c not in X_train.columns]\n",
    "if missing:\n",
    "    print(\"Skipping CNN — missing features:\", missing)\n",
    "else:\n",
    "    scaler_cnn = MinMaxScaler()\n",
    "    Xtr4 = scaler_cnn.fit_transform(X_train[features_cnn].astype('float32'))\n",
    "    Xte4 = scaler_cnn.transform(X_test[features_cnn].astype('float32'))\n",
    "    Xtr4_cnn = Xtr4.reshape(-1, 2, 2, 1)\n",
    "    Xte4_cnn = Xte4.reshape(-1, 2, 2, 1)\n",
    "\n",
    "    cnn_4f_LLf = Sequential([\n",
    "        Conv2D(16, (2,2), activation='relu', input_shape=(2,2,1)),\n",
    "        Flatten(),\n",
    "        Dense(32, activation='relu'),\n",
    "        Dropout(0.2),\n",
    "        Dense(num_classes, activation='softmax')  # multiclass\n",
    "    ])\n",
    "    cnn_4f_LLf.compile(optimizer='adam', loss='sparse_categorical_crossentropy', metrics=['accuracy'])\n",
    "    es = EarlyStopping(monitor='val_loss', patience=2, restore_best_weights=True, verbose=0)\n",
    "\n",
    "    dev = '/GPU:0' if use_gpu else '/CPU:0'\n",
    "    with tf.device(dev):\n",
    "        cnn_4f_LLf.fit(Xtr4_cnn, y_train, epochs=10, batch_size=512, validation_split=0.2, callbacks=[es], verbose=1 if use_gpu else 0)\n",
    "        probs = cnn_4f_LLf.predict(Xte4_cnn, verbose=0)\n",
    "    y_cnn = probs.argmax(axis=1)\n",
    "    results_tab.append(evaluate_model(\"Lightweight CNN\"+(\" (GPU)\" if use_gpu else \" (CPU)\"), y_test, y_cnn, class_names))\n",
    "\n",
    "    \n",
    "#joblib.dump(cnn_4f_LLf, \"cnn_4f_LLf.pkl\")\n",
    "gc.collect()\n",
    "'''"
   ]
  },
  {
   "cell_type": "code",
   "execution_count": 26,
   "id": "641a5caf",
   "metadata": {},
   "outputs": [
    {
     "ename": "KeyError",
     "evalue": "'F1 (macro)'",
     "output_type": "error",
     "traceback": [
      "\u001b[31m---------------------------------------------------------------------------\u001b[39m",
      "\u001b[31mKeyError\u001b[39m                                  Traceback (most recent call last)",
      "\u001b[32m/tmp/ipykernel_574258/3168459499.py\u001b[39m in \u001b[36m?\u001b[39m\u001b[34m()\u001b[39m\n\u001b[32m      1\u001b[39m \u001b[38;5;66;03m# Summary\u001b[39;00m\n\u001b[32m      2\u001b[39m \u001b[38;5;28;01mimport\u001b[39;00m pandas \u001b[38;5;28;01mas\u001b[39;00m pd\n\u001b[32m----> \u001b[39m\u001b[32m3\u001b[39m df_tab = pd.DataFrame(results_tab).sort_values(\u001b[33m\"F1 (macro)\"\u001b[39m, ascending=\u001b[38;5;28;01mFalse\u001b[39;00m)\n\u001b[32m      4\u001b[39m display(df_tab.style.format({c: \u001b[33m\"{:.4f}\"\u001b[39m \u001b[38;5;28;01mfor\u001b[39;00m c \u001b[38;5;28;01min\u001b[39;00m df_tab.select_dtypes(\u001b[33m'number'\u001b[39m).columns}))\n",
      "\u001b[32m~/Thesis/thesis-env/lib/python3.12/site-packages/pandas/core/frame.py\u001b[39m in \u001b[36m?\u001b[39m\u001b[34m(self, by, axis, ascending, inplace, kind, na_position, ignore_index, key)\u001b[39m\n\u001b[32m   7185\u001b[39m             )\n\u001b[32m   7186\u001b[39m         \u001b[38;5;28;01melif\u001b[39;00m len(by):\n\u001b[32m   7187\u001b[39m             \u001b[38;5;66;03m# len(by) == 1\u001b[39;00m\n\u001b[32m   7188\u001b[39m \n\u001b[32m-> \u001b[39m\u001b[32m7189\u001b[39m             k = self._get_label_or_level_values(by[\u001b[32m0\u001b[39m], axis=axis)\n\u001b[32m   7190\u001b[39m \n\u001b[32m   7191\u001b[39m             \u001b[38;5;66;03m# need to rewrap column in Series to apply key function\u001b[39;00m\n\u001b[32m   7192\u001b[39m             \u001b[38;5;28;01mif\u001b[39;00m key \u001b[38;5;28;01mis\u001b[39;00m \u001b[38;5;28;01mnot\u001b[39;00m \u001b[38;5;28;01mNone\u001b[39;00m:\n",
      "\u001b[32m~/Thesis/thesis-env/lib/python3.12/site-packages/pandas/core/generic.py\u001b[39m in \u001b[36m?\u001b[39m\u001b[34m(self, key, axis)\u001b[39m\n\u001b[32m   1907\u001b[39m             values = self.xs(key, axis=other_axes[\u001b[32m0\u001b[39m])._values\n\u001b[32m   1908\u001b[39m         \u001b[38;5;28;01melif\u001b[39;00m self._is_level_reference(key, axis=axis):\n\u001b[32m   1909\u001b[39m             values = self.axes[axis].get_level_values(key)._values\n\u001b[32m   1910\u001b[39m         \u001b[38;5;28;01melse\u001b[39;00m:\n\u001b[32m-> \u001b[39m\u001b[32m1911\u001b[39m             \u001b[38;5;28;01mraise\u001b[39;00m KeyError(key)\n\u001b[32m   1912\u001b[39m \n\u001b[32m   1913\u001b[39m         \u001b[38;5;66;03m# Check for duplicates\u001b[39;00m\n\u001b[32m   1914\u001b[39m         \u001b[38;5;28;01mif\u001b[39;00m values.ndim > \u001b[32m1\u001b[39m:\n",
      "\u001b[31mKeyError\u001b[39m: 'F1 (macro)'"
     ]
    }
   ],
   "source": [
    "# Summary\n",
    "import pandas as pd\n",
    "df_tab = pd.DataFrame(results_tab).sort_values(\"F1 (macro)\", ascending=False)\n",
    "display(df_tab.style.format({c: \"{:.4f}\" for c in df_tab.select_dtypes('number').columns}))\n"
   ]
  },
  {
   "cell_type": "code",
   "execution_count": null,
   "id": "4d058347",
   "metadata": {},
   "outputs": [],
   "source": []
  },
  {
   "cell_type": "code",
   "execution_count": null,
   "id": "e12a41b0",
   "metadata": {},
   "outputs": [],
   "source": []
  },
  {
   "cell_type": "code",
   "execution_count": null,
   "id": "d586e2d5",
   "metadata": {},
   "outputs": [],
   "source": []
  },
  {
   "cell_type": "markdown",
   "id": "ecc1b4c9",
   "metadata": {},
   "source": [
    "## Best performing XGBoost (42 feature)"
   ]
  },
  {
   "cell_type": "markdown",
   "id": "37add7ff",
   "metadata": {},
   "source": [
    "####  XGBoost feature importance"
   ]
  },
  {
   "cell_type": "code",
   "execution_count": null,
   "id": "115aabad",
   "metadata": {},
   "outputs": [],
   "source": []
  },
  {
   "cell_type": "code",
   "execution_count": 27,
   "id": "b1215cf0",
   "metadata": {},
   "outputs": [
    {
     "name": "stderr",
     "output_type": "stream",
     "text": [
      "/usr/lib/python3.12/pickle.py:1710: UserWarning: [21:19:44] WARNING: /workspace/src/gbm/gbtree.cc:359: \n",
      "  Loading from a raw memory buffer (like pickle in Python, RDS in R) on a CPU-only\n",
      "  machine. Consider using `save_model/load_model` instead. See:\n",
      "\n",
      "    https://xgboost.readthedocs.io/en/latest/tutorials/saving_model.html\n",
      "\n",
      "  for more details about differences between saving model and serializing.  Changing `tree_method` to `hist`.\n",
      "  setstate(state)\n",
      "/usr/lib/python3.12/pickle.py:1710: UserWarning: [21:19:44] WARNING: /workspace/src/gbm/gbtree.cc:384: Changing updater from `grow_gpu_hist` to `grow_quantile_histmaker`.\n",
      "  setstate(state)\n"
     ]
    },
    {
     "ename": "XGBoostError",
     "evalue": "[21:19:44] /workspace/src/common/common.cu:16: /workspace/src/common/cuda_dr_utils.cc: 24: cudaErrorNoDevice: no CUDA-capable device is detected\nStack trace:\n  [bt] (0) /home/aftab/Thesis/thesis-env/lib/python3.12/site-packages/xgboost/lib/libxgboost.so(+0x2a6acc) [0x7520944a6acc]\n  [bt] (1) /home/aftab/Thesis/thesis-env/lib/python3.12/site-packages/xgboost/lib/libxgboost.so(+0xa59cee) [0x752094c59cee]\n  [bt] (2) /home/aftab/Thesis/thesis-env/lib/python3.12/site-packages/xgboost/lib/libxgboost.so(+0x382c8b) [0x752094582c8b]\n  [bt] (3) /home/aftab/Thesis/thesis-env/lib/python3.12/site-packages/xgboost/lib/libxgboost.so(+0x383cfc) [0x752094583cfc]\n  [bt] (4) /lib/x86_64-linux-gnu/libc.so.6(+0xa1ed3) [0x75217dca1ed3]\n  [bt] (5) /home/aftab/Thesis/thesis-env/lib/python3.12/site-packages/xgboost/lib/libxgboost.so(+0x382bb8) [0x752094582bb8]\n  [bt] (6) /home/aftab/Thesis/thesis-env/lib/python3.12/site-packages/xgboost/lib/libxgboost.so(+0xa5b0c5) [0x752094c5b0c5]\n  [bt] (7) /home/aftab/Thesis/thesis-env/lib/python3.12/site-packages/xgboost/lib/libxgboost.so(+0xa5a047) [0x752094c5a047]\n  [bt] (8) /home/aftab/Thesis/thesis-env/lib/python3.12/site-packages/xgboost/lib/libxgboost.so(+0xd91ec6) [0x752094f91ec6]\n\n",
     "output_type": "error",
     "traceback": [
      "\u001b[31m---------------------------------------------------------------------------\u001b[39m",
      "\u001b[31mXGBoostError\u001b[39m                              Traceback (most recent call last)",
      "\u001b[36mCell\u001b[39m\u001b[36m \u001b[39m\u001b[32mIn[27]\u001b[39m\u001b[32m, line 6\u001b[39m\n\u001b[32m      3\u001b[39m \u001b[38;5;28;01mimport\u001b[39;00m\u001b[38;5;250m \u001b[39m\u001b[34;01mpandas\u001b[39;00m\u001b[38;5;250m \u001b[39m\u001b[38;5;28;01mas\u001b[39;00m\u001b[38;5;250m \u001b[39m\u001b[34;01mpd\u001b[39;00m\n\u001b[32m      5\u001b[39m \u001b[38;5;66;03m# Load saved XGBoost model\u001b[39;00m\n\u001b[32m----> \u001b[39m\u001b[32m6\u001b[39m clf_xgb = \u001b[43mjoblib\u001b[49m\u001b[43m.\u001b[49m\u001b[43mload\u001b[49m\u001b[43m(\u001b[49m\u001b[33;43m\"\u001b[39;49m\u001b[33;43mxgb_cw_42f_LLf.pkl\u001b[39;49m\u001b[33;43m\"\u001b[39;49m\u001b[43m)\u001b[49m\n\u001b[32m      8\u001b[39m \u001b[38;5;66;03m# --- 1) Feature Importances ---\u001b[39;00m\n\u001b[32m      9\u001b[39m xgb_importances = clf_xgb.feature_importances_\n",
      "\u001b[36mFile \u001b[39m\u001b[32m~/Thesis/thesis-env/lib/python3.12/site-packages/joblib/numpy_pickle.py:658\u001b[39m, in \u001b[36mload\u001b[39m\u001b[34m(filename, mmap_mode)\u001b[39m\n\u001b[32m    652\u001b[39m             \u001b[38;5;28;01mif\u001b[39;00m \u001b[38;5;28misinstance\u001b[39m(fobj, \u001b[38;5;28mstr\u001b[39m):\n\u001b[32m    653\u001b[39m                 \u001b[38;5;66;03m# if the returned file object is a string, this means we\u001b[39;00m\n\u001b[32m    654\u001b[39m                 \u001b[38;5;66;03m# try to load a pickle file generated with an version of\u001b[39;00m\n\u001b[32m    655\u001b[39m                 \u001b[38;5;66;03m# Joblib so we load it with joblib compatibility function.\u001b[39;00m\n\u001b[32m    656\u001b[39m                 \u001b[38;5;28;01mreturn\u001b[39;00m load_compatibility(fobj)\n\u001b[32m--> \u001b[39m\u001b[32m658\u001b[39m             obj = \u001b[43m_unpickle\u001b[49m\u001b[43m(\u001b[49m\u001b[43mfobj\u001b[49m\u001b[43m,\u001b[49m\u001b[43m \u001b[49m\u001b[43mfilename\u001b[49m\u001b[43m,\u001b[49m\u001b[43m \u001b[49m\u001b[43mmmap_mode\u001b[49m\u001b[43m)\u001b[49m\n\u001b[32m    659\u001b[39m \u001b[38;5;28;01mreturn\u001b[39;00m obj\n",
      "\u001b[36mFile \u001b[39m\u001b[32m~/Thesis/thesis-env/lib/python3.12/site-packages/joblib/numpy_pickle.py:577\u001b[39m, in \u001b[36m_unpickle\u001b[39m\u001b[34m(fobj, filename, mmap_mode)\u001b[39m\n\u001b[32m    575\u001b[39m obj = \u001b[38;5;28;01mNone\u001b[39;00m\n\u001b[32m    576\u001b[39m \u001b[38;5;28;01mtry\u001b[39;00m:\n\u001b[32m--> \u001b[39m\u001b[32m577\u001b[39m     obj = \u001b[43munpickler\u001b[49m\u001b[43m.\u001b[49m\u001b[43mload\u001b[49m\u001b[43m(\u001b[49m\u001b[43m)\u001b[49m\n\u001b[32m    578\u001b[39m     \u001b[38;5;28;01mif\u001b[39;00m unpickler.compat_mode:\n\u001b[32m    579\u001b[39m         warnings.warn(\u001b[33m\"\u001b[39m\u001b[33mThe file \u001b[39m\u001b[33m'\u001b[39m\u001b[38;5;132;01m%s\u001b[39;00m\u001b[33m'\u001b[39m\u001b[33m has been generated with a \u001b[39m\u001b[33m\"\u001b[39m\n\u001b[32m    580\u001b[39m                       \u001b[33m\"\u001b[39m\u001b[33mjoblib version less than 0.10. \u001b[39m\u001b[33m\"\u001b[39m\n\u001b[32m    581\u001b[39m                       \u001b[33m\"\u001b[39m\u001b[33mPlease regenerate this pickle file.\u001b[39m\u001b[33m\"\u001b[39m\n\u001b[32m    582\u001b[39m                       % filename,\n\u001b[32m    583\u001b[39m                       \u001b[38;5;167;01mDeprecationWarning\u001b[39;00m, stacklevel=\u001b[32m3\u001b[39m)\n",
      "\u001b[36mFile \u001b[39m\u001b[32m/usr/lib/python3.12/pickle.py:1205\u001b[39m, in \u001b[36m_Unpickler.load\u001b[39m\u001b[34m(self)\u001b[39m\n\u001b[32m   1203\u001b[39m             \u001b[38;5;28;01mraise\u001b[39;00m \u001b[38;5;167;01mEOFError\u001b[39;00m\n\u001b[32m   1204\u001b[39m         \u001b[38;5;28;01massert\u001b[39;00m \u001b[38;5;28misinstance\u001b[39m(key, bytes_types)\n\u001b[32m-> \u001b[39m\u001b[32m1205\u001b[39m         \u001b[43mdispatch\u001b[49m\u001b[43m[\u001b[49m\u001b[43mkey\u001b[49m\u001b[43m[\u001b[49m\u001b[32;43m0\u001b[39;49m\u001b[43m]\u001b[49m\u001b[43m]\u001b[49m\u001b[43m(\u001b[49m\u001b[38;5;28;43mself\u001b[39;49m\u001b[43m)\u001b[49m\n\u001b[32m   1206\u001b[39m \u001b[38;5;28;01mexcept\u001b[39;00m _Stop \u001b[38;5;28;01mas\u001b[39;00m stopinst:\n\u001b[32m   1207\u001b[39m     \u001b[38;5;28;01mreturn\u001b[39;00m stopinst.value\n",
      "\u001b[36mFile \u001b[39m\u001b[32m~/Thesis/thesis-env/lib/python3.12/site-packages/joblib/numpy_pickle.py:402\u001b[39m, in \u001b[36mNumpyUnpickler.load_build\u001b[39m\u001b[34m(self)\u001b[39m\n\u001b[32m    394\u001b[39m \u001b[38;5;28;01mdef\u001b[39;00m\u001b[38;5;250m \u001b[39m\u001b[34mload_build\u001b[39m(\u001b[38;5;28mself\u001b[39m):\n\u001b[32m    395\u001b[39m \u001b[38;5;250m    \u001b[39m\u001b[33;03m\"\"\"Called to set the state of a newly created object.\u001b[39;00m\n\u001b[32m    396\u001b[39m \n\u001b[32m    397\u001b[39m \u001b[33;03m    We capture it to replace our place-holder objects, NDArrayWrapper or\u001b[39;00m\n\u001b[32m   (...)\u001b[39m\u001b[32m    400\u001b[39m \u001b[33;03m    NDArrayWrapper is used for backward compatibility with joblib <= 0.9.\u001b[39;00m\n\u001b[32m    401\u001b[39m \u001b[33;03m    \"\"\"\u001b[39;00m\n\u001b[32m--> \u001b[39m\u001b[32m402\u001b[39m     \u001b[43mUnpickler\u001b[49m\u001b[43m.\u001b[49m\u001b[43mload_build\u001b[49m\u001b[43m(\u001b[49m\u001b[38;5;28;43mself\u001b[39;49m\u001b[43m)\u001b[49m\n\u001b[32m    404\u001b[39m     \u001b[38;5;66;03m# For backward compatibility, we support NDArrayWrapper objects.\u001b[39;00m\n\u001b[32m    405\u001b[39m     \u001b[38;5;28;01mif\u001b[39;00m \u001b[38;5;28misinstance\u001b[39m(\u001b[38;5;28mself\u001b[39m.stack[-\u001b[32m1\u001b[39m], (NDArrayWrapper, NumpyArrayWrapper)):\n",
      "\u001b[36mFile \u001b[39m\u001b[32m/usr/lib/python3.12/pickle.py:1710\u001b[39m, in \u001b[36m_Unpickler.load_build\u001b[39m\u001b[34m(self)\u001b[39m\n\u001b[32m   1708\u001b[39m setstate = \u001b[38;5;28mgetattr\u001b[39m(inst, \u001b[33m\"\u001b[39m\u001b[33m__setstate__\u001b[39m\u001b[33m\"\u001b[39m, \u001b[38;5;28;01mNone\u001b[39;00m)\n\u001b[32m   1709\u001b[39m \u001b[38;5;28;01mif\u001b[39;00m setstate \u001b[38;5;129;01mis\u001b[39;00m \u001b[38;5;129;01mnot\u001b[39;00m \u001b[38;5;28;01mNone\u001b[39;00m:\n\u001b[32m-> \u001b[39m\u001b[32m1710\u001b[39m     \u001b[43msetstate\u001b[49m\u001b[43m(\u001b[49m\u001b[43mstate\u001b[49m\u001b[43m)\u001b[49m\n\u001b[32m   1711\u001b[39m     \u001b[38;5;28;01mreturn\u001b[39;00m\n\u001b[32m   1712\u001b[39m slotstate = \u001b[38;5;28;01mNone\u001b[39;00m\n",
      "\u001b[36mFile \u001b[39m\u001b[32m~/Thesis/thesis-env/lib/python3.12/site-packages/xgboost/core.py:1965\u001b[39m, in \u001b[36mBooster.__setstate__\u001b[39m\u001b[34m(self, state)\u001b[39m\n\u001b[32m   1963\u001b[39m     length = c_bst_ulong(\u001b[38;5;28mlen\u001b[39m(buf))\n\u001b[32m   1964\u001b[39m     ptr = (ctypes.c_char * \u001b[38;5;28mlen\u001b[39m(buf)).from_buffer(buf)\n\u001b[32m-> \u001b[39m\u001b[32m1965\u001b[39m     \u001b[43m_check_call\u001b[49m\u001b[43m(\u001b[49m\u001b[43m_LIB\u001b[49m\u001b[43m.\u001b[49m\u001b[43mXGBoosterUnserializeFromBuffer\u001b[49m\u001b[43m(\u001b[49m\u001b[43mhandle\u001b[49m\u001b[43m,\u001b[49m\u001b[43m \u001b[49m\u001b[43mptr\u001b[49m\u001b[43m,\u001b[49m\u001b[43m \u001b[49m\u001b[43mlength\u001b[49m\u001b[43m)\u001b[49m\u001b[43m)\u001b[49m\n\u001b[32m   1966\u001b[39m     state[\u001b[33m\"\u001b[39m\u001b[33mhandle\u001b[39m\u001b[33m\"\u001b[39m] = handle\n\u001b[32m   1967\u001b[39m \u001b[38;5;28mself\u001b[39m.\u001b[34m__dict__\u001b[39m.update(state)\n",
      "\u001b[36mFile \u001b[39m\u001b[32m~/Thesis/thesis-env/lib/python3.12/site-packages/xgboost/core.py:310\u001b[39m, in \u001b[36m_check_call\u001b[39m\u001b[34m(ret)\u001b[39m\n\u001b[32m    299\u001b[39m \u001b[38;5;250m\u001b[39m\u001b[33;03m\"\"\"Check the return value of C API call\u001b[39;00m\n\u001b[32m    300\u001b[39m \n\u001b[32m    301\u001b[39m \u001b[33;03mThis function will raise exception when error occurs.\u001b[39;00m\n\u001b[32m   (...)\u001b[39m\u001b[32m    307\u001b[39m \u001b[33;03m    return value from API calls\u001b[39;00m\n\u001b[32m    308\u001b[39m \u001b[33;03m\"\"\"\u001b[39;00m\n\u001b[32m    309\u001b[39m \u001b[38;5;28;01mif\u001b[39;00m ret != \u001b[32m0\u001b[39m:\n\u001b[32m--> \u001b[39m\u001b[32m310\u001b[39m     \u001b[38;5;28;01mraise\u001b[39;00m XGBoostError(py_str(_LIB.XGBGetLastError()))\n",
      "\u001b[31mXGBoostError\u001b[39m: [21:19:44] /workspace/src/common/common.cu:16: /workspace/src/common/cuda_dr_utils.cc: 24: cudaErrorNoDevice: no CUDA-capable device is detected\nStack trace:\n  [bt] (0) /home/aftab/Thesis/thesis-env/lib/python3.12/site-packages/xgboost/lib/libxgboost.so(+0x2a6acc) [0x7520944a6acc]\n  [bt] (1) /home/aftab/Thesis/thesis-env/lib/python3.12/site-packages/xgboost/lib/libxgboost.so(+0xa59cee) [0x752094c59cee]\n  [bt] (2) /home/aftab/Thesis/thesis-env/lib/python3.12/site-packages/xgboost/lib/libxgboost.so(+0x382c8b) [0x752094582c8b]\n  [bt] (3) /home/aftab/Thesis/thesis-env/lib/python3.12/site-packages/xgboost/lib/libxgboost.so(+0x383cfc) [0x752094583cfc]\n  [bt] (4) /lib/x86_64-linux-gnu/libc.so.6(+0xa1ed3) [0x75217dca1ed3]\n  [bt] (5) /home/aftab/Thesis/thesis-env/lib/python3.12/site-packages/xgboost/lib/libxgboost.so(+0x382bb8) [0x752094582bb8]\n  [bt] (6) /home/aftab/Thesis/thesis-env/lib/python3.12/site-packages/xgboost/lib/libxgboost.so(+0xa5b0c5) [0x752094c5b0c5]\n  [bt] (7) /home/aftab/Thesis/thesis-env/lib/python3.12/site-packages/xgboost/lib/libxgboost.so(+0xa5a047) [0x752094c5a047]\n  [bt] (8) /home/aftab/Thesis/thesis-env/lib/python3.12/site-packages/xgboost/lib/libxgboost.so(+0xd91ec6) [0x752094f91ec6]\n\n"
     ]
    }
   ],
   "source": [
    "\n",
    "import joblib, os\n",
    "import matplotlib.pyplot as plt\n",
    "import pandas as pd\n",
    "\n",
    "# Load saved XGBoost model\n",
    "clf_xgb = joblib.load(\"xgb_cw_42f_LLf.pkl\")\n",
    "\n",
    "# --- 1) Feature Importances ---\n",
    "xgb_importances = clf_xgb.feature_importances_\n",
    "\n",
    "feat_imp_df = pd.DataFrame({\n",
    "    \"Feature\": X_train_clean.columns,    # use same feature order from training\n",
    "    \"Importance\": xgb_importances\n",
    "}).sort_values(by=\"Importance\", ascending=False)\n",
    "\n",
    "feat_imp_df[\"Normalized\"] = feat_imp_df[\"Importance\"] / feat_imp_df[\"Importance\"].sum()\n",
    "\n",
    "print(\"\\nTop 20 features by importance:\")\n",
    "print(feat_imp_df.head(20))\n",
    "\n",
    "# Plot\n",
    "plt.figure(figsize=(10,6))\n",
    "plt.barh(feat_imp_df[\"Feature\"].head(20), feat_imp_df[\"Normalized\"].head(20))\n",
    "plt.gca().invert_yaxis()\n",
    "plt.title(\"Top 20 Feature Importances (XGBoost)\")\n",
    "plt.show()\n",
    "\n",
    "# --- 2) Check model file size ---\n",
    "file_path = \"xgb_cw_42f_LLf.pkl\"\n",
    "file_size_MB = os.path.getsize(file_path) / (1024 * 1024)\n",
    "print(f\"\\nModel file size: {file_size_MB:.2f} MB\")\n"
   ]
  },
  {
   "cell_type": "markdown",
   "id": "25df584d",
   "metadata": {},
   "source": [
    "### Retraining XGBoost with 20 feature"
   ]
  },
  {
   "cell_type": "code",
   "execution_count": 29,
   "id": "7b7c3d90",
   "metadata": {},
   "outputs": [
    {
     "ename": "NameError",
     "evalue": "name 'top20_features' is not defined",
     "output_type": "error",
     "traceback": [
      "\u001b[31m---------------------------------------------------------------------------\u001b[39m",
      "\u001b[31mNameError\u001b[39m                                 Traceback (most recent call last)",
      "\u001b[36mCell\u001b[39m\u001b[36m \u001b[39m\u001b[32mIn[29]\u001b[39m\u001b[32m, line 14\u001b[39m\n\u001b[32m      3\u001b[39m \u001b[38;5;28;01mfrom\u001b[39;00m\u001b[38;5;250m \u001b[39m\u001b[34;01mxgboost\u001b[39;00m\u001b[38;5;250m \u001b[39m\u001b[38;5;28;01mimport\u001b[39;00m XGBClassifier\n\u001b[32m      5\u001b[39m \u001b[38;5;66;03m# --- Select top 20 features based on importance ranking ---\u001b[39;00m\n\u001b[32m      6\u001b[39m \u001b[38;5;66;03m#top20_features = [\u001b[39;00m\n\u001b[32m      7\u001b[39m \u001b[38;5;66;03m#    'tcp.ack', 'tcp.dstport', 'tcp.len', 'udp.stream', 'Attack_label',\u001b[39;00m\n\u001b[32m   (...)\u001b[39m\u001b[32m     11\u001b[39m \u001b[38;5;66;03m#    'udp.time_delta', 'arp.opcode', 'udp.port', 'arp.hw.size'\u001b[39;00m\n\u001b[32m     12\u001b[39m \u001b[38;5;66;03m#]\u001b[39;00m\n\u001b[32m---> \u001b[39m\u001b[32m14\u001b[39m X_train_20 = X_train[\u001b[43mtop20_features\u001b[49m]\n\u001b[32m     15\u001b[39m X_test_20 = X_test[top20_features]\n\u001b[32m     17\u001b[39m \u001b[38;5;66;03m# --- Retrain XGBoost ---\u001b[39;00m\n",
      "\u001b[31mNameError\u001b[39m: name 'top20_features' is not defined"
     ]
    }
   ],
   "source": [
    "\n",
    "import joblib\n",
    "import os\n",
    "from xgboost import XGBClassifier\n",
    "\n",
    "# --- Select top 20 features based on importance ranking ---\n",
    "#top20_features = [\n",
    "#    'tcp.ack', 'tcp.dstport', 'tcp.len', 'udp.stream', 'Attack_label',\n",
    "#    'tcp.seq', 'icmp.seq_le', 'icmp.checksum', 'tcp.flags', 'tcp.ack_raw',\n",
    "#    'http.content_length', 'tcp.checksum', 'tcp.connection.rst',\n",
    "#    'tcp.flags.ack', 'tcp.connection.syn', 'http.response',\n",
    "#    'udp.time_delta', 'arp.opcode', 'udp.port', 'arp.hw.size'\n",
    "#]\n",
    "\n",
    "X_train_20 = X_train[top20_features]\n",
    "X_test_20 = X_test[top20_features]\n",
    "\n",
    "# --- Retrain XGBoost ---\n",
    "xgb_cw_20f = XGBClassifier(\n",
    "    objective='multi:softprob',\n",
    "    num_class=len(class_names),\n",
    "    eval_metric='mlogloss',\n",
    "    tree_method='gpu_hist' if use_gpu else 'hist',\n",
    "    predictor='gpu_predictor' if use_gpu else 'auto',\n",
    "    random_state=42\n",
    ")\n",
    "\n",
    "xgb_cw_20f.fit(X_train_20, y_train)\n",
    "\n",
    "# --- Save model ---\n",
    "joblib.dump(xgb_cw_20f, \"xgb_cw_20f.pkl\")\n",
    "\n",
    "# --- Report size ---\n",
    "size_mb = os.path.getsize(\"xgb_cw_20f.pkl\") / (1024*1024)\n",
    "print(f\"Saved xgb_cw_20f.pkl — size: {size_mb:.2f} MB\")\n",
    "\n",
    "file_path = \"xgb_cw_42f_LLf.pkl\"\n",
    "file_size_MB = os.path.getsize(file_path) / (1024 * 1024)\n",
    "print(f\"\\nModel file size: {file_size_MB:.2f} MB\")\n",
    "\n",
    "# --- Evaluate quickly ---\n",
    "y_pred_20 = xgb_cw_20f.predict(X_test_20)\n",
    "print(classification_report(y_test, y_pred_20, target_names=class_names))\n"
   ]
  },
  {
   "cell_type": "code",
   "execution_count": null,
   "id": "e464767e",
   "metadata": {},
   "outputs": [],
   "source": []
  },
  {
   "cell_type": "code",
   "execution_count": null,
   "id": "5864a0ff",
   "metadata": {},
   "outputs": [],
   "source": []
  },
  {
   "cell_type": "code",
   "execution_count": null,
   "id": "07df4878",
   "metadata": {},
   "outputs": [],
   "source": []
  },
  {
   "cell_type": "code",
   "execution_count": null,
   "id": "7ac190cd",
   "metadata": {},
   "outputs": [],
   "source": []
  },
  {
   "cell_type": "code",
   "execution_count": null,
   "id": "f634830a",
   "metadata": {},
   "outputs": [],
   "source": []
  },
  {
   "cell_type": "code",
   "execution_count": null,
   "id": "004032a5",
   "metadata": {},
   "outputs": [],
   "source": []
  },
  {
   "cell_type": "code",
   "execution_count": null,
   "id": "578ae390",
   "metadata": {},
   "outputs": [],
   "source": []
  },
  {
   "cell_type": "code",
   "execution_count": null,
   "id": "490dc147",
   "metadata": {},
   "outputs": [],
   "source": []
  },
  {
   "cell_type": "code",
   "execution_count": null,
   "id": "9dfbc139",
   "metadata": {},
   "outputs": [],
   "source": []
  },
  {
   "cell_type": "markdown",
   "id": "16897ffe",
   "metadata": {},
   "source": [
    "### Retraining XGBoost with 10 feature"
   ]
  },
  {
   "cell_type": "code",
   "execution_count": null,
   "id": "21298529",
   "metadata": {},
   "outputs": [],
   "source": []
  },
  {
   "cell_type": "markdown",
   "id": "a6c33e84",
   "metadata": {},
   "source": [
    "### Retraining XGBoost with 6 feature"
   ]
  },
  {
   "cell_type": "code",
   "execution_count": null,
   "id": "67b9e0ff",
   "metadata": {},
   "outputs": [],
   "source": []
  },
  {
   "cell_type": "markdown",
   "id": "8d2a3ed7",
   "metadata": {},
   "source": [
    "## plot Baseline vs Class-Weighted (RUS+ROS) performance"
   ]
  },
  {
   "cell_type": "code",
   "execution_count": null,
   "id": "e9e4a702",
   "metadata": {},
   "outputs": [],
   "source": [
    "'''\n",
    "import pandas as pd\n",
    "import matplotlib.pyplot as plt\n",
    "import seaborn as sns\n",
    "\n",
    "# --- Put your two results tables into DataFrames ---\n",
    "baseline_df = pd.DataFrame([\n",
    "    [\"Random Forest\", 0.8861],\n",
    "    [\"XGBoost\", 0.8655],\n",
    "    [\"LightGBM\", 0.0560],\n",
    "    [\"MLP\", 0.7477],\n",
    "    [\"Decision Tree\", 0.7265],\n",
    "    [\"Lightweight CNN\", 0.2010]\n",
    "], columns=[\"Model\", \"F1 (macro)\"])\n",
    "baseline_df[\"Type\"] = \"Baseline\"\n",
    "\n",
    "weighted_df = pd.DataFrame([\n",
    "    [\"Random Forest\", 0.8647],\n",
    "    [\"XGBoost\", 0.8638],\n",
    "    [\"LightGBM\", 0.8641],\n",
    "    [\"MLP\", 0.7398],\n",
    "    [\"Decision Tree\", 0.7495],\n",
    "    [\"Lightweight CNN\", 0.1825]\n",
    "], columns=[\"Model\", \"F1 (macro)\"])\n",
    "weighted_df[\"Type\"] = \"After Balancing\"\n",
    "\n",
    "# --- Combine ---\n",
    "df_all = pd.concat([baseline_df, weighted_df], ignore_index=True)\n",
    "\n",
    "# --- Plot ---\n",
    "plt.figure(figsize=(8,6))\n",
    "sns.barplot(data=df_all, x=\"F1 (macro)\", y=\"Model\", hue=\"Type\", palette=[\"#4c72b0\", \"#ff7f0e\"])\n",
    "plt.title(\"Macro F1 Score — Baseline vs After Balancing\")\n",
    "plt.xlabel(\"F1 (macro)\")\n",
    "plt.ylabel(\"\")\n",
    "plt.xlim(0, 1)\n",
    "plt.legend(title=\"Stage\", loc=\"lower right\")\n",
    "plt.tight_layout()\n",
    "plt.show()\n",
    "'''"
   ]
  },
  {
   "cell_type": "markdown",
   "id": "30a25fd1",
   "metadata": {},
   "source": [
    "## Export Tables"
   ]
  },
  {
   "cell_type": "code",
   "execution_count": null,
   "id": "0f2b6e51",
   "metadata": {},
   "outputs": [],
   "source": [
    "'''\n",
    "# ==== EXPORT FOR THESIS — MULTICLASS ====\n",
    "import os, gc, numpy as np, pandas as pd, matplotlib.pyplot as plt, seaborn as sns, joblib, time\n",
    "from sklearn.metrics import classification_report, confusion_matrix\n",
    "os.makedirs(\"thesis_exports/multiclass\", exist_ok=True)\n",
    "\n",
    "# 1) Leaderboard from your list (results_tab includes all 6 models)\n",
    "df_mc = pd.DataFrame(results_tab).drop_duplicates(subset=[\"Model\"]).reset_index(drop=True)\n",
    "num_cols = df_mc.select_dtypes(include='number').columns\n",
    "df_mc = df_mc.sort_values(\"F1 (macro)\", ascending=False)\n",
    "df_mc.to_csv(\"thesis_exports/multiclass/leaderboard.csv\", index=False)\n",
    "display(df_mc.style.format({c:\"{:.4f}\" for c in num_cols}))\n",
    "\n",
    "# 2) Per-class table for top model (recompute predictions via names)\n",
    "def per_class_table(y_true, y_pred, labels, fname_prefix):\n",
    "    rep = classification_report(y_true, y_pred, target_names=labels, output_dict=True, zero_division=0)\n",
    "    df = pd.DataFrame(rep).T.iloc[:-3][[\"precision\",\"recall\",\"f1-score\",\"support\"]]\n",
    "    df = df.rename(columns={\"f1-score\":\"F1\"})\n",
    "    df.to_csv(f\"thesis_exports/multiclass/{fname_prefix}_per_class.csv\")\n",
    "    display(df.head(10).style.format({\"precision\":\"{:.3f}\",\"recall\":\"{:.3f}\",\"F1\":\"{:.3f}\"}))\n",
    "    return df\n",
    "\n",
    "def save_cm(y_true, y_pred, labels, title, fname):\n",
    "    cm = confusion_matrix(y_true, y_pred, labels=range(len(labels)))\n",
    "    plt.figure(figsize=(10,8))\n",
    "    sns.heatmap(cm, annot=False, fmt='d', cmap='Blues',\n",
    "                xticklabels=labels, yticklabels=labels)\n",
    "    plt.title(title); plt.xlabel(\"Predicted\"); plt.ylabel(\"Actual\")\n",
    "    plt.xticks(rotation=90); plt.yticks(rotation=0)\n",
    "    plt.tight_layout()\n",
    "    plt.savefig(f\"thesis_exports/multiclass/{fname}.png\", dpi=200); plt.show()\n",
    "\n",
    "best_model_name = df_mc.iloc[0][\"Model\"]\n",
    "print(\"Best (multiclass):\", best_model_name)\n",
    "\n",
    "# Map model name → y_pred variable you have in memory\n",
    "name2pred = {\n",
    "    \"Random Forest (class-weighted)\":           y_rf,\n",
    "    \"XGBoost (class-weighted GPU)\":             y_xgb,\n",
    "    \"XGBoost (class-weighted CPU)\":             y_xgb,\n",
    "    \"LightGBM (GPU) (class-weighted)\":          y_lgb,\n",
    "    \"LightGBM (CPU fallback) (class-weighted)\": y_lgb,\n",
    "    \"MLP (scaled, RUS+ROS)\":                    y_mlp,\n",
    "    \"Decision Tree (class-weighted)\":           y_dt,\n",
    "    \"Lightweight CNN (GPU)\":                    y_cnn,\n",
    "    \"Lightweight CNN (CPU)\":                    y_cnn,\n",
    "}\n",
    "y_best = name2pred[best_model_name]\n",
    "per_class_table(y_test, y_best, class_names, \"best_model\")\n",
    "save_cm(y_test, y_best, class_names, f\"{best_model_name} — Confusion Matrix\", \"cm_best_multiclass\")\n",
    "\n",
    "# 3) Feature pruning experiment (top-k by RF importance) + latency/size\n",
    "feat_names = np.array(X_train.columns)\n",
    "importances = rf.feature_importances_\n",
    "order = np.argsort(importances)[::-1]\n",
    "\n",
    "def model_size_mb(model, path):\n",
    "    joblib.dump(model, path)\n",
    "    mb = os.path.getsize(path)/(1024*1024)\n",
    "    return mb\n",
    "\n",
    "def latency_ms_per_sample(model, Xs, batch=256, warm=2, runs=5):\n",
    "    # warmup\n",
    "    for _ in range(warm): model.predict(Xs[:batch])\n",
    "    t0 = time.perf_counter()\n",
    "    for _ in range(runs): model.predict(Xs[:batch])\n",
    "    t1 = time.perf_counter()\n",
    "    return ((t1-t0)/runs)/batch*1000\n",
    "\n",
    "Xtr32 = np.asarray(X_train, dtype=np.float32); Xtr32 = np.nan_to_num(Xtr32, nan=0.0, posinf=0.0, neginf=0.0)\n",
    "Xte32 = np.asarray(X_test,  dtype=np.float32); Xte32 = np.nan_to_num(Xte32,  nan=0.0, posinf=0.0, neginf=0.0)\n",
    "\n",
    "rows = []\n",
    "for k in [4, 6, 8]:\n",
    "    keep = feat_names[order][:k]\n",
    "    mask = np.isin(feat_names, keep)\n",
    "    Xtr_k = Xtr32[:, mask]; Xte_k = Xte32[:, mask]\n",
    "\n",
    "    # Small RF\n",
    "    rf_k = RandomForestClassifier(n_estimators=50, max_depth=12, n_jobs=-1,\n",
    "                                  random_state=42, class_weight=class_weight_dict).fit(Xtr_k, y_train)\n",
    "    yk = rf_k.predict(Xte_k)\n",
    "    res = evaluate_model(f\"RF small (top-{k})\", y_test, yk, labels=class_names)\n",
    "    size_mb = model_size_mb(rf_k, f\"thesis_exports/multiclass/rf_top{k}.joblib\")\n",
    "    lat_ms = latency_ms_per_sample(rf_k, Xte_k)\n",
    "    rows.append({**res, \"Features\": k, \"Model Size (MB)\": size_mb, \"Latency (ms/sample)\": lat_ms})\n",
    "    gc.collect()\n",
    "\n",
    "df_prune = pd.DataFrame(rows).sort_values(\"F1 (macro)\", ascending=False)\n",
    "df_prune.to_csv(\"thesis_exports/multiclass/pruning_ablation.csv\", index=False)\n",
    "display(df_prune.style.format({\n",
    "    \"Accuracy\":\"{:.4f}\",\"Precision\":\"{:.4f}\",\"Recall\":\"{:.4f}\",\n",
    "    \"F1 (weighted)\":\"{:.4f}\",\"F1 (macro)\":\"{:.4f}\",\n",
    "    \"Model Size (MB)\":\"{:.2f}\",\"Latency (ms/sample)\":\"{:.3f}\"\n",
    "}))\n",
    "\n",
    "print(\"Saved CSV + PNGs in thesis_exports/multiclass\")\n",
    "gc.collect()\n",
    "'''"
   ]
  },
  {
   "cell_type": "markdown",
   "id": "de708750",
   "metadata": {},
   "source": [
    "##  To-Do\n",
    "\n",
    "save models,\n",
    "test best performing model with singlr data  point.in pc and later in device.\n",
    "\n"
   ]
  },
  {
   "cell_type": "markdown",
   "id": "2aa472f4",
   "metadata": {},
   "source": [
    "### Using class weights on the training set only for tree models and MLP"
   ]
  },
  {
   "cell_type": "code",
   "execution_count": null,
   "id": "37067b1c",
   "metadata": {},
   "outputs": [],
   "source": []
  },
  {
   "cell_type": "code",
   "execution_count": null,
   "id": "1bb94315",
   "metadata": {},
   "outputs": [],
   "source": []
  },
  {
   "cell_type": "code",
   "execution_count": null,
   "id": "862b82ac",
   "metadata": {},
   "outputs": [],
   "source": []
  },
  {
   "cell_type": "code",
   "execution_count": null,
   "id": "6b69b69a",
   "metadata": {},
   "outputs": [],
   "source": []
  },
  {
   "cell_type": "code",
   "execution_count": null,
   "id": "009e4c46",
   "metadata": {},
   "outputs": [],
   "source": []
  },
  {
   "cell_type": "code",
   "execution_count": null,
   "id": "fd135551",
   "metadata": {},
   "outputs": [],
   "source": []
  },
  {
   "cell_type": "code",
   "execution_count": null,
   "id": "84297b15",
   "metadata": {},
   "outputs": [],
   "source": []
  },
  {
   "cell_type": "code",
   "execution_count": null,
   "id": "12c96213",
   "metadata": {},
   "outputs": [],
   "source": []
  },
  {
   "cell_type": "code",
   "execution_count": null,
   "id": "aaba1477",
   "metadata": {},
   "outputs": [],
   "source": []
  },
  {
   "cell_type": "code",
   "execution_count": null,
   "id": "5e2699a5",
   "metadata": {},
   "outputs": [],
   "source": []
  }
 ],
 "metadata": {
  "kernelspec": {
   "display_name": "Python (thesis-env)",
   "language": "python",
   "name": "thesis-env"
  },
  "language_info": {
   "codemirror_mode": {
    "name": "ipython",
    "version": 3
   },
   "file_extension": ".py",
   "mimetype": "text/x-python",
   "name": "python",
   "nbconvert_exporter": "python",
   "pygments_lexer": "ipython3",
   "version": "3.12.3"
  }
 },
 "nbformat": 4,
 "nbformat_minor": 5
}
