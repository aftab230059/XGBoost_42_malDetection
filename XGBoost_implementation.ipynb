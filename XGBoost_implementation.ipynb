{
 "cells": [
  {
   "cell_type": "code",
   "execution_count": 28,
   "id": "f7edefd9",
   "metadata": {},
   "outputs": [
    {
     "name": "stdout",
     "output_type": "stream",
     "text": [
      "Collecting treelite\n",
      "  Downloading treelite-4.4.1-py3-none-manylinux2014_x86_64.whl.metadata (1.5 kB)\n",
      "Collecting treelite_runtime\n",
      "  Downloading treelite_runtime-3.9.1-py3-none-manylinux2014_x86_64.whl.metadata (654 bytes)\n",
      "Requirement already satisfied: numpy in ./thesis-env/lib/python3.12/site-packages (from treelite) (2.1.3)\n",
      "Requirement already satisfied: packaging in ./thesis-env/lib/python3.12/site-packages (from treelite) (24.2)\n",
      "Requirement already satisfied: scipy in ./thesis-env/lib/python3.12/site-packages (from treelite) (1.15.2)\n",
      "Downloading treelite-4.4.1-py3-none-manylinux2014_x86_64.whl (922 kB)\n",
      "\u001b[2K   \u001b[38;2;114;156;31m━━━━━━━━━━━━━━━━━━━━━━━━━━━━━━━━━━━━━━━━\u001b[0m \u001b[32m922.8/922.8 kB\u001b[0m \u001b[31m7.3 MB/s\u001b[0m eta \u001b[36m0:00:00\u001b[0mm eta \u001b[36m0:00:01\u001b[0m0:01\u001b[0m:01\u001b[0m\n",
      "\u001b[?25hDownloading treelite_runtime-3.9.1-py3-none-manylinux2014_x86_64.whl (198 kB)\n",
      "\u001b[2K   \u001b[38;2;114;156;31m━━━━━━━━━━━━━━━━━━━━━━━━━━━━━━━━━━━━━━━━\u001b[0m \u001b[32m198.7/198.7 kB\u001b[0m \u001b[31m6.0 MB/s\u001b[0m eta \u001b[36m0:00:00\u001b[0m\n",
      "\u001b[?25hInstalling collected packages: treelite_runtime, treelite\n",
      "Successfully installed treelite-4.4.1 treelite_runtime-3.9.1\n"
     ]
    }
   ],
   "source": [
    "!pip install treelite treelite_runtime\n"
   ]
  },
  {
   "cell_type": "code",
   "execution_count": 1,
   "id": "9b48ac46",
   "metadata": {},
   "outputs": [
    {
     "name": "stderr",
     "output_type": "stream",
     "text": [
      "2025-08-26 17:59:33.057222: I tensorflow/core/util/port.cc:153] oneDNN custom operations are on. You may see slightly different numerical results due to floating-point round-off errors from different computation orders. To turn them off, set the environment variable `TF_ENABLE_ONEDNN_OPTS=0`.\n",
      "2025-08-26 17:59:33.163496: E external/local_xla/xla/stream_executor/cuda/cuda_fft.cc:467] Unable to register cuFFT factory: Attempting to register factory for plugin cuFFT when one has already been registered\n",
      "WARNING: All log messages before absl::InitializeLog() is called are written to STDERR\n",
      "E0000 00:00:1756223973.210913 1840067 cuda_dnn.cc:8579] Unable to register cuDNN factory: Attempting to register factory for plugin cuDNN when one has already been registered\n",
      "E0000 00:00:1756223973.223996 1840067 cuda_blas.cc:1407] Unable to register cuBLAS factory: Attempting to register factory for plugin cuBLAS when one has already been registered\n",
      "W0000 00:00:1756223973.317643 1840067 computation_placer.cc:177] computation placer already registered. Please check linkage and avoid linking the same target more than once.\n",
      "W0000 00:00:1756223973.317662 1840067 computation_placer.cc:177] computation placer already registered. Please check linkage and avoid linking the same target more than once.\n",
      "W0000 00:00:1756223973.317664 1840067 computation_placer.cc:177] computation placer already registered. Please check linkage and avoid linking the same target more than once.\n",
      "W0000 00:00:1756223973.317665 1840067 computation_placer.cc:177] computation placer already registered. Please check linkage and avoid linking the same target more than once.\n",
      "2025-08-26 17:59:33.328141: I tensorflow/core/platform/cpu_feature_guard.cc:210] This TensorFlow binary is optimized to use available CPU instructions in performance-critical operations.\n",
      "To enable the following instructions: AVX2 AVX512F AVX512_VNNI AVX512_BF16 FMA, in other operations, rebuild TensorFlow with the appropriate compiler flags.\n"
     ]
    },
    {
     "data": {
      "application/vnd.jupyter.widget-view+json": {
       "model_id": "c8eec88be36f4276b1569cf2faa34df5",
       "version_major": 2,
       "version_minor": 0
      },
      "text/plain": [
       "FileUpload(value=(), description='Upload')"
      ]
     },
     "metadata": {},
     "output_type": "display_data"
    }
   ],
   "source": [
    "import seaborn as sns\n",
    "import matplotlib.pyplot as plt\n",
    "import pandas as pd\n",
    "import numpy as np, gc\n",
    "import tensorflow as tf\n",
    "import gc\n",
    "import joblib\n",
    "import os\n",
    "\n",
    "from sklearn.ensemble import RandomForestClassifier\n",
    "from sklearn.metrics import classification_report, make_scorer, f1_score, confusion_matrix, accuracy_score, precision_score, recall_score\n",
    "from sklearn.model_selection import cross_val_score, StratifiedKFold, train_test_split\n",
    "from sklearn.ensemble import RandomForestClassifier\n",
    "from sklearn.neural_network import MLPClassifier\n",
    "from sklearn.tree import DecisionTreeClassifier\n",
    "from sklearn.preprocessing import MinMaxScaler\n",
    "from sklearn.pipeline import Pipeline\n",
    "from sklearn.preprocessing import StandardScaler\n",
    "from sklearn.utils.class_weight import compute_class_weight\n",
    "from sklearn.preprocessing import LabelEncoder\n",
    "\n",
    "from tensorflow.keras.models import Sequential\n",
    "from tensorflow.keras.layers import Conv2D, Flatten, Dense, Dropout\n",
    "from tensorflow.keras.callbacks import EarlyStopping\n",
    "\n",
    "from imblearn.under_sampling import RandomUnderSampler\n",
    "from imblearn.over_sampling import RandomOverSampler\n",
    "from collections import Counter\n",
    "\n",
    "from xgboost import XGBClassifier\n",
    "from lightgbm import LGBMClassifier\n",
    "\n",
    "from IPython.display import display\n",
    "from ipywidgets import FileUpload\n",
    "\n",
    "\n",
    "upload = FileUpload()\n",
    "display(upload)\n"
   ]
  },
  {
   "cell_type": "code",
   "execution_count": 2,
   "id": "ed6ac225",
   "metadata": {},
   "outputs": [
    {
     "name": "stderr",
     "output_type": "stream",
     "text": [
      "/tmp/ipykernel_1840067/2719784295.py:1: DtypeWarning: Columns (2,3,6,11,13,14,15,16,17,31,32,34,39,45,51,54,55) have mixed types. Specify dtype option on import or set low_memory=False.\n",
      "  df_edge = pd.read_csv(\"Edge-IIoTset dataset/Selected dataset for ML and DL/DNN-EdgeIIoT-dataset.csv\")\n"
     ]
    },
    {
     "data": {
      "text/html": [
       "<div>\n",
       "<style scoped>\n",
       "    .dataframe tbody tr th:only-of-type {\n",
       "        vertical-align: middle;\n",
       "    }\n",
       "\n",
       "    .dataframe tbody tr th {\n",
       "        vertical-align: top;\n",
       "    }\n",
       "\n",
       "    .dataframe thead th {\n",
       "        text-align: right;\n",
       "    }\n",
       "</style>\n",
       "<table border=\"1\" class=\"dataframe\">\n",
       "  <thead>\n",
       "    <tr style=\"text-align: right;\">\n",
       "      <th></th>\n",
       "      <th>frame.time</th>\n",
       "      <th>ip.src_host</th>\n",
       "      <th>ip.dst_host</th>\n",
       "      <th>arp.dst.proto_ipv4</th>\n",
       "      <th>arp.opcode</th>\n",
       "      <th>arp.hw.size</th>\n",
       "      <th>arp.src.proto_ipv4</th>\n",
       "      <th>icmp.checksum</th>\n",
       "      <th>icmp.seq_le</th>\n",
       "      <th>icmp.transmit_timestamp</th>\n",
       "      <th>...</th>\n",
       "      <th>mqtt.proto_len</th>\n",
       "      <th>mqtt.protoname</th>\n",
       "      <th>mqtt.topic</th>\n",
       "      <th>mqtt.topic_len</th>\n",
       "      <th>mqtt.ver</th>\n",
       "      <th>mbtcp.len</th>\n",
       "      <th>mbtcp.trans_id</th>\n",
       "      <th>mbtcp.unit_id</th>\n",
       "      <th>Attack_label</th>\n",
       "      <th>Attack_type</th>\n",
       "    </tr>\n",
       "  </thead>\n",
       "  <tbody>\n",
       "    <tr>\n",
       "      <th>0</th>\n",
       "      <td>2021 11:44:10.081753000</td>\n",
       "      <td>192.168.0.128</td>\n",
       "      <td>192.168.0.101</td>\n",
       "      <td>0</td>\n",
       "      <td>0.0</td>\n",
       "      <td>0.0</td>\n",
       "      <td>0</td>\n",
       "      <td>0.0</td>\n",
       "      <td>0.0</td>\n",
       "      <td>0.0</td>\n",
       "      <td>...</td>\n",
       "      <td>0.0</td>\n",
       "      <td>0</td>\n",
       "      <td>0</td>\n",
       "      <td>0.0</td>\n",
       "      <td>0.0</td>\n",
       "      <td>0.0</td>\n",
       "      <td>0.0</td>\n",
       "      <td>0.0</td>\n",
       "      <td>0</td>\n",
       "      <td>Normal</td>\n",
       "    </tr>\n",
       "    <tr>\n",
       "      <th>1</th>\n",
       "      <td>2021 11:44:10.162218000</td>\n",
       "      <td>192.168.0.101</td>\n",
       "      <td>192.168.0.128</td>\n",
       "      <td>0</td>\n",
       "      <td>0.0</td>\n",
       "      <td>0.0</td>\n",
       "      <td>0</td>\n",
       "      <td>0.0</td>\n",
       "      <td>0.0</td>\n",
       "      <td>0.0</td>\n",
       "      <td>...</td>\n",
       "      <td>4.0</td>\n",
       "      <td>MQTT</td>\n",
       "      <td>0</td>\n",
       "      <td>0.0</td>\n",
       "      <td>4.0</td>\n",
       "      <td>0.0</td>\n",
       "      <td>0.0</td>\n",
       "      <td>0.0</td>\n",
       "      <td>0</td>\n",
       "      <td>Normal</td>\n",
       "    </tr>\n",
       "    <tr>\n",
       "      <th>2</th>\n",
       "      <td>2021 11:44:10.162271000</td>\n",
       "      <td>192.168.0.128</td>\n",
       "      <td>192.168.0.101</td>\n",
       "      <td>0</td>\n",
       "      <td>0.0</td>\n",
       "      <td>0.0</td>\n",
       "      <td>0</td>\n",
       "      <td>0.0</td>\n",
       "      <td>0.0</td>\n",
       "      <td>0.0</td>\n",
       "      <td>...</td>\n",
       "      <td>0.0</td>\n",
       "      <td>0</td>\n",
       "      <td>0</td>\n",
       "      <td>0.0</td>\n",
       "      <td>0.0</td>\n",
       "      <td>0.0</td>\n",
       "      <td>0.0</td>\n",
       "      <td>0.0</td>\n",
       "      <td>0</td>\n",
       "      <td>Normal</td>\n",
       "    </tr>\n",
       "    <tr>\n",
       "      <th>3</th>\n",
       "      <td>2021 11:44:10.162641000</td>\n",
       "      <td>192.168.0.128</td>\n",
       "      <td>192.168.0.101</td>\n",
       "      <td>0</td>\n",
       "      <td>0.0</td>\n",
       "      <td>0.0</td>\n",
       "      <td>0</td>\n",
       "      <td>0.0</td>\n",
       "      <td>0.0</td>\n",
       "      <td>0.0</td>\n",
       "      <td>...</td>\n",
       "      <td>0.0</td>\n",
       "      <td>0</td>\n",
       "      <td>0</td>\n",
       "      <td>0.0</td>\n",
       "      <td>0.0</td>\n",
       "      <td>0.0</td>\n",
       "      <td>0.0</td>\n",
       "      <td>0.0</td>\n",
       "      <td>0</td>\n",
       "      <td>Normal</td>\n",
       "    </tr>\n",
       "    <tr>\n",
       "      <th>4</th>\n",
       "      <td>2021 11:44:10.166132000</td>\n",
       "      <td>192.168.0.101</td>\n",
       "      <td>192.168.0.128</td>\n",
       "      <td>0</td>\n",
       "      <td>0.0</td>\n",
       "      <td>0.0</td>\n",
       "      <td>0</td>\n",
       "      <td>0.0</td>\n",
       "      <td>0.0</td>\n",
       "      <td>0.0</td>\n",
       "      <td>...</td>\n",
       "      <td>0.0</td>\n",
       "      <td>0</td>\n",
       "      <td>Temperature_and_Humidity</td>\n",
       "      <td>24.0</td>\n",
       "      <td>0.0</td>\n",
       "      <td>0.0</td>\n",
       "      <td>0.0</td>\n",
       "      <td>0.0</td>\n",
       "      <td>0</td>\n",
       "      <td>Normal</td>\n",
       "    </tr>\n",
       "  </tbody>\n",
       "</table>\n",
       "<p>5 rows × 63 columns</p>\n",
       "</div>"
      ],
      "text/plain": [
       "                  frame.time    ip.src_host    ip.dst_host arp.dst.proto_ipv4  \\\n",
       "0   2021 11:44:10.081753000   192.168.0.128  192.168.0.101                  0   \n",
       "1   2021 11:44:10.162218000   192.168.0.101  192.168.0.128                  0   \n",
       "2   2021 11:44:10.162271000   192.168.0.128  192.168.0.101                  0   \n",
       "3   2021 11:44:10.162641000   192.168.0.128  192.168.0.101                  0   \n",
       "4   2021 11:44:10.166132000   192.168.0.101  192.168.0.128                  0   \n",
       "\n",
       "   arp.opcode  arp.hw.size arp.src.proto_ipv4  icmp.checksum  icmp.seq_le  \\\n",
       "0         0.0          0.0                  0            0.0          0.0   \n",
       "1         0.0          0.0                  0            0.0          0.0   \n",
       "2         0.0          0.0                  0            0.0          0.0   \n",
       "3         0.0          0.0                  0            0.0          0.0   \n",
       "4         0.0          0.0                  0            0.0          0.0   \n",
       "\n",
       "   icmp.transmit_timestamp  ...  mqtt.proto_len mqtt.protoname  \\\n",
       "0                      0.0  ...             0.0              0   \n",
       "1                      0.0  ...             4.0           MQTT   \n",
       "2                      0.0  ...             0.0              0   \n",
       "3                      0.0  ...             0.0              0   \n",
       "4                      0.0  ...             0.0              0   \n",
       "\n",
       "                 mqtt.topic mqtt.topic_len mqtt.ver mbtcp.len mbtcp.trans_id  \\\n",
       "0                         0            0.0      0.0       0.0            0.0   \n",
       "1                         0            0.0      4.0       0.0            0.0   \n",
       "2                         0            0.0      0.0       0.0            0.0   \n",
       "3                         0            0.0      0.0       0.0            0.0   \n",
       "4  Temperature_and_Humidity           24.0      0.0       0.0            0.0   \n",
       "\n",
       "  mbtcp.unit_id  Attack_label  Attack_type  \n",
       "0           0.0             0       Normal  \n",
       "1           0.0             0       Normal  \n",
       "2           0.0             0       Normal  \n",
       "3           0.0             0       Normal  \n",
       "4           0.0             0       Normal  \n",
       "\n",
       "[5 rows x 63 columns]"
      ]
     },
     "execution_count": 2,
     "metadata": {},
     "output_type": "execute_result"
    }
   ],
   "source": [
    "df_edge = pd.read_csv(\"Edge-IIoTset dataset/Selected dataset for ML and DL/DNN-EdgeIIoT-dataset.csv\")\n",
    "df_edge.head()"
   ]
  },
  {
   "cell_type": "code",
   "execution_count": 3,
   "id": "262d3a5b",
   "metadata": {},
   "outputs": [],
   "source": [
    "drop_cols = [\n",
    "    \"frame.time\", \"ip.src_host\", \"ip.dst_host\", \n",
    "    \"http.file_data\", \"http.request.uri.query\", \"http.request.method\",\n",
    "    \"http.referer\", \"http.request.full_uri\", \"http.request.version\",\n",
    "    \"dns.qry.name\", \"mqtt.protoname\", \"mqtt.topic\"\n",
    "]\n",
    "\n",
    "df_edge_clean = df_edge.drop(columns=drop_cols, errors=\"ignore\")\n"
   ]
  },
  {
   "cell_type": "code",
   "execution_count": 4,
   "id": "809f11bc",
   "metadata": {},
   "outputs": [],
   "source": [
    "from sklearn.metrics import classification_report, confusion_matrix, accuracy_score, precision_score, recall_score, f1_score\n",
    "import matplotlib.pyplot as plt\n",
    "import seaborn as sns\n",
    "\n",
    "def evaluate_model(name, y_true, y_pred, labels=None):\n",
    "    print(f\"{name} — Classification Report:\\n\")\n",
    "    print(classification_report(y_true, y_pred, target_names=labels))\n",
    "\n",
    "    # Confusion matrix\n",
    "    cm = confusion_matrix(y_true, y_pred)\n",
    "    plt.figure(figsize=(10, 8))\n",
    "    sns.heatmap(cm, annot=False, fmt='d', cmap='Blues',\n",
    "                xticklabels=labels, yticklabels=labels)\n",
    "    plt.title(f\"{name} — Confusion Matrix\")\n",
    "    plt.xlabel(\"Predicted\")\n",
    "    plt.ylabel(\"Actual\")\n",
    "    plt.xticks(rotation=90)\n",
    "    plt.yticks(rotation=0)\n",
    "    plt.show()\n",
    "\n",
    "    return {\n",
    "        'Model': name,\n",
    "        'Accuracy': accuracy_score(y_true, y_pred),\n",
    "        'Precision': precision_score(y_true, y_pred, average='weighted', zero_division=0),\n",
    "        'Recall': recall_score(y_true, y_pred, average='weighted', zero_division=0),\n",
    "        'F1 (weighted)': f1_score(y_true, y_pred, average='weighted', zero_division=0),\n",
    "        'F1 (macro)': f1_score(y_true, y_pred, average='macro', zero_division=0),\n",
    "    }\n"
   ]
  },
  {
   "cell_type": "code",
   "execution_count": 5,
   "id": "cf63ae18",
   "metadata": {},
   "outputs": [],
   "source": [
    "# ==== Multiclass baseline (BEFORE any balancing) ====\n",
    "#import numpy as np, pandas as pd, gc\n",
    "#from sklearn.model_selection import train_test_split\n",
    "#from sklearn.preprocessing import LabelEncoder, StandardScaler\n",
    "#from sklearn.pipeline import Pipeline\n",
    "#from sklearn.metrics import classification_report, confusion_matrix, accuracy_score, precision_score, recall_score, f1_score\n",
    "#import tensorflow as tf\n",
    "\n",
    "# If these already exist above, this block will just reuse them.\n",
    "def ensure_labels_and_split(df, X=None, y=None, class_names=None, test_size=0.2, seed=42):\n",
    "    if X is None or y is None or class_names is None:\n",
    "        # X: keep the numeric features you used earlier (already cleaned)\n",
    "        # If you already have X, y, class_names defined, skip this.\n",
    "        # Here I assume df_edge_clean exists and has Attack_type.\n",
    "        X = df_edge_clean.drop(columns=['Attack_type'])\n",
    "        y_str = df_edge_clean['Attack_type'].astype(str).values\n",
    "        le = LabelEncoder()\n",
    "        y = le.fit_transform(y_str)\n",
    "        class_names = le.classes_\n",
    "    X_train, X_test, y_train, y_test = train_test_split(\n",
    "        X, y, stratify=y, test_size=test_size, random_state=seed\n",
    "    )\n",
    "    return X, y, class_names, X_train, X_test, y_train, y_test\n",
    "\n",
    "# evaluate_model must already be defined in your notebook (you showed it earlier).\n",
    "# If not, reuse your earlier evaluate_model with target_names=labels.\n",
    "\n",
    "# Ensure labels/splits exist\n",
    "X, y, class_names, X_train, X_test, y_train, y_test = ensure_labels_and_split(\n",
    "    df_edge_clean, X if 'X' in globals() else None,\n",
    "    y if 'y' in globals() else None,\n",
    "    class_names if 'class_names' in globals() else None\n",
    ")\n"
   ]
  },
  {
   "cell_type": "code",
   "execution_count": 6,
   "id": "6dca750d",
   "metadata": {},
   "outputs": [
    {
     "name": "stdout",
     "output_type": "stream",
     "text": [
      "GPU available: True | GPUs: [PhysicalDevice(name='/physical_device:GPU:0', device_type='GPU')]\n"
     ]
    }
   ],
   "source": [
    "# Float32 views to reduce RAM\n",
    "#X_train32 = np.asarray(X_train, dtype=np.float32)\n",
    "#X_test32  = np.asarray(X_test,  dtype=np.float32)\n",
    "#X_train32 = np.nan_to_num(X_train32, nan=0.0, posinf=0.0, neginf=0.0)\n",
    "#X_test32  = np.nan_to_num(X_test32,  nan=0.0, posinf=0.0, neginf=0.0)\n",
    "\n",
    "num_classes = len(class_names)\n",
    "\n",
    "# GPU check (for XGB and CNN)\n",
    "# GPU flag + safe memory-growth (won’t crash if already initialized)\n",
    "#import tensorflow as tf\n",
    "\n",
    "gpus = tf.config.list_physical_devices('GPU')\n",
    "use_gpu = len(gpus) > 0\n",
    "if use_gpu:\n",
    "    try:\n",
    "        for gpu in gpus:\n",
    "            # only try to set if not already enabled\n",
    "            if not tf.config.experimental.get_memory_growth(gpu):\n",
    "                tf.config.experimental.set_memory_growth(gpu, True)\n",
    "    except RuntimeError:\n",
    "        # Runtime already initialized; it's fine, continue\n",
    "        pass\n",
    "\n",
    "print(\"GPU available:\", use_gpu, \"| GPUs:\", gpus)"
   ]
  },
  {
   "cell_type": "code",
   "execution_count": 7,
   "id": "f5493592",
   "metadata": {},
   "outputs": [],
   "source": [
    "\n",
    "# class weights + per-sample weights\n",
    "classes = np.unique(y_train)\n",
    "cw_vals = compute_class_weight(class_weight=\"balanced\", classes=classes, y=y_train)\n",
    "class_weight_dict = {c: w for c, w in zip(classes, cw_vals)}\n",
    "sample_weight = np.array([class_weight_dict[c] for c in y_train])\n",
    "\n",
    "results_tab = []\n",
    "n_jobs = -1\n",
    "use_gpu = True  # or your detected flag\n"
   ]
  },
  {
   "cell_type": "code",
   "execution_count": null,
   "id": "501f08e8",
   "metadata": {},
   "outputs": [],
   "source": [
    "'''\n",
    "# XGB\n",
    "xgb_cw_42f = XGBClassifier(\n",
    "    objective='multi:softprob',\n",
    "    num_class=len(class_names),\n",
    "    eval_metric='mlogloss',\n",
    "    device='cuda' if use_gpu else 'cpu',\n",
    "    n_jobs=n_jobs,\n",
    "    random_state=42\n",
    ")\n",
    "xgb_cw_42f.fit(X_train32, y_train, sample_weight=sample_weight)\n",
    "y_xgb = xgb_cw_42f.predict(X_test32)\n",
    "results_tab.append(evaluate_model(\"XGBoost (class-weighted\" + (\" GPU)\" if use_gpu else \" CPU)\"),\n",
    "                                  y_test, y_xgb, labels=class_names))\n",
    "gc.collect()\n",
    "\n",
    "joblib.dump(xgb_cw_42f, \"xgb_cw_42f.pkl\")\n",
    "'''"
   ]
  },
  {
   "cell_type": "code",
   "execution_count": 8,
   "id": "37b3ac3b",
   "metadata": {},
   "outputs": [],
   "source": [
    "\n",
    "y_str = df_edge_clean[\"Attack_type\"].astype(str).values\n",
    "# Avoid shadowing old vars\n",
    "le = LabelEncoder()\n",
    "y_clean = le.fit_transform(df_edge_clean[\"Attack_type\"].astype(str))\n",
    "class_names = le.classes_\n",
    "\n",
    "X_clean = (\n",
    "    df_edge_clean\n",
    "    .drop(columns=[\"Attack_type\", \"Attack_label\"], errors=\"ignore\")\n",
    "    .select_dtypes(include=[np.number])\n",
    "    .fillna(0.0)\n",
    ")\n",
    "\n"
   ]
  },
  {
   "cell_type": "code",
   "execution_count": 9,
   "id": "902e3ff6",
   "metadata": {},
   "outputs": [
    {
     "name": "stdout",
     "output_type": "stream",
     "text": [
      "X shape: (2219201, 41)\n",
      "y shape: (2219201,)\n",
      "Number of classes: 15\n",
      "Classes: ['Backdoor' 'DDoS_HTTP' 'DDoS_ICMP' 'DDoS_TCP' 'DDoS_UDP' 'Fingerprinting'\n",
      " 'MITM' 'Normal' 'Password' 'Port_Scanning' 'Ransomware' 'SQL_injection'\n",
      " 'Uploading' 'Vulnerability_scanner' 'XSS']\n"
     ]
    }
   ],
   "source": [
    "print(\"X shape:\", X_clean.shape)\n",
    "print(\"y shape:\", y_str.shape)\n",
    "print(\"Number of classes:\", num_classes)\n",
    "print(\"Classes:\", class_names)\n"
   ]
  },
  {
   "cell_type": "code",
   "execution_count": 10,
   "id": "e90c391f",
   "metadata": {},
   "outputs": [],
   "source": [
    "X_train_clean, X_test_clean, y_train_clean, y_test_clean = train_test_split(\n",
    "    X_clean, y_clean, test_size=0.2, stratify=y_clean, random_state=42\n",
    ")\n"
   ]
  },
  {
   "cell_type": "code",
   "execution_count": 11,
   "id": "34a98d30",
   "metadata": {},
   "outputs": [],
   "source": [
    "# --- Prep: float32 views of the CLEAN splits ---\n",
    "import numpy as np\n",
    "X_train_clean32 = np.nan_to_num(np.asarray(X_train_clean, dtype=np.float32), nan=0.0, posinf=0.0, neginf=0.0)\n",
    "X_test_clean32  = np.nan_to_num(np.asarray(X_test_clean,  dtype=np.float32), nan=0.0, posinf=0.0, neginf=0.0)\n"
   ]
  },
  {
   "cell_type": "code",
   "execution_count": 12,
   "id": "f8636445",
   "metadata": {},
   "outputs": [
    {
     "name": "stderr",
     "output_type": "stream",
     "text": [
      "/home/aftab/Thesis/thesis-env/lib/python3.12/site-packages/xgboost/training.py:183: UserWarning: [23:24:00] WARNING: /workspace/src/common/error_msg.cc:27: The tree method `gpu_hist` is deprecated since 2.0.0. To use GPU training, set the `device` parameter to CUDA instead.\n",
      "\n",
      "    E.g. tree_method = \"hist\", device = \"cuda\"\n",
      "\n",
      "  bst.update(dtrain, iteration=i, fobj=obj)\n",
      "/home/aftab/Thesis/thesis-env/lib/python3.12/site-packages/xgboost/core.py:2676: UserWarning: [23:24:20] WARNING: /workspace/src/common/error_msg.cc:27: The tree method `gpu_hist` is deprecated since 2.0.0. To use GPU training, set the `device` parameter to CUDA instead.\n",
      "\n",
      "    E.g. tree_method = \"hist\", device = \"cuda\"\n",
      "\n",
      "  if len(data.shape) != 1 and self.num_features() != data.shape[1]:\n",
      "/home/aftab/Thesis/thesis-env/lib/python3.12/site-packages/xgboost/core.py:729: UserWarning: [23:24:20] WARNING: /workspace/src/common/error_msg.cc:58: Falling back to prediction using DMatrix due to mismatched devices. This might lead to higher memory usage and slower performance. XGBoost is running on: cuda:0, while the input data is on: cpu.\n",
      "Potential solutions:\n",
      "- Use a data structure that matches the device ordinal in the booster.\n",
      "- Set the device for booster before call to inplace_predict.\n",
      "\n",
      "This warning will only be shown once.\n",
      "\n",
      "  return func(**kwargs)\n"
     ]
    },
    {
     "name": "stdout",
     "output_type": "stream",
     "text": [
      "XGBoost (class-weighted GPU) — Classification Report:\n",
      "\n",
      "                       precision    recall  f1-score   support\n",
      "\n",
      "             Backdoor       0.99      0.94      0.97      4972\n",
      "            DDoS_HTTP       0.75      0.92      0.83      9982\n",
      "            DDoS_ICMP       1.00      1.00      1.00     23287\n",
      "             DDoS_TCP       1.00      1.00      1.00     10012\n",
      "             DDoS_UDP       1.00      1.00      1.00     24314\n",
      "       Fingerprinting       0.30      0.82      0.44       200\n",
      "                 MITM       0.12      1.00      0.22       243\n",
      "               Normal       1.00      0.98      0.99    323129\n",
      "             Password       0.75      0.79      0.77     10031\n",
      "        Port_Scanning       0.87      0.93      0.90      4513\n",
      "           Ransomware       0.89      0.87      0.88      2185\n",
      "        SQL_injection       0.86      0.84      0.85     10241\n",
      "            Uploading       0.94      0.85      0.89      7527\n",
      "Vulnerability_scanner       0.94      0.96      0.95     10022\n",
      "                  XSS       0.52      0.81      0.63      3183\n",
      "\n",
      "             accuracy                           0.97    443841\n",
      "            macro avg       0.80      0.92      0.82    443841\n",
      "         weighted avg       0.98      0.97      0.97    443841\n",
      "\n"
     ]
    },
    {
     "data": {
      "image/png": "[encoded data removed]",
      "text/plain": [
       "<Figure size 1000x800 with 2 Axes>"
      ]
     },
     "metadata": {},
     "output_type": "display_data"
    },
    {
     "ename": "NameError",
     "evalue": "name 'clf' is not defined",
     "output_type": "error",
     "traceback": [
      "\u001b[31m---------------------------------------------------------------------------\u001b[39m",
      "\u001b[31mNameError\u001b[39m                                 Traceback (most recent call last)",
      "\u001b[36mCell\u001b[39m\u001b[36m \u001b[39m\u001b[32mIn[12]\u001b[39m\u001b[32m, line 50\u001b[39m\n\u001b[32m     48\u001b[39m \u001b[38;5;66;03m# Save the trained XGB model (correct object)\u001b[39;00m\n\u001b[32m     49\u001b[39m joblib.dump(xgb_cw_42f_LLf, \u001b[33m\"\u001b[39m\u001b[33mxgb_cw_42f_LLf.pkl\u001b[39m\u001b[33m\"\u001b[39m)\n\u001b[32m---> \u001b[39m\u001b[32m50\u001b[39m \u001b[43mclf\u001b[49m.save_model(\u001b[33m\"\u001b[39m\u001b[33mxgb_cw_42f_LLf.json\u001b[39m\u001b[33m\"\u001b[39m)  \n\u001b[32m     51\u001b[39m gc.collect()\n",
      "\u001b[31mNameError\u001b[39m: name 'clf' is not defined"
     ]
    }
   ],
   "source": [
    "\n",
    "# === Class weights + XGBoost training (CLEAN splits) ===\n",
    "\n",
    "# Recompute balanced class weights from y_train_clean (avoid stale globals)\n",
    "classes_unique = np.unique(y_train_clean)\n",
    "cw = compute_class_weight(class_weight='balanced', classes=classes_unique, y=y_train_clean)\n",
    "class_weight_dict = {int(c): float(w) for c, w in zip(classes_unique, cw)}\n",
    "\n",
    "# Per-sample weights for XGBoost (labels assumed 0..K-1 from LabelEncoder)\n",
    "class_weights_array = np.zeros(classes_unique.max() + 1, dtype=np.float32)\n",
    "class_weights_array[classes_unique] = cw.astype(np.float32)\n",
    "sample_weight_clean = class_weights_array[y_train_clean]\n",
    "\n",
    "# Detect GPU (simple toggle; set to False if you want CPU)\n",
    "try:\n",
    "    import tensorflow as tf\n",
    "    use_gpu = len(tf.config.list_physical_devices('GPU')) > 0\n",
    "except Exception:\n",
    "    use_gpu = False\n",
    "\n",
    "# Build XGBoost model (GPU uses gpu_hist; CPU uses hist)\n",
    "tree_method = 'gpu_hist' if use_gpu else 'hist'\n",
    "xgb_cw_42f_LLf = XGBClassifier(\n",
    "    objective='multi:softprob',\n",
    "    num_class=len(class_names),\n",
    "    eval_metric='mlogloss',\n",
    "    tree_method=tree_method,\n",
    "    n_jobs=n_jobs,\n",
    "    random_state=42\n",
    ")\n",
    "\n",
    "# Train (on CLEAN splits)\n",
    "xgb_cw_42f_LLf.fit(\n",
    "    X_train_clean32, y_train_clean,\n",
    "    sample_weight=sample_weight_clean,\n",
    "    eval_set=[(X_test_clean32, y_test_clean)],\n",
    "    verbose=False\n",
    ")\n",
    "\n",
    "# Predict + evaluate (CLEAN test)\n",
    "y_xgb_clean = xgb_cw_42f_LLf.predict(X_test_clean32)\n",
    "results_tab.append(\n",
    "    evaluate_model(\n",
    "        \"XGBoost (class-weighted\" + (\" GPU)\" if use_gpu else \" CPU)\"),\n",
    "        y_test_clean, y_xgb_clean, labels=class_names\n",
    "    )\n",
    ")\n",
    "\n",
    "# Save the trained XGB model (correct object)\n",
    "joblib.dump(xgb_cw_42f_LLf, \"xgb_cw_42f_LLf.pkl\")\n",
    "gc.collect()\n"
   ]
  },
  {
   "cell_type": "code",
   "execution_count": 47,
   "id": "88f57b02",
   "metadata": {},
   "outputs": [
    {
     "name": "stdout",
     "output_type": "stream",
     "text": [
      "Saved xgb_cw_42f_LLf.json\n"
     ]
    },
    {
     "name": "stderr",
     "output_type": "stream",
     "text": [
      "/tmp/ipykernel_33276/1416402355.py:2: UserWarning: [01:18:16] WARNING: /workspace/src/common/error_msg.cc:27: The tree method `gpu_hist` is deprecated since 2.0.0. To use GPU training, set the `device` parameter to CUDA instead.\n",
      "\n",
      "    E.g. tree_method = \"hist\", device = \"cuda\"\n",
      "\n",
      "  bst.save_model(\"xgb_cw_42f_LLf.json\")\n"
     ]
    }
   ],
   "source": [
    "bst = joblib.load(\"xgb_cw_42f_LLf.pkl\").get_booster()\n",
    "bst.save_model(\"xgb_cw_42f_LLf.json\")\n",
    "print(\"Saved xgb_cw_42f_LLf.json\")\n"
   ]
  },
  {
   "cell_type": "code",
   "execution_count": 14,
   "id": "a7567b95",
   "metadata": {},
   "outputs": [
    {
     "name": "stdout",
     "output_type": "stream",
     "text": [
      "\n",
      "🔎 Testing index 20\n",
      "Input features (41):\n",
      "[0.00000000e+00 0.00000000e+00 0.00000000e+00 0.00000000e+00\n",
      " 0.00000000e+00 0.00000000e+00 0.00000000e+00 0.00000000e+00\n",
      " 0.00000000e+00 1.00000000e+00 2.01604771e+08 2.72790000e+04\n",
      " 0.00000000e+00 0.00000000e+00 0.00000000e+00 1.00000000e+00\n",
      " 5.48920000e+04 1.80000000e+01 1.00000000e+00 0.00000000e+00\n",
      " 0.00000000e+00 0.00000000e+00 0.00000000e+00 0.00000000e+00\n",
      " 0.00000000e+00 0.00000000e+00 0.00000000e+00 0.00000000e+00\n",
      " 0.00000000e+00 0.00000000e+00 0.00000000e+00 0.00000000e+00\n",
      " 0.00000000e+00 0.00000000e+00 0.00000000e+00 0.00000000e+00\n",
      " 0.00000000e+00 0.00000000e+00 0.00000000e+00 0.00000000e+00\n",
      " 0.00000000e+00]\n",
      "\n",
      "✅ True label : Normal\n",
      "🤖 Predicted  : Password (encoded=8)\n",
      "🔢 Top class probability: 0.4797\n"
     ]
    }
   ],
   "source": [
    "import joblib\n",
    "import numpy as np\n",
    "\n",
    "# Load the saved model\n",
    "clf_xgb = joblib.load(\"xgb_cw_42f_LLf.pkl\")\n",
    "\n",
    "# Pick index 33 from the test set\n",
    "idx = 20\n",
    "\n",
    "# Extract the row (make sure it's 2D for predict)\n",
    "row = X_test_clean.iloc[[idx]]\n",
    "true_label_encoded = y_test_clean[idx]\n",
    "\n",
    "# Decode the true label name\n",
    "true_label = class_names[true_label_encoded]\n",
    "\n",
    "# Predict using the loaded model\n",
    "pred_encoded = clf_xgb.predict(row)[0]\n",
    "pred_label = class_names[pred_encoded]\n",
    "\n",
    "# Optional: prediction probabilities\n",
    "probs = clf_xgb.predict_proba(row)[0]\n",
    "top_class = class_names[np.argmax(probs)]\n",
    "top_conf  = np.max(probs)\n",
    "\n",
    "print(f\"\\n🔎 Testing index {idx}\")\n",
    "print(f\"Input features ({row.shape[1]}):\\n{row.values.flatten()}\\n\")\n",
    "print(f\"✅ True label : {true_label}\")\n",
    "print(f\"🤖 Predicted  : {pred_label} (encoded={pred_encoded})\")\n",
    "print(f\"🔢 Top class probability: {top_conf:.4f}\")\n"
   ]
  },
  {
   "cell_type": "code",
   "execution_count": 15,
   "id": "77220a67",
   "metadata": {},
   "outputs": [
    {
     "data": {
      "text/html": [
       "<div>\n",
       "<style scoped>\n",
       "    .dataframe tbody tr th:only-of-type {\n",
       "        vertical-align: middle;\n",
       "    }\n",
       "\n",
       "    .dataframe tbody tr th {\n",
       "        vertical-align: top;\n",
       "    }\n",
       "\n",
       "    .dataframe thead th {\n",
       "        text-align: right;\n",
       "    }\n",
       "</style>\n",
       "<table border=\"1\" class=\"dataframe\">\n",
       "  <thead>\n",
       "    <tr style=\"text-align: right;\">\n",
       "      <th></th>\n",
       "      <th>arp.opcode</th>\n",
       "      <th>arp.hw.size</th>\n",
       "      <th>icmp.checksum</th>\n",
       "      <th>icmp.seq_le</th>\n",
       "      <th>icmp.transmit_timestamp</th>\n",
       "      <th>icmp.unused</th>\n",
       "      <th>http.content_length</th>\n",
       "      <th>http.response</th>\n",
       "      <th>http.tls_port</th>\n",
       "      <th>tcp.ack</th>\n",
       "      <th>...</th>\n",
       "      <th>mqtt.hdrflags</th>\n",
       "      <th>mqtt.len</th>\n",
       "      <th>mqtt.msg_decoded_as</th>\n",
       "      <th>mqtt.msgtype</th>\n",
       "      <th>mqtt.proto_len</th>\n",
       "      <th>mqtt.topic_len</th>\n",
       "      <th>mqtt.ver</th>\n",
       "      <th>mbtcp.len</th>\n",
       "      <th>mbtcp.trans_id</th>\n",
       "      <th>mbtcp.unit_id</th>\n",
       "    </tr>\n",
       "  </thead>\n",
       "  <tbody>\n",
       "    <tr>\n",
       "      <th>1258764</th>\n",
       "      <td>0.0</td>\n",
       "      <td>0.0</td>\n",
       "      <td>0.0</td>\n",
       "      <td>0.0</td>\n",
       "      <td>0.0</td>\n",
       "      <td>0.0</td>\n",
       "      <td>0.0</td>\n",
       "      <td>0.0</td>\n",
       "      <td>0.0</td>\n",
       "      <td>1.0</td>\n",
       "      <td>...</td>\n",
       "      <td>0.0</td>\n",
       "      <td>0.0</td>\n",
       "      <td>0.0</td>\n",
       "      <td>0.0</td>\n",
       "      <td>0.0</td>\n",
       "      <td>0.0</td>\n",
       "      <td>0.0</td>\n",
       "      <td>0.0</td>\n",
       "      <td>0.0</td>\n",
       "      <td>0.0</td>\n",
       "    </tr>\n",
       "  </tbody>\n",
       "</table>\n",
       "<p>1 rows × 41 columns</p>\n",
       "</div>"
      ],
      "text/plain": [
       "         arp.opcode  arp.hw.size  icmp.checksum  icmp.seq_le  \\\n",
       "1258764         0.0          0.0            0.0          0.0   \n",
       "\n",
       "         icmp.transmit_timestamp  icmp.unused  http.content_length  \\\n",
       "1258764                      0.0          0.0                  0.0   \n",
       "\n",
       "         http.response  http.tls_port  tcp.ack  ...  mqtt.hdrflags  mqtt.len  \\\n",
       "1258764            0.0            0.0      1.0  ...            0.0       0.0   \n",
       "\n",
       "         mqtt.msg_decoded_as  mqtt.msgtype  mqtt.proto_len  mqtt.topic_len  \\\n",
       "1258764                  0.0           0.0             0.0             0.0   \n",
       "\n",
       "         mqtt.ver  mbtcp.len  mbtcp.trans_id  mbtcp.unit_id  \n",
       "1258764       0.0        0.0             0.0            0.0  \n",
       "\n",
       "[1 rows x 41 columns]"
      ]
     },
     "execution_count": 15,
     "metadata": {},
     "output_type": "execute_result"
    }
   ],
   "source": [
    "row"
   ]
  },
  {
   "cell_type": "code",
   "execution_count": 16,
   "id": "a054aeec",
   "metadata": {},
   "outputs": [
    {
     "name": "stdout",
     "output_type": "stream",
     "text": [
      "Features in row: 41\n",
      "static const float TEST_20[41] = { 0f, 0f, 0f, 0f, 0f, 0f, 0f, 0f, 0f, 1f, 201604768f, 27279f, 0f, 0f, 0f, 1f, 54892f, 18f, 1f, 0f, 0f, 0f, 0f, 0f, 0f, 0f, 0f, 0f, 0f, 0f, 0f, 0f, 0f, 0f, 0f, 0f, 0f, 0f, 0f, 0f, 0f };\n",
      "\n",
      "PC says: class_id=8  name=Password  p=0.4797\n"
     ]
    }
   ],
   "source": [
    "# --- Make C init lines for a given test index (e.g., 33) ---\n",
    "vals = row.values.flatten().astype(np.float32)\n",
    "cols = list(X_test_clean.columns)\n",
    "\n",
    "# sanity: feature count must match what TL2cgen reports on-device\n",
    "print(f\"Features in row: {len(cols)}\")\n",
    "#print(\"First few (name=value):\", list(zip(cols, vals))[:5], \"...\")\n",
    "\n",
    "# 1) C assignments for union Entry buffer\n",
    "#print(\"\\n// --- paste into main.c to fill xbuf[i].fvalue ---\")\n",
    "#for i, (c, v) in enumerate(zip(cols, vals)):\n",
    "    # %.10g prints compactly but still precise; add 'f' suffix for float literal\n",
    "#    print(f\"  xbuf[{i}].fvalue = {v:.10g}f;  // {c}\")\n",
    "\n",
    "# 2) Optional: C float array if you prefer a memcpy/loop\n",
    "#print(\"\\n// --- or use a float array then copy into xbuf ---\")\n",
    "arr = \", \".join(f\"{v:.10g}f\" for v in vals)\n",
    "print(f\"static const float TEST_{idx}[{len(vals)}] = {{ {arr} }};\")\n",
    "\n",
    "# 3) Quick check against your PC prediction (so board output can be compared)\n",
    "pred = clf_xgb.predict(row)[0]\n",
    "probs = clf_xgb.predict_proba(row)[0]\n",
    "print(f\"\\nPC says: class_id={pred}  name={class_names[pred]}  p={probs[pred]:.4f}\")\n"
   ]
  },
  {
   "cell_type": "code",
   "execution_count": null,
   "id": "aa6bc632",
   "metadata": {},
   "outputs": [],
   "source": []
  },
  {
   "cell_type": "code",
   "execution_count": null,
   "id": "dcd16cb7",
   "metadata": {},
   "outputs": [],
   "source": []
  },
  {
   "cell_type": "markdown",
   "id": "1db08562",
   "metadata": {},
   "source": [
    "## XGBoost Feature importance"
   ]
  },
  {
   "cell_type": "code",
   "execution_count": null,
   "id": "3dac5b2a",
   "metadata": {},
   "outputs": [],
   "source": []
  },
  {
   "cell_type": "code",
   "execution_count": null,
   "id": "cc22319d",
   "metadata": {},
   "outputs": [],
   "source": []
  },
  {
   "cell_type": "code",
   "execution_count": null,
   "id": "6f921811",
   "metadata": {},
   "outputs": [],
   "source": []
  },
  {
   "cell_type": "code",
   "execution_count": 54,
   "id": "fb9b3582",
   "metadata": {},
   "outputs": [
    {
     "name": "stdout",
     "output_type": "stream",
     "text": [
      "Treelite: 4.4.1\n",
      "TL2cgen: 1.0.0\n",
      "[02:07:00] /project/src/compiler/ast/split.cc:35: Parallel compilation enabled; member trees will be divided into 32 translation units.\n",
      "✅ Export done -> /home/aftab/Thesis/xgb_42f_srcpkg.zip\n"
     ]
    },
    {
     "name": "stderr",
     "output_type": "stream",
     "text": [
      "[02:07:00] /tmp/tmpfk5q71dd/libbuild/_deps/treelite-src/src/serializer.cc:202: The model you are loading originated from a newer Treelite version; some functionalities may be unavailable.\n",
      "Currently running Treelite version 4.1.2\n",
      "The model checkpoint was generated from Treelite version 4.4.1\n"
     ]
    }
   ],
   "source": [
    "import os\n",
    "import xgboost as xgb\n",
    "import treelite, tl2cgen\n",
    "\n",
    "print(\"Treelite:\", treelite.__version__)\n",
    "print(\"TL2cgen:\", tl2cgen.__version__)\n",
    "\n",
    "# 1) Load your JSON model\n",
    "bst = xgb.Booster()\n",
    "bst.load_model(\"xgb_cw_42f_LLf.json\")\n",
    "\n",
    "# 2) Convert to Treelite model\n",
    "tl_model = treelite.Model.from_xgboost(bst)\n",
    "\n",
    "# 3) Export C source package (NO pred_transform here)\n",
    "out_zip = \"./xgb_42f_srcpkg.zip\"\n",
    "tl2cgen.export_srcpkg(\n",
    "    model=tl_model,\n",
    "    toolchain=\"gcc\",\n",
    "    pkgpath=out_zip,\n",
    "    libname=\"xgb_42f\",\n",
    "    params={\"parallel_comp\": 32},   # optional speed-up for codegen\n",
    "    verbose=True\n",
    ")\n",
    "\n",
    "print(\"✅ Export done ->\", os.path.abspath(out_zip))\n"
   ]
  },
  {
   "cell_type": "code",
   "execution_count": 50,
   "id": "97d503ba",
   "metadata": {},
   "outputs": [],
   "source": [
    "\n"
   ]
  },
  {
   "cell_type": "code",
   "execution_count": null,
   "id": "f99d7c9c",
   "metadata": {},
   "outputs": [],
   "source": []
  },
  {
   "cell_type": "code",
   "execution_count": null,
   "id": "e11c4090",
   "metadata": {},
   "outputs": [],
   "source": []
  },
  {
   "cell_type": "code",
   "execution_count": null,
   "id": "62e986d9",
   "metadata": {},
   "outputs": [],
   "source": []
  },
  {
   "cell_type": "code",
   "execution_count": null,
   "id": "d575cced",
   "metadata": {},
   "outputs": [],
   "source": []
  },
  {
   "cell_type": "code",
   "execution_count": 16,
   "id": "4cfbbdcb",
   "metadata": {},
   "outputs": [
    {
     "name": "stdout",
     "output_type": "stream",
     "text": [
      "\n",
      "Top 20 features by importance:\n",
      "                  Feature  Importance  Normalized\n",
      "31          mqtt.hdrflags    0.302619    0.302619\n",
      "22             udp.stream    0.220717    0.220717\n",
      "6     http.content_length    0.152425    0.152425\n",
      "9                 tcp.ack    0.052487    0.052487\n",
      "3             icmp.seq_le    0.041925    0.041925\n",
      "13     tcp.connection.rst    0.041356    0.041356\n",
      "17              tcp.flags    0.035073    0.035073\n",
      "19                tcp.len    0.034322    0.034322\n",
      "20                tcp.seq    0.025796    0.025796\n",
      "16            tcp.dstport    0.023053    0.023053\n",
      "0              arp.opcode    0.021460    0.021460\n",
      "14     tcp.connection.syn    0.017862    0.017862\n",
      "2           icmp.checksum    0.011685    0.011685\n",
      "15  tcp.connection.synack    0.007793    0.007793\n",
      "10            tcp.ack_raw    0.004579    0.004579\n",
      "12     tcp.connection.fin    0.002842    0.002842\n",
      "21               udp.port    0.001551    0.001551\n",
      "7           http.response    0.001452    0.001452\n",
      "11           tcp.checksum    0.000414    0.000414\n",
      "38              mbtcp.len    0.000251    0.000251\n"
     ]
    },
    {
     "name": "stderr",
     "output_type": "stream",
     "text": [
      "/home/aftab/Thesis/thesis-env/lib/python3.12/site-packages/xgboost/sklearn.py:1478: UserWarning: [23:26:32] WARNING: /workspace/src/common/error_msg.cc:27: The tree method `gpu_hist` is deprecated since 2.0.0. To use GPU training, set the `device` parameter to CUDA instead.\n",
      "\n",
      "    E.g. tree_method = \"hist\", device = \"cuda\"\n",
      "\n",
      "  score = b.get_score(\n"
     ]
    },
    {
     "data": {
      "image/png": "[encoded data removed]",
      "text/plain": [
       "<Figure size 1000x600 with 1 Axes>"
      ]
     },
     "metadata": {},
     "output_type": "display_data"
    },
    {
     "name": "stdout",
     "output_type": "stream",
     "text": [
      "\n",
      "Model file size: 3.13 MB\n"
     ]
    }
   ],
   "source": [
    "# Load saved XGBoost model\n",
    "clf_xgb = joblib.load(\"xgb_cw_42f_LLf.pkl\")\n",
    "\n",
    "# --- 1) Feature Importances ---\n",
    "xgb_importances = clf_xgb.feature_importances_\n",
    "\n",
    "feat_imp_df = pd.DataFrame({\n",
    "    \"Feature\": X_train_clean.columns,    # use same feature order from training\n",
    "    \"Importance\": xgb_importances\n",
    "}).sort_values(by=\"Importance\", ascending=False)\n",
    "\n",
    "feat_imp_df[\"Normalized\"] = feat_imp_df[\"Importance\"] / feat_imp_df[\"Importance\"].sum()\n",
    "\n",
    "print(\"\\nTop 20 features by importance:\")\n",
    "print(feat_imp_df.head(20))\n",
    "\n",
    "# Plot\n",
    "plt.figure(figsize=(10,6))\n",
    "plt.barh(feat_imp_df[\"Feature\"].head(20), feat_imp_df[\"Normalized\"].head(20))\n",
    "plt.gca().invert_yaxis()\n",
    "plt.title(\"Top 20 Feature Importances (XGBoost)\")\n",
    "plt.show()\n",
    "\n",
    "# --- 2) Check model file size ---\n",
    "file_path = \"xgb_cw_42f_LLf.pkl\"\n",
    "file_size_MB = os.path.getsize(file_path) / (1024 * 1024)\n",
    "print(f\"\\nModel file size: {file_size_MB:.2f} MB\")\n"
   ]
  },
  {
   "cell_type": "code",
   "execution_count": null,
   "id": "9df93984",
   "metadata": {},
   "outputs": [],
   "source": []
  },
  {
   "cell_type": "code",
   "execution_count": null,
   "id": "f45bd9f2",
   "metadata": {},
   "outputs": [],
   "source": []
  },
  {
   "cell_type": "code",
   "execution_count": null,
   "id": "b31fb410",
   "metadata": {},
   "outputs": [],
   "source": []
  },
  {
   "cell_type": "markdown",
   "id": "badd2a04",
   "metadata": {},
   "source": [
    "## 20 Feature XGBoost"
   ]
  },
  {
   "cell_type": "code",
   "execution_count": null,
   "id": "ff650431",
   "metadata": {},
   "outputs": [],
   "source": [
    "# --- Get Top 20 feature names ---\n",
    "top20_features = feat_imp_df[\"Feature\"].head(20).tolist()\n",
    "print(\"Top 20 Features:\", top20_features)\n",
    "\n",
    "# --- Create reduced train/test sets ---\n",
    "X_train_20 = X_train[top20_features]\n",
    "X_test_20 = X_test[top20_features]\n",
    "\n",
    "# --- Retrain XGBoost ---\n",
    "xgb_cw_20f = XGBClassifier(\n",
    "    objective='multi:softprob',\n",
    "    num_class=len(class_names),\n",
    "    eval_metric='mlogloss',\n",
    "    tree_method='gpu_hist' if use_gpu else 'hist',\n",
    "    predictor='gpu_predictor' if use_gpu else 'auto',\n",
    "    random_state=42\n",
    ")\n",
    "\n",
    "xgb_cw_20f.fit(X_train_20, y_train)\n",
    "\n",
    "# --- Save model ---\n",
    "joblib.dump(xgb_cw_20f, \"xgb_cw_20f.pkl\")\n",
    "\n",
    "# --- Report size ---\n",
    "size_mb = os.path.getsize(\"xgb_cw_20f.pkl\") / (1024*1024)\n",
    "print(f\"Saved xgb_cw_20f.pkl — size: {size_mb:.2f} MB\")\n",
    "\n",
    "# --- Evaluate quickly ---\n",
    "y_pred_20 = xgb_cw_20f.predict(X_test_20)\n",
    "print(classification_report(y_test, y_pred_20, target_names=class_names))"
   ]
  },
  {
   "cell_type": "code",
   "execution_count": 19,
   "id": "c55192df",
   "metadata": {},
   "outputs": [],
   "source": [
    "xgb_cw_20f.save_model(\"xgb_cw_20f.json\") "
   ]
  },
  {
   "cell_type": "markdown",
   "id": "84350dcb",
   "metadata": {},
   "source": [
    "## Top 10 Feature"
   ]
  },
  {
   "cell_type": "code",
   "execution_count": 20,
   "id": "8613705e",
   "metadata": {},
   "outputs": [
    {
     "name": "stdout",
     "output_type": "stream",
     "text": [
      "Top 10 Features: ['mqtt.hdrflags', 'udp.stream', 'http.content_length', 'tcp.ack', 'icmp.seq_le', 'tcp.connection.rst', 'tcp.flags', 'tcp.len', 'tcp.seq', 'tcp.dstport']\n"
     ]
    },
    {
     "name": "stderr",
     "output_type": "stream",
     "text": [
      "/home/aftab/Thesis/thesis-env/lib/python3.12/site-packages/xgboost/training.py:183: UserWarning: [23:33:55] WARNING: /workspace/src/common/error_msg.cc:27: The tree method `gpu_hist` is deprecated since 2.0.0. To use GPU training, set the `device` parameter to CUDA instead.\n",
      "\n",
      "    E.g. tree_method = \"hist\", device = \"cuda\"\n",
      "\n",
      "  bst.update(dtrain, iteration=i, fobj=obj)\n",
      "/home/aftab/Thesis/thesis-env/lib/python3.12/site-packages/xgboost/training.py:183: UserWarning: [23:33:55] WARNING: /workspace/src/learner.cc:738: \n",
      "Parameters: { \"predictor\" } are not used.\n",
      "\n",
      "  bst.update(dtrain, iteration=i, fobj=obj)\n"
     ]
    },
    {
     "name": "stdout",
     "output_type": "stream",
     "text": [
      "Saved xgb_cw_10f.pkl — size: 2.46 MB\n",
      "                       precision    recall  f1-score   support\n",
      "\n",
      "             Backdoor       0.97      0.96      0.96      4972\n",
      "            DDoS_HTTP       0.75      0.92      0.83      9982\n",
      "            DDoS_ICMP       1.00      1.00      1.00     23287\n",
      "             DDoS_TCP       1.00      1.00      1.00     10012\n",
      "             DDoS_UDP       0.99      1.00      1.00     24314\n",
      "       Fingerprinting       1.00      0.17      0.29       200\n",
      "                 MITM       1.00      0.32      0.49       243\n",
      "               Normal       0.99      1.00      1.00    323129\n",
      "             Password       0.80      0.82      0.81     10031\n",
      "        Port_Scanning       1.00      0.88      0.94      4513\n",
      "           Ransomware       0.97      0.77      0.86      2185\n",
      "        SQL_injection       0.91      0.78      0.84     10241\n",
      "            Uploading       0.95      0.86      0.90      7527\n",
      "Vulnerability_scanner       0.99      0.95      0.97     10022\n",
      "                  XSS       0.98      0.69      0.81      3183\n",
      "\n",
      "             accuracy                           0.98    443841\n",
      "            macro avg       0.95      0.81      0.85    443841\n",
      "         weighted avg       0.98      0.98      0.98    443841\n",
      "\n"
     ]
    },
    {
     "name": "stderr",
     "output_type": "stream",
     "text": [
      "/usr/lib/python3.12/pickle.py:572: UserWarning: [23:34:03] WARNING: /workspace/src/common/error_msg.cc:27: The tree method `gpu_hist` is deprecated since 2.0.0. To use GPU training, set the `device` parameter to CUDA instead.\n",
      "\n",
      "    E.g. tree_method = \"hist\", device = \"cuda\"\n",
      "\n",
      "  rv = reduce(self.proto)\n"
     ]
    }
   ],
   "source": [
    "# --- Get Top 10 feature names ---\n",
    "top10_features = feat_imp_df[\"Feature\"].head(10).tolist()\n",
    "print(\"Top 10 Features:\", top10_features)\n",
    "\n",
    "# --- Create reduced train/test sets ---\n",
    "X_train_10 = X_train[top10_features]\n",
    "X_test_10  = X_test[top10_features]\n",
    "\n",
    "# --- Retrain XGBoost ---\n",
    "xgb_cw_10f = XGBClassifier(\n",
    "    objective='multi:softprob',\n",
    "    num_class=len(class_names),\n",
    "    eval_metric='mlogloss',\n",
    "    tree_method='gpu_hist' if use_gpu else 'hist',\n",
    "    predictor='gpu_predictor' if use_gpu else 'auto',\n",
    "    random_state=42\n",
    ")\n",
    "\n",
    "xgb_cw_10f.fit(X_train_10, y_train)\n",
    "\n",
    "# --- Save model ---\n",
    "joblib.dump(xgb_cw_10f, \"xgb_cw_10f.pkl\")\n",
    "\n",
    "# --- Report size ---\n",
    "size_mb = os.path.getsize(\"xgb_cw_10f.pkl\") / (1024*1024)\n",
    "print(f\"Saved xgb_cw_10f.pkl — size: {size_mb:.2f} MB\")\n",
    "\n",
    "# --- Evaluate quickly ---\n",
    "y_pred_10 = xgb_cw_10f.predict(X_test_10)\n",
    "print(classification_report(y_test, y_pred_10, target_names=class_names))\n"
   ]
  },
  {
   "cell_type": "code",
   "execution_count": 21,
   "id": "2a3eb570",
   "metadata": {},
   "outputs": [],
   "source": [
    "xgb_cw_10f.save_model(\"xgb_cw_10f.json\") "
   ]
  },
  {
   "cell_type": "code",
   "execution_count": null,
   "id": "b11ab0da",
   "metadata": {},
   "outputs": [],
   "source": []
  }
 ],
 "metadata": {
  "kernelspec": {
   "display_name": "Python (thesis-env)",
   "language": "python",
   "name": "thesis-env"
  },
  "language_info": {
   "codemirror_mode": {
    "name": "ipython",
    "version": 3
   },
   "file_extension": ".py",
   "mimetype": "text/x-python",
   "name": "python",
   "nbconvert_exporter": "python",
   "pygments_lexer": "ipython3",
   "version": "3.12.3"
  }
 },
 "nbformat": 4,
 "nbformat_minor": 5
}
